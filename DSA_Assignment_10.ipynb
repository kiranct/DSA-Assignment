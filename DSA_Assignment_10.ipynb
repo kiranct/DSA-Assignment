{
 "cells": [
  {
   "cell_type": "raw",
   "id": "1d66b077",
   "metadata": {},
   "source": [
    "# 1).Given an integer `n`, return `true` if it is a power of three. Otherwise, return `false`.\n",
    "    An integer `n` is a power of three, if there exists an integer `x` such that `n == 3x`.\n",
    "\n",
    "Example 1:\n",
    "        Input: n = 27\n",
    "        Output: true\n",
    "        Explanation: 27 = 33\n",
    "Example 2:\n",
    "        Input: n = 0\n",
    "        Output: false\n",
    "        Explanation: There is no x where 3x = 0.\n",
    "Example 3:\n",
    "        Input: n = -1\n",
    "        Output: false\n",
    "        Explanation: There is no x where 3x = (-1)."
   ]
  },
  {
   "cell_type": "code",
   "execution_count": 9,
   "id": "00440eb9",
   "metadata": {},
   "outputs": [
    {
     "name": "stdout",
     "output_type": "stream",
     "text": [
      "True\n",
      " \n",
      "False\n"
     ]
    },
    {
     "data": {
      "text/plain": [
       "False"
      ]
     },
     "execution_count": 9,
     "metadata": {},
     "output_type": "execute_result"
    }
   ],
   "source": [
    "def isPower_of_Three(n):\n",
    " \n",
    "    if (n <= 0):\n",
    "        return False\n",
    "    if (n % 3 == 0):\n",
    "        return isPower_of_Three(n // 3)\n",
    "    if (n == 1):\n",
    "        return True\n",
    "    return False\n",
    "n=27\n",
    "print(isPower_of_Three(n))\n",
    "print(\" \")\n",
    "n=0\n",
    "print(isPower_of_Three(n))\n",
    "n=-1\n",
    "isPower_of_Three(n)"
   ]
  },
  {
   "cell_type": "raw",
   "id": "d83f9d58",
   "metadata": {},
   "source": [
    "2).You have a list `arr` of all integers in the range `[1, n]` sorted in a strictly increasing order. \n",
    "    Apply the following algorithm on `arr`:\n",
    "    - Starting from left to right, remove the first number and every other number afterward until you reach the end of the list.\n",
    "    - Repeat the previous step again, but this time from right to left, remove the rightmost number and every other number \n",
    "        from the remaining numbers.\n",
    "    - Keep repeating the steps again, alternating left to right and right to left, until a single number remains.\n",
    "    Given the integer `n`, return *the last number that remains in* `arr`.\n",
    "\n",
    "Example 1:\n",
    "    Input: n = 9\n",
    "    Output: 6\n",
    "    Explanation:\n",
    "    arr = [1, 2,3, 4,5, 6,7, 8,9]\n",
    "    arr = [2,4, 6,8]\n",
    "    arr = [2, 6]\n",
    "    arr = [6]\n",
    "Example 2:\n",
    "    Input: n = 1\n",
    "    Output: 1"
   ]
  },
  {
   "cell_type": "code",
   "execution_count": 14,
   "id": "76ff2633",
   "metadata": {},
   "outputs": [
    {
     "name": "stdout",
     "output_type": "stream",
     "text": [
      "6\n",
      "1\n"
     ]
    }
   ],
   "source": [
    "class Solution:\n",
    "    def lastRemaining(self, n: int) -> int:\n",
    "        head = 1\n",
    "        step = 1\n",
    "        rem = n\n",
    "        left = 1\n",
    "        while rem > 1:\n",
    "            if left or rem % 2 == 1:\n",
    "                head += step\n",
    "            step *= 2\n",
    "            left = not left\n",
    "            rem //= 2\n",
    "        return head\n",
    "\n",
    "if __name__ == \"__main__\":\n",
    "    ob = Solution()\n",
    "    print(ob.lastRemaining(9))\n",
    "    print(ob.lastRemaining(1))"
   ]
  },
  {
   "cell_type": "raw",
   "id": "22f9413e",
   "metadata": {},
   "source": [
    "3). Given a set represented as a string, write a recursive code to print all subsets of it. The subsets can be printed in \n",
    "    any order.\n",
    "\n",
    "Example 1:\n",
    "        Input :  set = “abc”\n",
    "        Output : { “”, “a”, “b”, “c”, “ab”, “ac”, “bc”, “abc”}\n",
    "Example 2:\n",
    "        Input : set = “abcd”\n",
    "        Output : { “”, “a” ,”ab” ,”abc” ,”abcd”, “abd” ,”ac” ,”acd”, “ad” ,”b”, “bc” ,”bcd” ,”bd” ,”c” ,”cd” ,”d” }"
   ]
  },
  {
   "cell_type": "code",
   "execution_count": 41,
   "id": "4f7a23eb",
   "metadata": {},
   "outputs": [
    {
     "name": "stdout",
     "output_type": "stream",
     "text": [
      "abc\n",
      "ab\n",
      "ac\n",
      "a\n",
      "bc\n",
      "b\n",
      "c\n",
      "\n",
      "abcd\n",
      "abc\n",
      "abd\n",
      "ab\n",
      "acd\n",
      "ac\n",
      "ad\n",
      "a\n",
      "bcd\n",
      "bc\n",
      "bd\n",
      "b\n",
      "cd\n",
      "c\n",
      "d\n",
      "\n"
     ]
    }
   ],
   "source": [
    "def powerSet(string, index, curr):\n",
    "    if index == len(string):\n",
    "        print(curr)\n",
    "        return\n",
    "    powerSet(string, index + 1,\n",
    "             curr + string[index])\n",
    "    powerSet(string, index + 1, curr)\n",
    " \n",
    "if __name__ == \"__main__\":\n",
    " \n",
    "    s = \"abc\"\n",
    "    powerSet(s, index, curr)\n",
    "    \n",
    "    s = \"abcd\"\n",
    "    powerSet(s, index, curr)"
   ]
  },
  {
   "cell_type": "raw",
   "id": "0b2651cb",
   "metadata": {},
   "source": [
    "4).Given a string calculate length of the string using recursion.\n",
    "\n",
    "Examples:\n",
    "    Input : str = \"abcd\"\n",
    "    Output :4\n",
    "\n",
    "    Input : str = \"GEEKSFORGEEKS\"\n",
    "    Output :13"
   ]
  },
  {
   "cell_type": "code",
   "execution_count": 48,
   "id": "fdddf7e7",
   "metadata": {},
   "outputs": [
    {
     "name": "stdout",
     "output_type": "stream",
     "text": [
      "4\n",
      " \n",
      "13\n"
     ]
    }
   ],
   "source": [
    "def string_length(str) :\n",
    "    if str == '':\n",
    "        return 0\n",
    "    else :\n",
    "        return 1 + string_length(str[1:])\n",
    "str = \"abcd\"\n",
    "print (string_length(str))\n",
    "print(\" \")\n",
    "str = \"GEEKSFORGEEKS\"  \n",
    "print (string_length(str))"
   ]
  },
  {
   "cell_type": "raw",
   "id": "674cbb2c",
   "metadata": {},
   "source": [
    "5).We are given a string S, we need to find count of all contiguous substrings starting and ending with same character.\n",
    "\n",
    "Examples :\n",
    "    Input  : S = \"abcab\"\n",
    "Output : 7\n",
    "There are 15 substrings of \"abcab\"\n",
    "a, ab, abc, abca, abcab, b, bc, bca\n",
    "bcab, c, ca, cab, a, ab, b\n",
    "Out of the above substrings, there\n",
    "are 7 substrings : a, abca, b, bcab,\n",
    "c, a and b.\n",
    "\n",
    "Input  : S = \"aba\"\n",
    "Output : 4\n",
    "The substrings are a, b, a and aba"
   ]
  },
  {
   "cell_type": "code",
   "execution_count": 52,
   "id": "26e65844",
   "metadata": {},
   "outputs": [
    {
     "name": "stdout",
     "output_type": "stream",
     "text": [
      "7\n",
      "4\n"
     ]
    }
   ],
   "source": [
    "def Strlen(str, i, j, n):\n",
    "    if (n == 1):\n",
    "        return 1\n",
    "    if (n <= 0):\n",
    "        return 0\n",
    " \n",
    "    res = (Strlen(str, i + 1, j, n - 1)\n",
    "        + Strlen(str, i, j - 1, n - 1)\n",
    "        - Strlen(str, i + 1, j - 1, n - 2))    \n",
    " \n",
    "    if (str[i] == str[j]):\n",
    "        res += 1\n",
    " \n",
    "    return res\n",
    " \n",
    "str = \"abcab\"\n",
    "n = len(str)\n",
    "print(Strlen(str, 0, n - 1, n))\n",
    "str = \"aba\"\n",
    "n = len(str)\n",
    "print(Strlen(str, 0, n - 1, n))"
   ]
  },
  {
   "cell_type": "raw",
   "id": "9b6abc8a",
   "metadata": {},
   "source": [
    "6).The [tower of Hanoi](https://en.wikipedia.org/wiki/Tower_of_Hanoi) is a famous puzzle where we have three rods and N disks. \n",
    "The objective of the puzzle is to move the entire stack to another rod. You are given the number of discs N. \n",
    "Initially, these discs are in the rod 1. You need to print all the steps of discs movement so that all the discs reach the \n",
    "3rd rod. Also, you need to find the total moves.Note: The discs are arranged such that the top disc is numbered 1 and the \n",
    "bottom-most disc is numbered N. Also, all the discs have different sizes and a bigger disc cannot be put on the top of a \n",
    "smaller disc. Refer the provided link to get a better clarity about the puzzle.\n",
    "\n",
    "Example 1:\n",
    "    Input: N = 2\n",
    "    Output:\n",
    "    move disk 1 from rod 1 to rod 2\n",
    "    move disk 2 from rod 1 to rod 3\n",
    "    move disk 1 from rod 2 to rod 3\n",
    "    3\n",
    "    Explanation:For N=2 , steps will be as follows in the example and total 3 steps will be taken.\n",
    "\n",
    "Example 2:\n",
    "    Input:N = 3\n",
    "    Output: move disk 1 from rod 1 to rod 3\n",
    "            move disk 2 from rod 1 to rod 2\n",
    "            move disk 1 from rod 3 to rod 2\n",
    "            move disk 3 from rod 1 to rod 3\n",
    "            move disk 1 from rod 2 to rod 1\n",
    "            move disk 2 from rod 2 to rod 3\n",
    "            move disk 1 from rod 1 to rod 3\n",
    "            7\n",
    "    Explanation:For N=3 , steps will be as follows in the example and total 7 steps will be taken."
   ]
  },
  {
   "cell_type": "code",
   "execution_count": 58,
   "id": "52ce651a",
   "metadata": {},
   "outputs": [
    {
     "name": "stdout",
     "output_type": "stream",
     "text": [
      "Move disk 1 from rod 1 to rod 2\n",
      "Move disk 2 from rod 1 to rod 3\n",
      "Move disk 1 from rod 2 to rod 3\n",
      " \n",
      "Move disk 1 from rod 1 to rod 3\n",
      "Move disk 2 from rod 1 to rod 2\n",
      "Move disk 1 from rod 3 to rod 2\n",
      "Move disk 3 from rod 1 to rod 3\n",
      "Move disk 1 from rod 2 to rod 1\n",
      "Move disk 2 from rod 2 to rod 3\n",
      "Move disk 1 from rod 1 to rod 3\n"
     ]
    }
   ],
   "source": [
    "def TowerOfHanoi(n, from_rod, to_rod, aux_rod):\n",
    "    if n == 0:\n",
    "        return\n",
    "    TowerOfHanoi(n-1, from_rod, aux_rod, to_rod)\n",
    "    print(\"Move disk\", n, \"from rod\", from_rod, \"to rod\", to_rod)\n",
    "    TowerOfHanoi(n-1, aux_rod, to_rod, from_rod)\n",
    "N = 2\n",
    "TowerOfHanoi(N, '1', '3', '2')\n",
    "N = 3\n",
    "print(\" \")\n",
    "TowerOfHanoi(N, '1', '3', '2')"
   ]
  },
  {
   "cell_type": "raw",
   "id": "c3f06032",
   "metadata": {},
   "source": [
    "7).Given a string str, the task is to print all the permutations of str. A permutation is an arrangement of all or part of a\n",
    "    set of objects, with regard to the order of the arrangement. For instance, the words ‘bat’ and ‘tab’ represents two \n",
    "    distinct permutation (or arrangements) of a similar three letter word.\n",
    "\n",
    "    Examples:\n",
    "        Input: str = “cd”\n",
    "        Output: cd dc\n",
    "\n",
    "            Input: str = “abb”\n",
    "            Output: abb abb bab bba bab bba"
   ]
  },
  {
   "cell_type": "code",
   "execution_count": 71,
   "id": "bd0a5b4d",
   "metadata": {},
   "outputs": [
    {
     "name": "stdout",
     "output_type": "stream",
     "text": [
      "cd\n",
      "dc\n",
      "None\n",
      "\n",
      "abb\n",
      "abb\n",
      "bab\n",
      "bba\n",
      "bba\n",
      "bab\n",
      "None\n"
     ]
    }
   ],
   "source": [
    "def permutation(string, i=0):\n",
    "\n",
    "    if i == len(string):   \t \n",
    "        print(\"\".join(string))\n",
    "\n",
    "    for j in range(i, len(string)):\n",
    "\n",
    "        words = [c for c in string]\n",
    "   \n",
    "        words[i], words[j] = words[j], words[i]\n",
    "   \n",
    "        permutation(words, i + 1 )\n",
    "\n",
    "print(permutation('cd'))\n",
    "print()\n",
    "print(permutation('abb'))"
   ]
  },
  {
   "cell_type": "raw",
   "id": "4cbc665c",
   "metadata": {},
   "source": [
    "8).Given a string, count total number of consonants in it. A consonant is an English alphabet character that is not vowel\n",
    "    (a, e, i, o and u). Examples of constants are b, c, d, f, and g.\n",
    "\n",
    "Examples :\n",
    "Input : abc de\n",
    "Output : 3\n",
    "There are three consonants b, c and d.\n",
    "\n",
    "Input : geeksforgeeks portal\n",
    "Output : 12"
   ]
  },
  {
   "cell_type": "code",
   "execution_count": 78,
   "id": "c5004fed",
   "metadata": {},
   "outputs": [
    {
     "name": "stdout",
     "output_type": "stream",
     "text": [
      "3\n",
      "12\n"
     ]
    }
   ],
   "source": [
    "def isConsonant(ch):\n",
    "    ch = ch.upper()\n",
    "  \n",
    "    return not (ch == 'A' or ch == 'E' or \n",
    "                ch == 'I' or ch == 'O' or \n",
    "                ch == 'U') and ord(ch) >= 65 and ord(ch) <= 90\n",
    "def totalConsonants(string, n):\n",
    "      \n",
    "    if n == 1:\n",
    "        return isConsonant(string[0])\n",
    "  \n",
    "    return totalConsonants(string, n - 1) + isConsonant(string[n-1])\n",
    "  \n",
    "string = \"abc de\"\n",
    "print(totalConsonants(string, len(string)))\n",
    "\n",
    "string = \"geeksforgeeks portal\"\n",
    "print(totalConsonants(string, len(string)))"
   ]
  },
  {
   "cell_type": "code",
   "execution_count": null,
   "id": "312d2bf0",
   "metadata": {},
   "outputs": [],
   "source": []
  },
  {
   "cell_type": "code",
   "execution_count": null,
   "id": "32e6e71b",
   "metadata": {},
   "outputs": [],
   "source": []
  }
 ],
 "metadata": {
  "kernelspec": {
   "display_name": "Python 3 (ipykernel)",
   "language": "python",
   "name": "python3"
  },
  "language_info": {
   "codemirror_mode": {
    "name": "ipython",
    "version": 3
   },
   "file_extension": ".py",
   "mimetype": "text/x-python",
   "name": "python",
   "nbconvert_exporter": "python",
   "pygments_lexer": "ipython3",
   "version": "3.10.9"
  }
 },
 "nbformat": 4,
 "nbformat_minor": 5
}
