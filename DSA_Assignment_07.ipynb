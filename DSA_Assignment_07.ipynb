{
 "cells": [
  {
   "cell_type": "code",
   "execution_count": null,
   "id": "0002fe8a",
   "metadata": {},
   "outputs": [],
   "source": [
    "1). Given two strings s and t, determine if they are isomorphic.\n",
    "    Two strings s and t are isomorphic if the characters in s can be replaced to get t.\n",
    "    All occurrences of a character must be replaced with another character while preserving the order of characters.\n",
    "    No two characters may map to the same character, but a character may map to itself.\n",
    "\n",
    "Example 1:\n",
    "Input: s = \"egg\", t = \"add\"\n",
    "Output: true"
   ]
  },
  {
   "cell_type": "code",
   "execution_count": null,
   "id": "faf8f5cf",
   "metadata": {},
   "outputs": [],
   "source": [
    "Steps:\n",
    "            -> Create a hashmap of (char, char) to store the mapping of str1 and str2.\n",
    "            -> Now traverse on the string and check whether the current character is present in the Hashmap.\n",
    "            -> If it is present then the character that is mapped is there at the ith index or not.\n",
    "            -> Else check if str2[i] is not present in the key then add the new mapping.\n",
    "            -> Else return false."
   ]
  },
  {
   "cell_type": "code",
   "execution_count": 4,
   "id": "776c9c63",
   "metadata": {},
   "outputs": [
    {
     "name": "stdout",
     "output_type": "stream",
     "text": [
      "True\n"
     ]
    }
   ],
   "source": [
    "def Isomorphic(s, t):\n",
    "    charCount = dict()\n",
    "    c = \"a\"\n",
    "    for i in range(len(s)):\n",
    "        if s[i] in charCount:\n",
    "            c = charCount[s[i]]\n",
    "            if c != t[i]:\n",
    "                return False\n",
    "        elif t[i] not in charCount.values():\n",
    "            charCount[s[i]] = t[i]\n",
    "        else:\n",
    "            return False\n",
    "    return True\n",
    " \n",
    "s = \"egg\"\n",
    "t = \"add\"\n",
    "if (len(s) == len(t) and Isomorphic(s, t)):\n",
    "    print(\"True\")\n",
    "else:\n",
    "    print(\"False\")"
   ]
  },
  {
   "cell_type": "code",
   "execution_count": null,
   "id": "5c119f88",
   "metadata": {},
   "outputs": [],
   "source": [
    "Given a string num which represents an integer, return true if num is a strobogrammatic number.\n",
    "\n",
    "A strobogrammatic number is a number that looks the same when rotated 180 degrees (looked at upside down).\n",
    "\n",
    "Example 1:\n",
    "        Input: num = \"69\"\n",
    "        Output:true"
   ]
  },
  {
   "cell_type": "code",
   "execution_count": 24,
   "id": "99910460",
   "metadata": {},
   "outputs": [
    {
     "name": "stdout",
     "output_type": "stream",
     "text": [
      "True\n"
     ]
    }
   ],
   "source": [
    "def strob():\n",
    "    n = \"69\"\n",
    "    print( str(is_strobogrammatic(n)))\n",
    "\n",
    "def is_strobogrammatic(n):\n",
    "    if n is None or len(n) == 0:\n",
    "        return True\n",
    "    map = { '6': '9', '9': '6'}\n",
    "    left = 0\n",
    "    right = len(n) - 1\n",
    "    while left <= right:\n",
    "        if n[right] not in map or n[left] != map[n[right]]:\n",
    "            return False\n",
    "        left += 1\n",
    "        right -= 1\n",
    "    return True\n",
    "\n",
    "if __name__ == '__main__':\n",
    "    strob()"
   ]
  },
  {
   "cell_type": "code",
   "execution_count": null,
   "id": "55374f68",
   "metadata": {},
   "outputs": [],
   "source": [
    "3).Given two non-negative integers, num1 and num2 represented as string, return *the sum of* num1 and num2 as a string.\n",
    "You must solve the problem without using any built-in library for handling large integers (such as BigInteger). \n",
    "You must also not convert the inputs to integers directly.\n",
    "\n",
    "Example 1:\n",
    "        Input:num1 = \"11\", num2 = \"123\"\n",
    "        Output:\"134\""
   ]
  },
  {
   "cell_type": "code",
   "execution_count": null,
   "id": "3ef733f5",
   "metadata": {},
   "outputs": [],
   "source": [
    "Iterative approach\n",
    "1) Reverse both strings. \n",
    "2) Keep adding digits one by one from 0’th index (in reversed strings) to end of smaller string, append the sum % 10 to end \n",
    "of result and keep track of carry as sum/10. \n",
    "3) Finally reverse the result. "
   ]
  },
  {
   "cell_type": "code",
   "execution_count": 25,
   "id": "3b3a0686",
   "metadata": {},
   "outputs": [
    {
     "name": "stdout",
     "output_type": "stream",
     "text": [
      "134\n"
     ]
    }
   ],
   "source": [
    "def findSum(str1, str2):\n",
    "     \n",
    "    if (len(str1) > len(str2)):\n",
    "        t = str1;\n",
    "        str1 = str2;\n",
    "        str2 = t;\n",
    " \n",
    "    str = \"\";\n",
    " \n",
    "    n1 = len(str1);\n",
    "    n2 = len(str2);\n",
    " \n",
    "    str1 = str1[::-1];\n",
    "    str2 = str2[::-1];\n",
    " \n",
    "    carry = 0;\n",
    "    for i in range(n1):\n",
    "         \n",
    "        sum = ((ord(str1[i]) - 48) +\n",
    "              ((ord(str2[i]) - 48) + carry));\n",
    "        str += chr(sum % 10 + 48);\n",
    " \n",
    "        carry = int(sum / 10);\n",
    "\n",
    "    for i in range(n1, n2):\n",
    "        sum = ((ord(str2[i]) - 48) + carry);\n",
    "        str += chr(sum % 10 + 48);\n",
    "        carry = (int)(sum / 10);\n",
    "        \n",
    "    if (carry):\n",
    "        str += chr(carry + 48);\n",
    " \n",
    "    str = str[::-1];\n",
    " \n",
    "    return str;\n",
    " \n",
    "str1 = \"11\";\n",
    "str2 = \"123\";\n",
    "print(findSum(str1, str2));"
   ]
  },
  {
   "cell_type": "code",
   "execution_count": null,
   "id": "60dd9fa5",
   "metadata": {},
   "outputs": [],
   "source": [
    "4).Given a string s, reverse the order of characters in each word within a sentence while still preserving whitespace and \n",
    "    initial word order.\n",
    "\n",
    "Example 1:\n",
    "Input: s = \"Let's take LeetCode contest\"\n",
    "Output:\"s'teL ekat edoCteeL tsetnoc\""
   ]
  },
  {
   "cell_type": "code",
   "execution_count": 26,
   "id": "9d783525",
   "metadata": {},
   "outputs": [
    {
     "name": "stdout",
     "output_type": "stream",
     "text": [
      "s'teL ekat edoCteeL tsetnoc"
     ]
    }
   ],
   "source": [
    "def reverseWords(string):\n",
    "    st = list()\n",
    "\n",
    "    for i in range(len(string)):\n",
    "        if string[i] != \" \":\n",
    "            st.append(string[i])\n",
    ".\n",
    "        else:\n",
    "            while len(st) > 0:\n",
    "                print(st[-1], end=\"\")\n",
    "                st.pop()\n",
    "            print(end=\" \")\n",
    " \n",
    "    while len(st) > 0:\n",
    "        print(st[-1], end=\"\")\n",
    "        st.pop()\n",
    "\n",
    "if __name__ == \"__main__\":\n",
    "    string =  \"Let's take LeetCode contest\"\n",
    "    reverseWords(string)"
   ]
  },
  {
   "cell_type": "code",
   "execution_count": null,
   "id": "53843341",
   "metadata": {},
   "outputs": [],
   "source": [
    "5).Given a string s and an integer k,reverse the first k characters for every 2k characters counting from the start of thestring.\n",
    "    If there are fewer than k characters left, reverse all of them. If there are less than 2k but greater than or equal to k \n",
    "    characters, then reverse the first k characters and leave the other as original.\n",
    "\n",
    "Example 1:\n",
    "        Input: s = \"abcdefg\", k = 2\n",
    "        Output:\"bacdfeg\""
   ]
  },
  {
   "cell_type": "code",
   "execution_count": null,
   "id": "087b58d0",
   "metadata": {},
   "outputs": [],
   "source": [
    "Approch:\n",
    "    Traverse till the end of original string\n",
    "    Traverse backwards from i+k to i and store the characters in resultant string\n",
    "    Update i to i+k\n",
    "    Traverse from i to i + k now, and store the characters in resultant string\n",
    "    Return the original string"
   ]
  },
  {
   "cell_type": "code",
   "execution_count": 29,
   "id": "3ba8143e",
   "metadata": {},
   "outputs": [
    {
     "name": "stdout",
     "output_type": "stream",
     "text": [
      "bacdfeg\n"
     ]
    }
   ],
   "source": [
    "def revAlternateK(s, k, n):\n",
    "    ans = \"\"\n",
    "     \n",
    "    i = 0\n",
    "    j = 0\n",
    "     \n",
    "    while (i < n):\n",
    "        for j in range(min(i+k,n)-1,i-1,-1):\n",
    "            ans+=s[j]\n",
    "             \n",
    "        i = min(i + k, n)\n",
    " \n",
    "        for j in range(i,min(i+k,n)):\n",
    "            ans+=s[j]\n",
    "        i = j+1\n",
    "    return ans\n",
    "str = \"abcdefg\"\n",
    "N = len(str)\n",
    "K = 2\n",
    "print(revAlternateK(str, K, N))"
   ]
  },
  {
   "cell_type": "code",
   "execution_count": null,
   "id": "c91753eb",
   "metadata": {},
   "outputs": [],
   "source": [
    "6).Given two strings s and goal, return true if and only if s can become goal after some number of shifts on s.\n",
    "    A shift on s consists of moving the leftmost character of s to the rightmost position.\n",
    "    For example, if s = \"abcde\", then it will be \"bcdea\" after one shift.\n",
    "    Example 1:\n",
    "    Input:s = \"abcde\", goal = \"cdeab\"\n",
    "    Output:true"
   ]
  },
  {
   "cell_type": "code",
   "execution_count": null,
   "id": "c0eb1856",
   "metadata": {},
   "outputs": [],
   "source": [
    "Steps:\n",
    "    When both A and B are empty, then return true, when both are of different length then return false\n",
    "    A := concatenate A after A\n",
    "    i := 0, and j := 0\n",
    "    while i < length of A\n",
    "    if length of A – i + 1 < length of B, then return false\n",
    "    while i < length of A and j < length of B and A[i] = B[j]\n",
    "    increase i and j by 1\n",
    "    if j = length of B then returns true\n",
    "    if j is not 0, then decrease i by 1\n",
    "    j := 0\n",
    "    increase i by 1"
   ]
  },
  {
   "cell_type": "code",
   "execution_count": 45,
   "id": "0c859bcd",
   "metadata": {},
   "outputs": [
    {
     "name": "stdout",
     "output_type": "stream",
     "text": [
      "True\n"
     ]
    }
   ],
   "source": [
    "def rotateString(self, A, B):\n",
    "      if not A and not B:\n",
    "         return True\n",
    "      if len(A) != len(B):\n",
    "         return False\n",
    "      A = A*2\n",
    "      i = 0\n",
    "      j=0\n",
    "      while i < len(A):\n",
    "         if len(A)-i+1<len(B):\n",
    "            return False\n",
    "         while i<len(A) and j < len(B) and A[i] == B[j]:\n",
    "            i+=1\n",
    "            j+=1\n",
    "         if j == len(B):\n",
    "            return True\n",
    "         if j:\n",
    "            i-=1\n",
    "         j=0\n",
    "         i+=1\n",
    "s=\"abcde\"\n",
    "goal=\"cdeab\"\n",
    "print(ob1.rotateString(s, goal))\n"
   ]
  },
  {
   "cell_type": "code",
   "execution_count": null,
   "id": "41ba5a35",
   "metadata": {},
   "outputs": [],
   "source": [
    "7). Given two strings s and t, return true if they are equal when both are typed into empty text editors. '#' means a backspace\n",
    "    character.\n",
    "    Note that after backspacing an empty text, the text will continue empty.\n",
    "\n",
    "Example 1:\n",
    "Input:s = \"ab#c\", t = \"ad#c\"\n",
    "Output:true\n",
    "Explanation: Both s and t become \"ac\"."
   ]
  },
  {
   "cell_type": "code",
   "execution_count": null,
   "id": "4ccb2ebb",
   "metadata": {},
   "outputs": [],
   "source": [
    "Approach:\n",
    "     we have to observe that if the first character is ‘#’, that is there is certainly no character typed initially and \n",
    "        hence we perform no operation. \n",
    "        When we encounter any character other than ‘#’, then we add the character just after the current index.\n",
    "        When we encounter a ‘#’, we move one index back, so instead of deleting the character, we just ignore it. \n",
    "        Then finally compare the two strings by comparing each character from start to end."
   ]
  },
  {
   "cell_type": "code",
   "execution_count": 49,
   "id": "88899312",
   "metadata": {},
   "outputs": [
    {
     "name": "stdout",
     "output_type": "stream",
     "text": [
      "TRUE\n"
     ]
    }
   ],
   "source": [
    "def removeBackspace(s) -> str:\n",
    "    n = len(s)\n",
    "    idx = 0\n",
    "    for i in range(0, n):\n",
    "        if(s[i] != '#'):\n",
    "            s = s[:idx] + s[i] + s[idx+1:]\n",
    "            idx += 1\n",
    "        elif(s[i] == '#' and idx >= 0):\n",
    "            idx -= 1\n",
    "        if(idx < 0):\n",
    "            idx = 0\n",
    "    ans = \"\"\n",
    "    for i in range(0, idx):\n",
    "        ans += s[i]\n",
    "    return ans\n",
    "s = \"ab#c\"\n",
    "t = \"ad#c\"\n",
    "if(removeBackspace(s) == removeBackspace(t)):\n",
    "      print(\"TRUE\")\n",
    "else:\n",
    "    print(\"FALSE\")"
   ]
  },
  {
   "cell_type": "code",
   "execution_count": null,
   "id": "5b6ea152",
   "metadata": {},
   "outputs": [],
   "source": [
    "8).You are given an array coordinates, coordinates[i] = [x, y], where [x, y] represents the coordinate of a point. \n",
    "    Check if these points make a straight line in the XY plane.\n",
    "\n",
    "Example 1:\n",
    "Input: coordinates = [[1,2],[2,3],[3,4],[4,5],[5,6],[6,7]]\n",
    "Output: true"
   ]
  },
  {
   "cell_type": "code",
   "execution_count": null,
   "id": "4934b90d",
   "metadata": {},
   "outputs": [],
   "source": [
    "// Slope of line formed by \n",
    "// two points (y2, y1), (x2, x1)\n",
    "\n",
    "Slope of Line = y2 - y1\n",
    "               ---------\n",
    "                x2 - x1"
   ]
  },
  {
   "cell_type": "code",
   "execution_count": 58,
   "id": "d0fd1fc4",
   "metadata": {},
   "outputs": [
    {
     "data": {
      "text/plain": [
       "True"
      ]
     },
     "execution_count": 58,
     "metadata": {},
     "output_type": "execute_result"
    }
   ],
   "source": [
    "def isStraightLinePossible(arr, n):\n",
    "     \n",
    "    # First pair of point (x0, y0)\n",
    "    x0 = arr[0][0]\n",
    "    y0 = arr[0][1]\n",
    " \n",
    "    # Second pair of point (x1, y1)\n",
    "    x1 = arr[1][0]\n",
    "    y1 = arr[1][1]\n",
    " \n",
    "    dx = x1 - x0\n",
    "    dy = y1 - y0\n",
    "     \n",
    "    # Loop to iterate over the points\n",
    "    for i in range(n):\n",
    "        x = arr[i][0]\n",
    "        y = arr[i][1]\n",
    "         \n",
    "        if (dx * (y - y1) != dy * (x - x1)):\n",
    "            #print(\"NO\", end = \"\")\n",
    "            return False\n",
    " \n",
    "   # print(\"YES\", end = \"\")\n",
    "    return True\n",
    " \n",
    "# Driver code\n",
    " \n",
    "# Array of points\n",
    "arr = [[1,2],[2,3],[3,4],[4,5],[5,6],[6,7]]\n",
    "n = 6\n",
    " \n",
    "# Function Call\n",
    "isStraightLinePossible(arr, n)"
   ]
  },
  {
   "cell_type": "code",
   "execution_count": null,
   "id": "645a6955",
   "metadata": {},
   "outputs": [],
   "source": []
  },
  {
   "cell_type": "code",
   "execution_count": null,
   "id": "61877769",
   "metadata": {},
   "outputs": [],
   "source": []
  }
 ],
 "metadata": {
  "kernelspec": {
   "display_name": "Python 3 (ipykernel)",
   "language": "python",
   "name": "python3"
  },
  "language_info": {
   "codemirror_mode": {
    "name": "ipython",
    "version": 3
   },
   "file_extension": ".py",
   "mimetype": "text/x-python",
   "name": "python",
   "nbconvert_exporter": "python",
   "pygments_lexer": "ipython3",
   "version": "3.10.9"
  }
 },
 "nbformat": 4,
 "nbformat_minor": 5
}
