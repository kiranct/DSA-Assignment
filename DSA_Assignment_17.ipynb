{
 "cells": [
  {
   "cell_type": "code",
   "execution_count": null,
   "id": "8ac5f8be",
   "metadata": {},
   "outputs": [],
   "source": [
    "1).Given a string s, find the first non-repeating character in it and return its index. If it does not exist, return -1.\n",
    "\n",
    "Example 1 :\n",
    "            Input: s = \"leetcode\"\n",
    "            Output: 0\n",
    "Example 2:\n",
    "            Input: s = \"loveleetcode\"\n",
    "            Output: 2\n",
    "Example 3:\n",
    "            Input: s = \"aabb\"\n",
    "            Output: -1"
   ]
  },
  {
   "cell_type": "code",
   "execution_count": 18,
   "id": "fb80a1b7",
   "metadata": {},
   "outputs": [
    {
     "name": "stdout",
     "output_type": "stream",
     "text": [
      "Index of first non repeting char is: 0\n",
      "\n",
      "Index of first non repeting char is: 2\n",
      "\n",
      "Index of first non repeting char is: -1\n"
     ]
    }
   ],
   "source": [
    "def first_unique_character(str):\n",
    "    map = {}\n",
    "    for i in range(len(str)):\n",
    "        chr = str[i]\n",
    "        if chr in map:\n",
    "            map[chr] += 1\n",
    "        else:\n",
    "            map[chr] = 1\n",
    "    for i in range(len(str)):\n",
    "        if map[str[i]] < 2:\n",
    "            return i\n",
    "    return -1\n",
    "\n",
    "str = \"leetcode\"\n",
    "print(\"Index of first non repeting char is:\",first_unique_character(str))\n",
    "str = \"loveleetcode\"\n",
    "print(\"\\nIndex of first non repeting char is:\",first_unique_character(str))\n",
    "str = \"aabb\"\n",
    "print(\"\\nIndex of first non repeting char is:\",first_unique_character(str))"
   ]
  },
  {
   "cell_type": "code",
   "execution_count": null,
   "id": "2da03a8d",
   "metadata": {},
   "outputs": [],
   "source": [
    "2).Given a circular integer array `nums` of length `n`, return the maximum possible sum of a non-empty subarray of `nums`.\n",
    "    A circular array means the end of the array connects to the beginning of the array. Formally, the next element of `nums[i]`\n",
    "    is `nums[(i + 1) % n]` and the previous element of `nums[i]` is `nums[(i - 1 + n) % n]`.\n",
    "    A subarray may only include each element of the fixed buffer `nums` at most once. Formally, for a subarray `nums[i], \n",
    "    nums[i + 1], ..., nums[j]`, there does not exist `i <= k1`, `k2 <= j` with `k1 % n == k2 % n`.\n",
    "Example 1:\n",
    "        Input: nums = [1,-2,3,-2]\n",
    "        Output: 3\n",
    "Example 2:\n",
    "        Input: nums = [5,-3,5]\n",
    "        Output: 10\n",
    "Example 3:\n",
    "        Input: nums = [-3,-2,-3]\n",
    "        Output: -2"
   ]
  },
  {
   "cell_type": "code",
   "execution_count": 19,
   "id": "894dc670",
   "metadata": {},
   "outputs": [
    {
     "name": "stdout",
     "output_type": "stream",
     "text": [
      "Maximum circular sum is 3\n",
      "\n",
      "Maximum circular sum is 10\n",
      "\n",
      "Maximum circular sum is -2\n"
     ]
    }
   ],
   "source": [
    "def maxCircularSum(a, n):\n",
    "\n",
    "    if (n == 1):\n",
    "        return a[0]\n",
    "\n",
    "    sum = 0\n",
    "    for i in range(n):\n",
    "        sum += a[i]\n",
    "\n",
    "    curr_max = a[0]\n",
    "    max_so_far = a[0]\n",
    "    curr_min = a[0]\n",
    "    min_so_far = a[0]\n",
    "\n",
    "    for i in range(1, n):\n",
    "\n",
    "        curr_max = max(curr_max + a[i], a[i])\n",
    "        max_so_far = max(max_so_far, curr_max)\n",
    "\n",
    "        curr_min = min(curr_min + a[i], a[i])\n",
    "        min_so_far = min(min_so_far, curr_min)\n",
    "    if (min_so_far == sum):\n",
    "        return max_so_far\n",
    "\n",
    "    return max(max_so_far, sum - min_so_far)\n",
    " \n",
    "a = [1,-2,3,-2]\n",
    "n = len(a)\n",
    "print(\"Maximum circular sum is\", maxCircularSum(a, n))\n",
    "\n",
    "a = [5,-3,5]\n",
    "n = len(a)\n",
    "print(\"\\nMaximum circular sum is\", maxCircularSum(a, n))\n",
    "\n",
    "a = [-3,-2,-3]\n",
    "n = len(a)\n",
    "print(\"\\nMaximum circular sum is\", maxCircularSum(a, n))"
   ]
  },
  {
   "cell_type": "code",
   "execution_count": null,
   "id": "008b5d6c",
   "metadata": {},
   "outputs": [],
   "source": [
    "3).The school cafeteria offers circular and square sandwiches at lunch break, referred to by numbers 0 and 1 respectively. \n",
    "    All students stand in a queue. Each student either prefers square or circular sandwiches.\n",
    "   The number of sandwiches in the cafeteria is equal to the number of students. The sandwiches are placed in a stack. At each \n",
    "    step:\n",
    "        If the student at the front of the queue prefers the sandwich on the top of the stack, they will take it and leave the\n",
    "        queue.\n",
    "        Otherwise, they will leave it and go to the queue's end.\n",
    "  This continues until none of the queue students want to take the top sandwich and are thus unable to eat.\n",
    "\n",
    "  You are given two integer arrays students and sandwiches where sandwiches[i] is the type of the ith sandwich in the stack \n",
    "    (i = 0 is the top of the stack) and students[j] is the preference of the jth student in the initial queue (j = 0 is the \n",
    "    front of the queue). Return the number of students that are unable to eat.\n",
    "Example 1:\n",
    "        Input: students = [1,1,0,0], sandwiches = [0,1,0,1]\n",
    "        Output: 0 \n",
    "Example 2:\n",
    "        Input: students = [1,1,1,0,0,1], sandwiches = [1,0,0,0,1,1]\n",
    "        Output: 3"
   ]
  },
  {
   "cell_type": "code",
   "execution_count": 113,
   "id": "59be8c28",
   "metadata": {},
   "outputs": [
    {
     "name": "stdout",
     "output_type": "stream",
     "text": [
      "the number of students that are unable to eat= 0 \n",
      "\n",
      "the number of students that are unable to eat= 3\n"
     ]
    }
   ],
   "source": [
    "class Solution:\n",
    "    def countStudents(self, students: list[int], sandwiches: list[int]) -> int:\n",
    "        count = 0\n",
    "        while len(students) > count:\n",
    "            if students[0] == sandwiches[0]:\n",
    "                sandwiches.pop(0)\n",
    "                count = 0\n",
    "            else:\n",
    "                students.append(students[0])\n",
    "                count+=1\n",
    "\n",
    "            students.pop(0)\n",
    "        return len(students)\n",
    "ob = Solution()\n",
    "students = [1,1,0,0]\n",
    "sandwiches = [0,1,0,1]\n",
    "p=ob.countStudents(students,sandwiches)\n",
    "print(\"the number of students that are unable to eat=\",p,\"\\n\")\n",
    "\n",
    "students = [1,1,1,0,0,1]\n",
    "sandwiches = [1,0,0,0,1,1]\n",
    "p=ob.countStudents(students,sandwiches)\n",
    "print(\"the number of students that are unable to eat=\",p)\n"
   ]
  },
  {
   "cell_type": "code",
   "execution_count": null,
   "id": "02ee33f2",
   "metadata": {},
   "outputs": [],
   "source": [
    "4).You have a RecentCounter class which counts the number of recent requests within a certain time frame.\n",
    "    Implement the RecentCounter class:\n",
    "      ->  RecentCounter() Initializes the counter with zero recent requests.\n",
    "       -> int ping(int t) Adds a new request at time t, where t represents some time in milliseconds, and returns the number of\n",
    "          requests that has happened in the past 3000 milliseconds (including the new request). Specifically, return the number\n",
    "          of requests that have happened in the inclusive range [t - 3000, t].\n",
    "    It is guaranteed that every call to ping uses a strictly larger value of t than the previous call.\n",
    "Example:\n",
    "        Input:[\"RecentCounter\", \"ping\", \"ping\", \"ping\", \"ping\"]\n",
    "                [[], [1], [100], [3001], [3002]]\n",
    "        Output:[null, 1, 2, 3, 3]"
   ]
  },
  {
   "cell_type": "code",
   "execution_count": 46,
   "id": "e99eff8c",
   "metadata": {},
   "outputs": [
    {
     "name": "stdout",
     "output_type": "stream",
     "text": [
      "1\n",
      "2\n",
      "3\n",
      "3\n"
     ]
    }
   ],
   "source": [
    "class RecentCounter:\n",
    "    def __init__(self):\n",
    "        self.queue = []\n",
    "    def ping(self, t):\n",
    "        while len(self.queue) and t - self.queue[0] > 3000:\n",
    "            self.queue.pop(0)\n",
    "        self.queue.append(t)\n",
    "        return len(self.queue)\n",
    "\n",
    "ob = RecentCounter()\n",
    "print(ob.ping(1))\n",
    "print(ob.ping(100))\n",
    "print(ob.ping(3001))\n",
    "print(ob.ping(3002))"
   ]
  },
  {
   "cell_type": "code",
   "execution_count": null,
   "id": "198d3627",
   "metadata": {},
   "outputs": [],
   "source": [
    "5).There are n friends that are playing a game. The friends are sitting in a circle and are numbered from 1 to n in clockwise\n",
    "    order. More formally, moving clockwise from the ith friend brings you to the (i+1)th friend for 1 <= i < n, and moving \n",
    "    clockwise from the nth friend brings you to the 1st friend.\n",
    "    The rules of the game are as follows:\n",
    "        1.Start at the `1st` friend.\n",
    "        2. Count the next `k` friends in the clockwise direction including the friend you started at. The counting wraps around\n",
    "            the circle and may count some friends more than once.\n",
    "        3. The last friend you counted leaves the circle and loses the game.\n",
    "        4. If there is still more than one friend in the circle, go back to step `2` starting from the friend immediately \n",
    "            clockwise of the friend who just lost and repeat.\n",
    "        5. Else, the last friend in the circle wins the game.\n",
    "    Given the number of friends, n, and an integer k, return the winner of the game.\n",
    "Example 1:\n",
    "            Input: n = 5, k = 2\n",
    "            Output: 3\n",
    "Example 1:\n",
    "            Input: n = 6, k = 5\n",
    "            Output: 1"
   ]
  },
  {
   "cell_type": "code",
   "execution_count": 53,
   "id": "101c24d3",
   "metadata": {},
   "outputs": [
    {
     "name": "stdout",
     "output_type": "stream",
     "text": [
      "3 \n",
      "\n",
      "1\n"
     ]
    }
   ],
   "source": [
    "class Solution :\n",
    "    def  findTheWinner(self, n,  k) :\n",
    "        return self.findWinnerHelper(n, k - 1) + 1\n",
    "    def  findWinnerHelper(self, n,  k) :\n",
    "        if (n == 1) :\n",
    "            return 0\n",
    "        return ((k + 1) % n + self.findWinnerHelper(n - 1, k)) % n\n",
    "ob = Solution()\n",
    "n=5\n",
    "k=2\n",
    "print(ob.findTheWinner(n,k),\"\\n\")\n",
    "\n",
    "n=6\n",
    "k=5\n",
    "print(ob.findTheWinner(n,k))"
   ]
  },
  {
   "cell_type": "code",
   "execution_count": null,
   "id": "aecd101c",
   "metadata": {},
   "outputs": [],
   "source": [
    "6).You are given an integer array deck. There is a deck of cards where every card has a unique integer. The integer on the ith \n",
    "        card is deck[i].\n",
    "    You can order the deck in any order you want. Initially, all the cards start face down (unrevealed) in one deck.\n",
    "    You will do the following steps repeatedly until all cards are revealed:\n",
    "        1. Take the top card of the deck, reveal it, and take it out of the deck.\n",
    "        2. If there are still cards in the deck then put the next top card of the deck at the bottom of the deck.\n",
    "        3. If there are still unrevealed cards, go back to step 1. Otherwise, stop.\n",
    "    Return an ordering of the deck that would reveal the cards in increasing order.\n",
    "    Note that the first entry in the answer is considered to be the top of the deck.\n",
    "Example 1:\n",
    "            Input: deck = [17,13,11,2,3,5,7]\n",
    "            Output: [2,13,3,11,5,17,7]\n",
    "Example 2:\n",
    "            Input: deck = [1,1000]\n",
    "            Output: [1,1000]"
   ]
  },
  {
   "cell_type": "code",
   "execution_count": 72,
   "id": "5d0aff3a",
   "metadata": {},
   "outputs": [
    {
     "name": "stdout",
     "output_type": "stream",
     "text": [
      "Input cards [17, 13, 11, 2, 3, 5, 7]\n",
      "\n",
      "Output cards [2, 13, 3, 11, 5, 17, 7]\n",
      "\n",
      "Input cards [1, 1000]\n",
      "\n",
      "Output cards [1, 1000]\n"
     ]
    }
   ],
   "source": [
    "class Solution:\n",
    "    def deckRevealedIncreasing(self, deck: list[int]) -> list[int]:\n",
    "        N = len(deck)\n",
    "        j = 0\n",
    "        res = [0] * N\n",
    "        dq = deque()\n",
    "        deck.sort()\n",
    "        dq.append(deck[N-1])\n",
    "        for i in range(N-2, -1, -1):\n",
    "            dq.appendleft(dq.pop())\n",
    "            dq.appendleft(deck[i])\n",
    "        while dq:\n",
    "            value = dq.popleft()\n",
    "            res[j] = value\n",
    "            j += 1\n",
    "        return res\n",
    "ob = Solution()\n",
    "deck = [17,13,11,2,3,5,7]\n",
    "print(\"Input cards\",deck)\n",
    "print(\"\\nOutput cards\",ob.deckRevealedIncreasing(deck))\n",
    "\n",
    "deck = [1,1000]\n",
    "print(\"\\nInput cards\",deck)\n",
    "print(\"\\nOutput cards\",ob.deckRevealedIncreasing(deck))"
   ]
  },
  {
   "cell_type": "code",
   "execution_count": null,
   "id": "0d3ec941",
   "metadata": {},
   "outputs": [],
   "source": [
    "7).Design a queue that supports push and pop operations in the front, middle, and back.\n",
    "    Implement the FrontMiddleBack class:\n",
    "        - `FrontMiddleBack()` Initializes the queue.\n",
    "        - `void pushFront(int val)` Adds `val` to the **front** of the queue.\n",
    "        - `void pushMiddle(int val)` Adds `val` to the **middle** of the queue.\n",
    "        - `void pushBack(int val)` Adds `val` to the **back** of the queue.\n",
    "        - `int popFront()` Removes the **front** element of the queue and returns it. If the queue is empty, return `1`.\n",
    "        - `int popMiddle()` Removes the **middle** element of the queue and returns it. If the queue is empty, return `1`.\n",
    "        - `int popBack()` Removes the **back** element of the queue and returns it. If the queue is empty, return `1`.\n",
    "    Notice that when there are two middle position choices, the operation is performed on the frontmost middle position choice.\n",
    "    For example:\n",
    "        - ushing `6` into the middle of `[1, 2, 3, 4, 5]` results in `[1, 2, 6, 3, 4, 5]`.\n",
    "        - Popping the middle from `[1, 2, 3, 4, 5, 6]` returns `3` and results in `[1, 2, 4, 5, 6]`.\n",
    "Example :\n",
    "    Input:\n",
    "[\"FrontMiddleBackQueue\", \"pushFront\", \"pushBack\", \"pushMiddle\", \"pushMiddle\", \"popFront\", \"popMiddle\", \"popMiddle\", \"popBack\", \"popFront\"]\n",
    "[[], [1], [2], [3], [4], [], [], [], [], []]\n",
    "Output:\n",
    "[null, null, null, null, null, 1, 3, 4, 2, -1]\n",
    "        "
   ]
  },
  {
   "cell_type": "code",
   "execution_count": 93,
   "id": "17ca4cb8",
   "metadata": {},
   "outputs": [
    {
     "name": "stdout",
     "output_type": "stream",
     "text": [
      "1 3 4 2 -1\n"
     ]
    }
   ],
   "source": [
    "class Solution():\n",
    "    def __init__(self):\n",
    "        self.array = []\n",
    "\n",
    "    def push_from_front(self, value):\n",
    "        self.array.insert(0, value)\n",
    "\n",
    "    def push_from_middle(self, value):\n",
    "        self.array.insert(len(self.array) // 2, value)\n",
    "\n",
    "    def push_from_back(self, value):\n",
    "        self.array.append(value)\n",
    "\n",
    "    def pop_from_front(self):\n",
    "        return (self.array or [-1]).pop(0)\n",
    "\n",
    "    def pop_from_middle(self):\n",
    "        return (self.array or [-1]).pop((len(self.array) - 1) // 2)\n",
    "\n",
    "    def pop_from_back(self):\n",
    "        return (self.array or [-1]).pop()\n",
    "\n",
    "    def show_queue(self):\n",
    "        return self.array\n",
    "\n",
    "ob = Solution()\n",
    "ob.push_from_front(1)\n",
    "ob.push_from_back(2)\n",
    "ob.push_from_middle(3)\n",
    "ob.push_from_middle(4)\n",
    "\n",
    "p1=ob.pop_from_front()\n",
    "p2=ob.pop_from_middle()\n",
    "p3=ob.pop_from_middle()\n",
    "p4=ob.pop_from_back()\n",
    "p5=ob.pop_from_front()\n",
    "print(p1,p2,p3,p4,p5)"
   ]
  },
  {
   "cell_type": "code",
   "execution_count": null,
   "id": "c15ad202",
   "metadata": {},
   "outputs": [],
   "source": [
    "8).For a stream of integers, implement a data structure that checks if the last k integers parsed in the stream are equal \n",
    "    to value.\n",
    "    Implement the DataStream class:\n",
    "        - `DataStream(int value, int k)` Initializes the object with an empty integer stream and the two integers `value` and \n",
    "            `k`.\n",
    "        - `boolean consec(int num)` Adds `num` to the stream of integers. Returns `true` if the last `k` integers are equal to\n",
    "            `value`, and `false` otherwise. If there are less than `k` integers, the condition does not hold true, so returns \n",
    "            `false`.\n",
    "Example :\n",
    "    Input\n",
    "[\"DataStream\", \"consec\", \"consec\", \"consec\", \"consec\"]\n",
    "[[4, 3], [4], [4], [4], [3]]\n",
    "Output\n",
    "[null, false, false, true, false]\n",
    "        \n"
   ]
  },
  {
   "cell_type": "code",
   "execution_count": 106,
   "id": "35d1db84",
   "metadata": {},
   "outputs": [
    {
     "name": "stdout",
     "output_type": "stream",
     "text": [
      "False False True False\n"
     ]
    }
   ],
   "source": [
    "class DataStream:\n",
    "\n",
    "    def __init__(self, value: int, k: int):\n",
    "        self.k = k\n",
    "        self.val = value\n",
    "        self.t = k\n",
    "        \n",
    "\n",
    "    def consec(self, num: int) -> bool:\n",
    "        if self.t > 0:\n",
    "            self.t -= 1\n",
    "            \n",
    "        if num != self.val:\n",
    "            self.t = self.k\n",
    "        \n",
    "        if self.t:\n",
    "            return False\n",
    "        return True\n",
    "\n",
    "dataStream = DataStream(4, 3)\n",
    "p1=dataStream.consec(4)\n",
    "p2=dataStream.consec(4)\n",
    "p3=dataStream.consec(4)\n",
    "p4=dataStream.consec(3)\n",
    "print(p1,p2,p3,p4)"
   ]
  },
  {
   "cell_type": "code",
   "execution_count": null,
   "id": "177aa9d9",
   "metadata": {},
   "outputs": [],
   "source": []
  }
 ],
 "metadata": {
  "kernelspec": {
   "display_name": "Python 3 (ipykernel)",
   "language": "python",
   "name": "python3"
  },
  "language_info": {
   "codemirror_mode": {
    "name": "ipython",
    "version": 3
   },
   "file_extension": ".py",
   "mimetype": "text/x-python",
   "name": "python",
   "nbconvert_exporter": "python",
   "pygments_lexer": "ipython3",
   "version": "3.10.9"
  }
 },
 "nbformat": 4,
 "nbformat_minor": 5
}
