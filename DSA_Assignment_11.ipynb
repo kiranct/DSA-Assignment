{
 "cells": [
  {
   "cell_type": "raw",
   "id": "49949d06",
   "metadata": {},
   "source": [
    "1).Given a non-negative integer `x`, return the square root of `x` rounded down to the nearest integer. The returned\n",
    "    integer should be non-negative as well.\n",
    "    You must not use any built-in exponent function or operator.\n",
    "    For example, do not use `pow(x, 0.5)` in c++ or `x ** 0.5` in python.\n",
    "\n",
    "Example 1:\n",
    "    Input: x = 4\n",
    "    Output: 2\n",
    "    Explanation: The square root of 4 is 2, so we return 2.\n"
   ]
  },
  {
   "cell_type": "raw",
   "id": "145083a3",
   "metadata": {},
   "source": [
    "  Steps:\n",
    "    -> Base cases for the given problem are when the given number is 0 or 1, then return X;\n",
    "    -> Create some variables, for storing the lower bound say l = 0, and for upper bound r = X / 2 (i.e, The floor of the \n",
    "        square root of x cannot be more than x/2 when x > 1).\n",
    "    -> Run a loop until l <= r, the search space vanishes\n",
    "    -> Check if the square of mid (mid = (l + r)/2 ) is less than or equal to X, If yes then search for a larger value in the \n",
    "        second half of the search space, i.e l = mid + 1, update ans = mid\n",
    "    -> Else if the square of mid is more than X then search for a smaller value in the first half of the search space,\n",
    "        i.e r = mid – 1\n",
    "    -> Finally, Return the ans"
   ]
  },
  {
   "cell_type": "code",
   "execution_count": 3,
   "id": "7cf59fa6",
   "metadata": {},
   "outputs": [
    {
     "name": "stdout",
     "output_type": "stream",
     "text": [
      "2\n",
      "2\n"
     ]
    }
   ],
   "source": [
    "def floorSqrt(x):\n",
    " \n",
    "    if (x == 0 or x == 1):\n",
    "        return x\n",
    "    start = 1\n",
    "    end = x//2\n",
    "    while (start <= end):\n",
    "        mid = (start + end) // 2\n",
    " \n",
    "        if (mid*mid == x):\n",
    "            return mid\n",
    " \n",
    "        if (mid * mid < x):\n",
    "            start = mid + 1\n",
    "            ans = mid\n",
    " \n",
    "        else:\n",
    "            end = mid-1\n",
    "    return ans\n",
    "\n",
    "x = 4\n",
    "print(floorSqrt(x))\n",
    "\n",
    "x = 8\n",
    "print(floorSqrt(x))"
   ]
  },
  {
   "cell_type": "raw",
   "id": "6130c5f3",
   "metadata": {},
   "source": [
    "2).A peak element is an element that is strictly greater than its neighbors.\n",
    "    Given a 0-indexed integer array `nums`, find a peak element, and return its index. If the array contains multiple peaks,\n",
    "    return the index to any of the peaks.\n",
    "    You may imagine that `nums[-1] = nums[n] = -∞`. In other words, an element is always considered to be strictly greater than\n",
    "    a neighbor that is outside the array.\n",
    "    You must write an algorithm that runs in `O(log n)` time.\n",
    "\n",
    "Example 1:\n",
    "    Input: nums = [1,2,3,1]\n",
    "    Output: 2\n",
    "    Explanation: 3 is a peak element and your function should return the index number 2.\n",
    "Example 2:\n",
    "    Input: nums = [1,2,1,3,5,6,4]\n",
    "    Output: 5\n",
    "    Explanation: Your function can return either index number 1 where the peak element is 2, or index number 5 where the\n",
    "    peak element is 6."
   ]
  },
  {
   "cell_type": "raw",
   "id": "ed605df2",
   "metadata": {},
   "source": [
    "Steps:\n",
    "        -> Create two variables, l and r, initialize l = 0 and r = n-1\n",
    "        -> Recursively perform the below steps till l <= r, i.e. lowerbound is less than the upperbound\n",
    "        -> Check if the mid value or index mid = low + (high - low) / 2,is the peak element or not, if yes then print the \n",
    "            element and terminate.\n",
    "        -> Else if the element on the left side of the middle element is greater then check for peak element on the left side,\n",
    "            i.e. update r = mid – 1\n",
    "        -> Else if the element on the right side of the middle element is greater then check for peak element on the right\n",
    "            side,i.e. update l = mid + 1"
   ]
  },
  {
   "cell_type": "code",
   "execution_count": 15,
   "id": "481c5951",
   "metadata": {},
   "outputs": [
    {
     "name": "stdout",
     "output_type": "stream",
     "text": [
      "Index of a peak point is 2\n",
      "\n",
      "Index of a peak point is 5\n"
     ]
    }
   ],
   "source": [
    "def findPeakUtil(num, low, high, n):\n",
    " \n",
    "    mid = low + (high - low)/2\n",
    "    mid = int(mid)\n",
    "\n",
    "    if ((mid == 0 or num[mid - 1] <= num[mid]) and\n",
    "        (mid == n - 1 or num[mid + 1] <= num[mid])):\n",
    "        return mid\n",
    " \n",
    "    elif (mid > 0 and num[mid - 1] > num[mid]):\n",
    "        return findPeakUtil(num, low, (mid - 1), n)\n",
    " \n",
    "    else:\n",
    "        return findPeakUtil(num, (mid + 1), high, n)\n",
    "\n",
    "def findPeak(num, n):\n",
    " \n",
    "    return findPeakUtil(num, 0, n - 1, n)\n",
    "\n",
    "num = [1,2,3,1]\n",
    "print(\"Index of a peak point is\", findPeak(num, n))\n",
    "print()\n",
    "num = [1,2,1,3,5,6,4]\n",
    "print(\"Index of a peak point is\", findPeak(num, n))"
   ]
  },
  {
   "cell_type": "raw",
   "id": "35bc0455",
   "metadata": {},
   "source": [
    "3).Given an array `nums` containing `n` distinct numbers in the range `[0, n]`, return the only number in the range that \n",
    "    is missing from the array.\n",
    "Example 1:\n",
    "    Input: nums = [3,0,1]\n",
    "    Output: 2\n",
    "    Explanation: n = 3 since there are 3 numbers, so all numbers are in the range [0,3]. 2 is the missing number in \n",
    "                    the range since it does not appear in nums.\n",
    "Example 2:\n",
    "    Input: nums = [0,1]\n",
    "    Output: 2\n",
    "    Explanation: n = 2 since there are 2 numbers, so all numbers are in the range [0,2]. 2 is the missing number in the\n",
    "                range since it does not appear in nums."
   ]
  },
  {
   "cell_type": "code",
   "execution_count": 6,
   "id": "65d2c2c6",
   "metadata": {},
   "outputs": [
    {
     "name": "stdout",
     "output_type": "stream",
     "text": [
      "The missing element is: 2\n",
      "\n",
      "The missing element is: 2\n"
     ]
    }
   ],
   "source": [
    "def findMissing(arr, N):\n",
    "    left = 0\n",
    "    right = N - 1\n",
    "    while left <= right:\n",
    "        mid = (left + right) // 2\n",
    "        if arr[mid] != mid + 1 and arr[mid - 1] == mid:\n",
    "            return mid + 1\n",
    "        if arr[mid] == mid + 1:\n",
    "            left = mid + 1\n",
    "        else:\n",
    "            right = mid - 1\n",
    "    return mid +2\n",
    "\n",
    "arr = [3,0,1]\n",
    "size = len(arr)\n",
    "print(\"The missing element is:\", findMissing(arr, size))\n",
    "print()\n",
    "arr = [0,1]\n",
    "size = len(arr)\n",
    "print(\"The missing element is:\", findMissing(arr, size))\n"
   ]
  },
  {
   "cell_type": "raw",
   "id": "7e044e87",
   "metadata": {},
   "source": [
    "4).Given an array of integers nums containing n + 1 integers where each integer is in the range [1, n] inclusive.\n",
    "    There is only one repeated number in nums, return this repeated number.\n",
    "    You must solve the problem without modifying the array nums and uses only constant extra space.\n",
    "Example 1:\n",
    "        Input: nums = [1,3,4,2,2]\n",
    "        Output: 2\n",
    "Example 2:\n",
    "        Input: nums = [3,1,3,4,2]\n",
    "        Output: 3\n"
   ]
  },
  {
   "cell_type": "raw",
   "id": "07b48cc1",
   "metadata": {},
   "source": [
    "Steps:\n",
    "        -> Initialize low to 1 (since the array has values in the range of 1 to n, where n is the size of the array) and high \n",
    "            to nums.size() – 1.\n",
    "        -> Enter a while loop that iteratively reduces the search range by half:\n",
    "        -> Calculate mid as the average of low and high.\n",
    "        -> Iterate over the nums array and count the number of elements that are less than or equal to mid.\n",
    "        -> Based on the count of elements less than or equal to mid, perform a binary search on the left half of the array \n",
    "            if the count is less than or equal to mid, or on the right half of the array otherwise.\n",
    "        -> Return the low variable, which is the duplicate number in the array.\n",
    "        -> The reason for this is that the code performs a binary search on the array, which has a time complexity\n",
    "            of O(log n), and it iterates over the array to count the number of elements less than or equal to the midpoint\n",
    "            in each iteration. The worst-case time complexity of this iteration is O(n log n) because the total number of \n",
    "            iterations required is proportional to the height of the binary search tree, which is log n, and at each iteration, \n",
    "            we are visiting all elements in the array, which has a time complexity of O(n). Therefore, the overall time \n",
    "            complexity is O(n log n)."
   ]
  },
  {
   "cell_type": "code",
   "execution_count": 26,
   "id": "5e3b4552",
   "metadata": {},
   "outputs": [
    {
     "name": "stdout",
     "output_type": "stream",
     "text": [
      "2\n",
      "\n",
      "3\n"
     ]
    }
   ],
   "source": [
    "def findDuplicate(nums):\n",
    "    low, high, cnt = 1, len(nums) - 1, 0\n",
    "    while low <= high:\n",
    "        mid = low + (high - low) // 2\n",
    "        cnt = sum(1 for n in nums if n <= mid)\n",
    "        if cnt <= mid:\n",
    "            low = mid + 1\n",
    "        else:\n",
    "            high = mid - 1\n",
    "    return low\n",
    "\n",
    "v = [1,3,4,2,2]\n",
    "ans = findDuplicate(v)\n",
    "print(ans)\n",
    "print()\n",
    "v = [3,1,3,4,2]\n",
    "ans = findDuplicate(v)\n",
    "print(ans)\n"
   ]
  },
  {
   "cell_type": "raw",
   "id": "b27310c1",
   "metadata": {},
   "source": [
    "5).Given two integer arrays nums1 and nums2, return an array of their intersection. Each element in the result must be unique\n",
    "    and you may return the result in any order.\n",
    "Example 1:\n",
    "        Input: nums1 = [1,2,2,1], nums2 = [2,2]\n",
    "        Output: [2]\n",
    "Example 2:\n",
    "        Input: nums1 = [4,9,5], nums2 = [9,4,9,8,4]\n",
    "        Output: [9,4]\n",
    "        Explanation: [4,9] is also accepted."
   ]
  },
  {
   "cell_type": "raw",
   "id": "56290686",
   "metadata": {},
   "source": [
    "Steps:\n",
    "        -> Initialize intersection I as empty.\n",
    "        -> Find smaller of m and n and sort the smaller array.\n",
    "        -> For every element x of larger array, do following\n",
    "            a. Binary Search x in smaller array. If x is present, then copy it to I.\n",
    "            b. Return I."
   ]
  },
  {
   "cell_type": "code",
   "execution_count": 43,
   "id": "311a97df",
   "metadata": {},
   "outputs": [
    {
     "name": "stdout",
     "output_type": "stream",
     "text": [
      "2 2 "
     ]
    }
   ],
   "source": [
    "def binarySearch(arr, l, r, x):\n",
    "    if r >= l:\n",
    "        mid = l + (r - l) // 2\n",
    "        if arr[mid] == x:\n",
    "            return mid\n",
    "        if arr[mid] > x:\n",
    "            return binarySearch(arr, l, mid - 1, x)\n",
    "        return binarySearch(arr, mid + 1, r, x)\n",
    "    return -1\n",
    "\n",
    "def printIntersection(num1, num2, m, n):\n",
    "    if m > n:\n",
    "        num1, num2 = num2, num1\n",
    "        m, n = n, m\n",
    "    num1.sort()\n",
    "    for i in range(n):\n",
    "        if binarySearch(num1, 0, m - 1, num2[i]) != -1:\n",
    "            print(num2[i], end=\" \")\n",
    "\n",
    "num1 = [1,2,2,1]\n",
    "num2 = [2,2]\n",
    "m = len(num1)\n",
    "n = len(num2)\n",
    "printIntersection(num1, num2, m,n)\n"
   ]
  },
  {
   "cell_type": "raw",
   "id": "432fa409",
   "metadata": {},
   "source": [
    "6).Suppose an array of length `n` sorted in ascending order is rotated between `1` and `n` times. For example, the array\n",
    "    `nums = [0,1,2,4,5,6,7]` might become:\n",
    "        -> [4,5,6,7,0,1,2]` if it was rotated `4` times.\n",
    "        -> [0,1,2,4,5,6,7]` if it was rotated `7` times.\n",
    "Notice that rotating an array `[a[0], a[1], a[2], ..., a[n-1]]` 1 time results in the array `[a[n-1], a[0], a[1], a[2], ...,\n",
    "                                                    a[n-2]]`.\n",
    "Given the sorted rotated array `nums` of unique elements, return the minimum element of this array.\n",
    "You must write an algorithm that runs in `O(log n) time.`\n",
    "\n",
    "Example 1:\n",
    "        Input: nums = [3,4,5,1,2]\n",
    "        Output: 1\n",
    "        Explanation: The original array was [1,2,3,4,5] rotated 3 times.\n",
    "Example 2:\n",
    "        Input: nums = [4,5,6,7,0,1,2]\n",
    "        Output: 0\n",
    "        Explanation: The original array was [0,1,2,4,5,6,7] and it was rotated 4 times.\n",
    "Example 3:\n",
    "        Input: nums = [11,13,15,17]\n",
    "        Output: 11\n",
    "        Explanation: The original array was [11,13,15,17] and it was rotated 4 times."
   ]
  },
  {
   "cell_type": "raw",
   "id": "9f7e4c9b",
   "metadata": {},
   "source": [
    "Steps:\n",
    "    -> The minimum element is the only element whose previous is greater than it. If there is no previous element, then\n",
    "        there is no rotation (the first element is minimum). \n",
    "    -> We check this condition for the middle element by comparing it with (mid-1)th and (mid+1)th elements.\n",
    "    -> If the minimum element is not at the middle (neither mid nor mid + 1), then: \n",
    "    -> If the middle element is smaller than the last element, then the minimum element lies in the left half\n",
    "    -> Else minimum element lies in the right half."
   ]
  },
  {
   "cell_type": "code",
   "execution_count": 50,
   "id": "99ccf9af",
   "metadata": {},
   "outputs": [
    {
     "name": "stdout",
     "output_type": "stream",
     "text": [
      "The minimum element is 1\n",
      " \n",
      "The minimum element is 0\n",
      " \n",
      "The minimum element is 11\n"
     ]
    }
   ],
   "source": [
    "def findMin(arr, low, high):\n",
    "    if high < low:\n",
    "        return arr[0]\n",
    "    if high == low:\n",
    "        return arr[low]\n",
    "    mid = low + (high - low) // 2\n",
    "    if mid < high and arr[mid + 1] < arr[mid]:\n",
    "        return arr[mid + 1]\n",
    "    if mid > low and arr[mid] < arr[mid - 1]:\n",
    "        return arr[mid]\n",
    "    if arr[high] > arr[mid]:\n",
    "        return findMin(arr, low, mid - 1)\n",
    "    return findMin(arr, mid + 1, high)\n",
    "\n",
    "arr = [3,4,5,1,2]\n",
    "print(\"The minimum element is\", findMin(arr, 0, N - 1))\n",
    "print(\" \")\n",
    "arr=[4,5,6,7,0,1,2]\n",
    "print(\"The minimum element is\", findMin(arr, 0, N - 1))\n",
    "print(\" \")\n",
    "arr= [11,13,15,17]\n",
    "N=len(arr)\n",
    "print(\"The minimum element is\", findMin(arr, 0, N - 1))"
   ]
  },
  {
   "cell_type": "raw",
   "id": "be4efad9",
   "metadata": {},
   "source": [
    "7).Given an array of integers nums sorted in non-decreasing order, find the starting and ending position of a given target\n",
    "    value.\n",
    "    If target is not found in the array, return [-1, -1].\n",
    "    You must write an algorithm with O(log n) runtime complexity.\n",
    "Example 1:\n",
    "        Input: nums = [5,7,7,8,8,10], target = 8\n",
    "        Output: [3,4]\n",
    "Example 2:\n",
    "        Input: nums = [5,7,7,8,8,10], target = 6\n",
    "        Output: [-1,-1]\n",
    "\n"
   ]
  },
  {
   "cell_type": "raw",
   "id": "bcd9f244",
   "metadata": {},
   "source": [
    "Steps:\n",
    "    For First Position: \n",
    "        -> Do while low <= high:\n",
    "        -> First, find the mid element\n",
    "        -> Check if the arr[mid] > x then the first element will occur on the left side of mid. So, bring the high pointer \n",
    "            to mid – 1\n",
    "        -> Check if the arr[mid] < x then the first element will occur on the right side of mid. So, bring the low pointer\n",
    "            to mid + 1\n",
    "        -> If arr[mid] == x then this may be the first element. So, update the result to mid and move the high pointer \n",
    "            to mid – 1.\n",
    "        -> Return the result."
   ]
  },
  {
   "cell_type": "code",
   "execution_count": 54,
   "id": "95fac146",
   "metadata": {},
   "outputs": [
    {
     "name": "stdout",
     "output_type": "stream",
     "text": [
      "3 4\n",
      " \n",
      "-1 -1\n"
     ]
    }
   ],
   "source": [
    "def first(arr, x, n):\n",
    "    low, high, res = 0, n - 1, -1\n",
    "    while low <= high:\n",
    "        mid = (low + high) // 2\n",
    "        if arr[mid] > x:\n",
    "            high = mid - 1\n",
    "        elif arr[mid] < x:\n",
    "            low = mid + 1\n",
    "        else:\n",
    "            res = mid\n",
    "            high = mid - 1\n",
    "    return res\n",
    "\n",
    "def last(arr, x, n):\n",
    "    low, high, res = 0, n - 1, -1\n",
    "    while low <= high:\n",
    "        mid = (low + high) // 2\n",
    "        if arr[mid] > x:\n",
    "            high = mid - 1\n",
    "        elif arr[mid] < x:\n",
    "            low = mid + 1\n",
    "        else:\n",
    "            res = mid\n",
    "            low = mid + 1\n",
    "    return res\n",
    "\n",
    "arr = [5,7,7,8,8,10]\n",
    "n = len(arr)\n",
    "x = 8\n",
    "print( first(arr, x, n),last(arr, x, n))\n",
    "print(\" \")\n",
    "arr = [5,7,7,8,8,10]\n",
    "n = len(arr)\n",
    "x = 6\n",
    "print( first(arr, x, n),last(arr, x, n))\n"
   ]
  },
  {
   "cell_type": "raw",
   "id": "f5d82bcb",
   "metadata": {},
   "source": [
    "8).Given two integer arrays nums1 and nums2, return an array of their intersection. Each element in the result must be unique\n",
    "    and you may return the result in any order.\n",
    "Example 1:\n",
    "        Input: nums1 = [1,2,2,1], nums2 = [2,2]\n",
    "        Output: [2]\n",
    "Example 2:\n",
    "        Input: nums1 = [4,9,5], nums2 = [9,4,9,8,4]\n",
    "        Output: [9,4]\n",
    "        Explanation: [4,9] is also accepted."
   ]
  },
  {
   "cell_type": "raw",
   "id": "004ccb07",
   "metadata": {},
   "source": [
    "Steps:\n",
    "        -> Initialize intersection I as empty.\n",
    "        -> Find smaller of m and n and sort the smaller array.\n",
    "        -> For every element x of larger array, do following\n",
    "            a. Binary Search x in smaller array. If x is present, then copy it to I.\n",
    "            b. Return I."
   ]
  },
  {
   "cell_type": "code",
   "execution_count": 55,
   "id": "7639baaa",
   "metadata": {},
   "outputs": [
    {
     "name": "stdout",
     "output_type": "stream",
     "text": [
      "2 2 "
     ]
    }
   ],
   "source": [
    "def binarySearch(arr, l, r, x):\n",
    "    if r >= l:\n",
    "        mid = l + (r - l) // 2\n",
    "        if arr[mid] == x:\n",
    "            return mid\n",
    "        if arr[mid] > x:\n",
    "            return binarySearch(arr, l, mid - 1, x)\n",
    "        return binarySearch(arr, mid + 1, r, x)\n",
    "    return -1\n",
    "\n",
    "def printIntersection(num1, num2, m, n):\n",
    "    if m > n:\n",
    "        num1, num2 = num2, num1\n",
    "        m, n = n, m\n",
    "    num1.sort()\n",
    "    for i in range(n):\n",
    "        if binarySearch(num1, 0, m - 1, num2[i]) != -1:\n",
    "            print(num2[i], end=\" \")\n",
    "\n",
    "num1 = [1,2,2,1]\n",
    "num2 = [2,2]\n",
    "m = len(num1)\n",
    "n = len(num2)\n",
    "printIntersection(num1, num2, m,n)\n"
   ]
  },
  {
   "cell_type": "code",
   "execution_count": null,
   "id": "98d77774",
   "metadata": {},
   "outputs": [],
   "source": []
  }
 ],
 "metadata": {
  "kernelspec": {
   "display_name": "Python 3 (ipykernel)",
   "language": "python",
   "name": "python3"
  },
  "language_info": {
   "codemirror_mode": {
    "name": "ipython",
    "version": 3
   },
   "file_extension": ".py",
   "mimetype": "text/x-python",
   "name": "python",
   "nbconvert_exporter": "python",
   "pygments_lexer": "ipython3",
   "version": "3.10.9"
  }
 },
 "nbformat": 4,
 "nbformat_minor": 5
}
