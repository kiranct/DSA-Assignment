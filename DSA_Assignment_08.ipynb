{
 "cells": [
  {
   "cell_type": "raw",
   "id": "6d78a2ab",
   "metadata": {},
   "source": [
    "1).Given two strings s1 and s2, return the lowest ASCII sum of deleted characters to make two strings equal.\n",
    "\n",
    "Example 1:\n",
    "    Input: s1 = \"sea\", s2 = \"eat\"\n",
    "    Output: 231\n",
    "Explanation:Deleting \"s\" from \"sea\" adds the ASCII value of \"s\" (115) to the sum.\n",
    "Deleting \"t\" from \"eat\" adds 116 to the sum.\n",
    "At the end, both strings are equal, and 115 + 116 = 231 is the minimum sum possible to achieve this."
   ]
  },
  {
   "cell_type": "raw",
   "id": "c56e7b5d",
   "metadata": {},
   "source": [
    "Steps:\n",
    "        n := size of s1, m := size of s2\n",
    "        add one blank space before the strings s1 and s2, then update the s1 and s2 accordingly\n",
    "        make one table of size (n + 1) x (m + 1)\n",
    "        for i := 1 to m\n",
    "        dp[0, i] := dp[0, i - 1] + s2[i]\n",
    "        for i := 1 to n\n",
    "        dp[i, 0] := dp[i – 1, 0] + s1[i]\n",
    "        for i in range 1 to n\n",
    "        for j in range 1 to m\n",
    "        if s1[i] = s2[j]\n",
    "        dp[i, j] := dp[i – 1, j - 1]\n",
    "        else dp[i, j] = minimum of dp[i – 1, j] + 1 and dp[i, j - 1] + 1\n",
    "        return dp[n, m]"
   ]
  },
  {
   "cell_type": "code",
   "execution_count": 7,
   "id": "b0a93958",
   "metadata": {},
   "outputs": [
    {
     "name": "stdout",
     "output_type": "stream",
     "text": [
      "231\n"
     ]
    }
   ],
   "source": [
    " def minimumDeleteSum(self, s1: str, s2: str) -> int:\n",
    "        n = len(s1)\n",
    "        m = len(s2)\n",
    "        s1 = \" \" + s1\n",
    "        s2 = \" \" + s2\n",
    "        dp = np.zeros((n + 1, m + 1), dtype=int)\n",
    "        for i in range(1, m + 1):\n",
    "            dp[0][i] = dp[0][i - 1] + ord(s2[i])\n",
    "        for i in range(1, n + 1):\n",
    "            dp[i][0] = dp[i - 1][0] + ord(s1[i])\n",
    "        for i in range(1, n + 1):\n",
    "            for j in range(1, m + 1):\n",
    "                if s1[i] == s2[j]:\n",
    "                    dp[i][j] = dp[i - 1][j - 1]\n",
    "                else:\n",
    "                    dp[i][j] = min(dp[i - 1][j] + ord(s1[i]), dp[i][j - 1] + ord(s2[j]))\n",
    "        return dp[n][m]\n",
    "s1=\"sea\"\n",
    "s2=\"eat\"\n",
    "print(ob.minimumDeleteSum(s1, s2))"
   ]
  },
  {
   "cell_type": "raw",
   "id": "cdddda21",
   "metadata": {},
   "source": [
    "2). Given a string s containing only three types of characters: '(', ')' and '*', return true  if s is valid.\n",
    "    The following rules define a valid string:\n",
    "\n",
    "    - Any left parenthesis '(' must have a corresponding right parenthesis ')'.\n",
    "    - Any right parenthesis ')' must have a corresponding left parenthesis '('.\n",
    "    - Left parenthesis '(' must go before the corresponding right parenthesis ')'.\n",
    "    - '*' could be treated as a single right parenthesis ')' or a single left parenthesis '(' or an empty string \"\".\n",
    "\n",
    "Example 1:\n",
    "        Input: s = \"()\"\n",
    "        Output:true"
   ]
  },
  {
   "cell_type": "raw",
   "id": "d085f444",
   "metadata": {},
   "source": [
    "Approach:\n",
    "Using stack One approach to check true parentheses is to use stack. Each time, when an open parentheses is encountered push it in the stack, and when closed parenthesis is encountered, match it with the top of stack and pop it. If stack is empty at the end, return true otherwise, false. "
   ]
  },
  {
   "cell_type": "code",
   "execution_count": 6,
   "id": "d1e94052",
   "metadata": {},
   "outputs": [
    {
     "name": "stdout",
     "output_type": "stream",
     "text": [
      "() - True\n"
     ]
    }
   ],
   "source": [
    "open_list = [\"[\",\"{\",\"(\"]\n",
    "close_list = [\"]\",\"}\",\")\"]\n",
    "def check(myStr):\n",
    "    stack = []\n",
    "    for i in myStr:\n",
    "        if i in open_list:\n",
    "            stack.append(i)\n",
    "        elif i in close_list:\n",
    "            pos = close_list.index(i)\n",
    "            if ((len(stack) > 0) and\n",
    "                (open_list[pos] == stack[len(stack)-1])):\n",
    "                stack.pop()\n",
    "            else:\n",
    "                return False\n",
    "    if len(stack) == 0:\n",
    "        return True\n",
    "    else:\n",
    "        return False\n",
    "string = \"()\"\n",
    "print(string,\"-\", check(string))"
   ]
  },
  {
   "cell_type": "raw",
   "id": "14ce8ba5",
   "metadata": {},
   "source": [
    "3).Given two strings word1 and word2, return the minimum number of steps required to make word1 and word2 the same.\n",
    "    In one step, you can delete exactly one character in either string.\n",
    "\n",
    "Example 1:\n",
    "Input: word1 = \"sea\", word2 = \"eat\"\n",
    "Output: 2\n",
    "Explanation: You need one step to make \"sea\" to \"ea\" and another step to make \"eat\" to \"ea\"."
   ]
  },
  {
   "cell_type": "raw",
   "id": "94eb531c",
   "metadata": {},
   "source": [
    "approch:\n",
    "        If last characters of two strings are same, nothing much to do. Ignore last characters and get count for remaining \n",
    "        strings. So we recur for lengths m-1 and n-1.\n",
    "        \n",
    "        Else (If last characters are not same), we consider all operations on ‘str1’, consider all three operations on last\n",
    "        character of first string, recursively compute minimum cost for all three operations and take minimum of three values. \n",
    "            Insert: Recur for m and n-1\n",
    "            Remove: Recur for m-1 and n\n",
    "            Replace: Recur for m-1 and n-1"
   ]
  },
  {
   "cell_type": "code",
   "execution_count": 13,
   "id": "cc5df7ff",
   "metadata": {},
   "outputs": [
    {
     "name": "stdout",
     "output_type": "stream",
     "text": [
      "2\n"
     ]
    }
   ],
   "source": [
    "def sameword(str1, str2, m, n):\n",
    "    \n",
    "    if m == 0:\n",
    "        return n\n",
    "    if n == 0:\n",
    "        return m\n",
    " \n",
    "    if str1[m-1] == str2[n-1]:\n",
    "        return sameword(str1, str2, m-1, n-1)\n",
    " \n",
    "    return 1 + min(sameword(str1, str2, m, n-1),    \n",
    "                   sameword(str1, str2, m-1, n),    \n",
    "                   sameword(str1, str2, m-1, n-1)  \n",
    "                   )\n",
    " \n",
    "str1 = \"sea\"\n",
    "str2 = \"eat\"\n",
    "print (sameword(str1, str2, len(str1), len(str2)))"
   ]
  },
  {
   "cell_type": "raw",
   "id": "c8650f33",
   "metadata": {},
   "source": [
    "4). You need to construct a binary tree from a string consisting of parenthesis and integers.\n",
    "    The whole input represents a binary tree. It contains an integer followed by zero, one or two pairs of parenthesis.\n",
    "    The integer represents the root's value and a pair of parenthesis contains a child binary tree with the same structure.\n",
    "    You always start to construct the left child node of the parent first if it exists.\n",
    "\n",
    "Example:\n",
    "    Input: s = \"4(2(3)(1))(6(5))\"\n",
    "    Output: [4,2,6,3,1,5]"
   ]
  },
  {
   "cell_type": "raw",
   "id": "37a98dec",
   "metadata": {},
   "source": [
    "approach: recursive  \n",
    "    Algorithm:\n",
    "                The very first element of the string is the root.\n",
    "            \n",
    "                If the next two consecutive elements are “(” and “)”, this means there is no left child otherwise we will \n",
    "                create and add the left child to the parent node recursively.\n",
    "                \n",
    "                Once the left child is added recursively, we will look for consecutive “(” and add the right child to the \n",
    "                parent node.\n",
    "                                                                                         \n",
    "                Encountering “)” means the end of either left or right node and we will increment the start index\n",
    "                \n",
    "                The recursion ends when the start index is greater than equal to the end index\n"
   ]
  },
  {
   "cell_type": "code",
   "execution_count": 17,
   "id": "9dc15c82",
   "metadata": {},
   "outputs": [
    {
     "name": "stdout",
     "output_type": "stream",
     "text": [
      "4 2 3 1 6 5 "
     ]
    }
   ],
   "source": [
    "class newNode:\n",
    "    def __init__(self, data):\n",
    "        self.data = data\n",
    "        self.left = self.right = None\n",
    " \n",
    " \n",
    "def preOrder(node):\n",
    "    if (node == None):\n",
    "        return\n",
    "    print(node.data, end=\" \")\n",
    "    preOrder(node.left)\n",
    "    preOrder(node.right)\n",
    " \n",
    " \n",
    "def treeFromStringHelper(si, ei, arr, root):\n",
    " \n",
    "    if si[0] >= ei:\n",
    "        return None\n",
    " \n",
    "    if arr[si[0]] == \"(\":\n",
    " \n",
    "        if arr[si[0]+1] != \")\":\n",
    "            if root.left is None:\n",
    "                if si[0] >= ei:\n",
    "                    return\n",
    "                new_root = newNode(arr[si[0]+1])\n",
    "                root.left = new_root\n",
    "                si[0] += 2\n",
    "                treeFromStringHelper(si, ei, arr, new_root)\n",
    " \n",
    "        else:\n",
    "            si[0] += 2\n",
    " \n",
    "        if root.right is None:\n",
    "            if si[0] >= ei:\n",
    "                return\n",
    " \n",
    "            if arr[si[0]] != \"(\":\n",
    "                si[0] += 1\n",
    "                return\n",
    " \n",
    "            new_root = newNode(arr[si[0]+1])\n",
    "            root.right = new_root\n",
    "            si[0] += 2\n",
    "            treeFromStringHelper(si, ei, arr, new_root)\n",
    "        else:\n",
    "            return\n",
    " \n",
    "    if arr[si[0]] == \")\":\n",
    "        if si[0] >= ei:\n",
    "            return\n",
    "        si[0] += 1\n",
    "        return\n",
    " \n",
    "    return\n",
    " \n",
    "def treeFromString(string):\n",
    " \n",
    "    root = newNode(string[0])\n",
    " \n",
    "    if len(string) > 1:\n",
    "        si = [1]\n",
    "        ei = len(string)-1\n",
    " \n",
    "        treeFromStringHelper(si, ei, string, root)\n",
    " \n",
    "    return root\n",
    "if __name__ == '__main__':\n",
    "    Str = \"4(2(3)(1))(6(5))\"\n",
    "    root = treeFromString(Str)\n",
    "    preOrder(root)\n",
    " "
   ]
  },
  {
   "cell_type": "raw",
   "id": "d3858276",
   "metadata": {},
   "source": [
    "5).Given an array of characters chars, compress it using the following algorithm:\n",
    "\n",
    "Begin with an empty string s. For each group of consecutive repeating characters in chars:\n",
    "\n",
    "- If the group's length is 1, append the character to s.\n",
    "- Otherwise, append the character followed by the group's length.\n",
    "\n",
    "The compressed string s should not be returned separately, but instead, be stored in the input character array chars.\n",
    "Note that group lengths that are 10 or longer will be split into multiple characters in chars.\n",
    "\n",
    "After you are done modifying the input array, return the new length of the array.\n",
    "\n",
    "You must write an algorithm that uses only constant extra space.\n",
    "\n",
    "Example 1:\n",
    "\n",
    "Input: chars = [\"a\",\"a\",\"b\",\"b\",\"c\",\"c\",\"c\"]\n",
    "\n",
    "Output:Return 6, and the first 6 characters of the input array should be: [\"a\",\"2\",\"b\",\"2\",\"c\",\"3\"]"
   ]
  },
  {
   "cell_type": "raw",
   "id": "96c22e6d",
   "metadata": {},
   "source": [
    "Steps:\n",
    "        1->prev = a , curr = a so count will be 2 . s = a \n",
    "        2->prev = a , curr = b so we will not increase rather will go to else part where we will check if count>1 then we \n",
    "            will append it and will also append the char . and reset the count to 1 . a2->a2b\n",
    "        3->prev=b, curr =b count = 2 s=a2b\n",
    "        4->prev= b , curr = c count = 2 so will go in else part as prev!=curr count > 2 so s= a2b2-> a2b2c count =1\n",
    "        5->prev = c ,curr = c count =2 s =a2b2c\n",
    "        6->prev = c , curr = c count =3 s =a2b2c"
   ]
  },
  {
   "cell_type": "code",
   "execution_count": 28,
   "id": "9d0b13d1",
   "metadata": {},
   "outputs": [
    {
     "name": "stdout",
     "output_type": "stream",
     "text": [
      "6\n"
     ]
    }
   ],
   "source": [
    "def compress(chars):\n",
    "    sb = []\n",
    "    n = len(chars)\n",
    "    count = 1\n",
    "    sb.append(chars[0])\n",
    "    for i in range(1, n):\n",
    "        curr = chars[i]\n",
    "        prev = chars[i-1]\n",
    "        if prev == curr:\n",
    "            count += 1\n",
    "        if prev != curr:\n",
    "            if count > 1:\n",
    "                sb.append(str(count))\n",
    "            sb.append(curr)\n",
    "            count = 1\n",
    "    if count > 1:\n",
    "        sb.append(str(count))\n",
    "    for i in range(len(sb)):\n",
    "        chars[i] = sb[i]\n",
    "    return len(sb)\n",
    "\n",
    "chars = [\"a\",\"a\",\"b\",\"b\",\"c\",\"c\",\"c\"]\n",
    "print(compress(chars))\n"
   ]
  },
  {
   "cell_type": "raw",
   "id": "a0fa2bf9",
   "metadata": {},
   "source": [
    "6).Given two strings s and p, return an array of all the start indices of p 's anagrams in s. You may return the answer in any\n",
    "    order.\n",
    "    An Anagram is a word or phrase formed by rearranging the letters of a different word or phrase, typically using all the \n",
    "    original letters exactly once.\n",
    "\n",
    "Example 1:\n",
    "Input: s = \"cbaebabacd\", p = \"abc\"\n",
    "\n",
    "Output: [0,6]"
   ]
  },
  {
   "cell_type": "raw",
   "id": "561b9fc5",
   "metadata": {},
   "source": [
    "Algorithm:\n",
    "        Store counts of frequencies of pattern in first count array countP[]. Also store counts of frequencies of characters in \n",
    "        first window of text in array counts[].\n",
    "        \n",
    "        Now run a loop from i = M to N-1. Do following in loop. \n",
    "        \n",
    "        If the two count arrays are identical, we found an occurrence. \n",
    "        \n",
    "        Increment count of current character of text in counts[] \n",
    "        \n",
    "        Decrement count of first character in previous window in counts[]"
   ]
  },
  {
   "cell_type": "code",
   "execution_count": 28,
   "id": "e743c7fa",
   "metadata": {},
   "outputs": [
    {
     "name": "stdout",
     "output_type": "stream",
     "text": [
      "0\n",
      "6\n"
     ]
    }
   ],
   "source": [
    "def compare(arr1, arr2):\n",
    "    for i in range(MAX):\n",
    "        if arr1[i] != arr2[i]:\n",
    "            return False\n",
    "    return True\n",
    "     \n",
    "def search(p, s):\n",
    " \n",
    "    M = len(p)\n",
    "    N = len(s)\n",
    " \n",
    "    countP = [0]*MAX\n",
    " \n",
    "    counts = [0]*MAX\n",
    " \n",
    "    for i in range(M):\n",
    "        (countP[ord(pat[i]) ]) += 1\n",
    "        (counts[ord(txt[i]) ]) += 1\n",
    " \n",
    "    for i in range(M,N):\n",
    " \n",
    "        if compare(countP, counts):\n",
    "            print(i-M)\n",
    "            \n",
    "        (counts[ ord(txt[i]) ]) += 1\n",
    " \n",
    "        (counts[ ord(txt[i-M]) ]) -= 1\n",
    "        \n",
    "    if compare(countP, counts):\n",
    "        print( N-M)\n",
    "               \n",
    "s = \"cbaebabacd\"\n",
    "p = \"abc\"     \n",
    "search(p,s)  "
   ]
  },
  {
   "cell_type": "raw",
   "id": "c2abb9dc",
   "metadata": {},
   "source": [
    "7). Given an encoded string, return its decoded string.\n",
    "    The encoding rule is: k[encoded_string], where the encoded_string inside the square brackets is being repeated exactly k \n",
    "        times. Note that k is guaranteed to be a positive integer.\n",
    "    \n",
    "    You may assume that the input string is always valid; there are no extra white spaces, square brackets are well-formed, etc.\n",
    "    Furthermore, you may assume that the original data does not contain any digits and that digits are only for those repeat\n",
    "    numbers, k. For example, there will not be input like 3a or 2[4].\n",
    "The test cases are generated so that the length of the output will never exceed 105.\n",
    "\n",
    "Example 1:\n",
    "Input:s = \"3[a]2[bc]\"\n",
    "Output: \"aaabcbc\""
   ]
  },
  {
   "cell_type": "raw",
   "id": "b008ab1f",
   "metadata": {},
   "source": [
    "Approch: Using two Stack\n",
    "         -> Whenever we encounter any number, push it into the integer stack and in case of any alphabet (a to z) or open \n",
    "            bracket (‘[‘), push it onto the character stack.\n",
    "        -> Whenever any close bracket (‘]’) is encounter pop the character from the character stack until open bracket (‘[‘)\n",
    "            is not found in the character stack. Also, pop the top element from the integer stack, say n. Now make a string\n",
    "            repeating the popped character n number of time. Now, push all character of the string in the stack."
   ]
  },
  {
   "cell_type": "code",
   "execution_count": 13,
   "id": "842ed47e",
   "metadata": {},
   "outputs": [
    {
     "name": "stdout",
     "output_type": "stream",
     "text": [
      "aaabcbc\n"
     ]
    }
   ],
   "source": [
    "def decode(Str):\n",
    "    integerstack = []\n",
    "    stringstack = []\n",
    "    temp = \"\"\n",
    "    result = \"\"\n",
    "    i = 0\n",
    "    while i < len(Str):\n",
    "        count = 0\n",
    " \n",
    "        \n",
    "        if (Str[i] >= '0' and Str[i] <='9'):\n",
    "            while (Str[i] >= '0' and Str[i] <= '9'):\n",
    "                count = count * 10 + ord(Str[i]) - ord('0')\n",
    "                i += 1\n",
    "            i -= 1\n",
    "            integerstack.append(count)\n",
    " \n",
    "        elif (Str[i] == ']'):\n",
    "            temp = \"\"\n",
    "            count = 0\n",
    " \n",
    "            if (len(integerstack) != 0):\n",
    "                count = integerstack[-1]\n",
    "                integerstack.pop()\n",
    " \n",
    "            while (len(stringstack) != 0 and stringstack[-1] !='[' ):\n",
    "                temp = stringstack[-1] + temp\n",
    "                stringstack.pop()\n",
    " \n",
    "            if (len(stringstack) != 0 and stringstack[-1] == '['):\n",
    "                stringstack.pop()\n",
    " \n",
    "            for j in range(count):\n",
    "                result = result + temp\n",
    "\n",
    "            for j in range(len(result)):\n",
    "                stringstack.append(result[j])\n",
    " \n",
    "            result = \"\"\n",
    "    \n",
    "        elif (Str[i] == '['):\n",
    "            if (Str[i-1] >= '0' and Str[i-1] <= '9'):\n",
    "                stringstack.append(Str[i])\n",
    " \n",
    "            else:\n",
    "                stringstack.append(Str[i])\n",
    "                integerstack.append(1)\n",
    " \n",
    "        else:\n",
    "            stringstack.append(Str[i]) \n",
    "        i += 1\n",
    "        \n",
    "    while len(stringstack) != 0:\n",
    "        result = stringstack[-1] + result\n",
    "        stringstack.pop()\n",
    " \n",
    "    return result\n",
    "if __name__ == '__main__':\n",
    "    Str = \"3[a]2[bc]\"\n",
    "    print(decode(Str))"
   ]
  },
  {
   "cell_type": "raw",
   "id": "9a0a0760",
   "metadata": {},
   "source": [
    "8).Given two strings s and goal, return true if you can swap two letters in s so the result is equal to goal, otherwise, return\n",
    "    false.\n",
    "    Swapping letters is defined as taking two indices i and j (0-indexed) such that i != j and swapping the characters at s[i]\n",
    "        and s[j].\n",
    "                For example, swapping at indices 0 and 2 in \"abcd\" results in \"cbad\".\n",
    "Example 1:\n",
    "    Input: s = \"ab\", goal = \"ba\"\n",
    "    Output: true\n",
    "    Explanation:You can swap s[0] = 'a' and s[1] = 'b' to get \"ba\", which is equal to goal."
   ]
  },
  {
   "cell_type": "raw",
   "id": "431c1485",
   "metadata": {},
   "source": [
    "Steps:\n",
    "    When both A and B are empty, then return true, when both are of different length then return false\n",
    "    A := concatenate A after A\n",
    "    i := 0, and j := 0\n",
    "    while i < length of A\n",
    "    if length of A – i + 1 < length of B, then return false\n",
    "    while i < length of A and j < length of B and A[i] = B[j]\n",
    "    increase i and j by 1\n",
    "    if j = length of B then returns true\n",
    "    if j is not 0, then decrease i by 1\n",
    "    j := 0\n",
    "    increase i by 1"
   ]
  },
  {
   "cell_type": "code",
   "execution_count": 22,
   "id": "f5e0882a",
   "metadata": {},
   "outputs": [
    {
     "name": "stdout",
     "output_type": "stream",
     "text": [
      "True\n"
     ]
    }
   ],
   "source": [
    "class Solution(object):\n",
    "   def rotateString(self, A, B):\n",
    "      if not A and not B:\n",
    "         return True\n",
    "      if len(A) != len(B):\n",
    "         return False\n",
    "      A = A*2\n",
    "      i = 0\n",
    "      j=0\n",
    "      while i < len(A):\n",
    "         if len(A)-i+1<len(B):\n",
    "            return False\n",
    "         while i<len(A) and j < len(B) and A[i] == B[j]:\n",
    "            i+=1\n",
    "            j+=1\n",
    "         if j == len(B):\n",
    "            return True\n",
    "         if j:\n",
    "            i-=1\n",
    "         j=0\n",
    "         i+=1\n",
    "ob1 = Solution()\n",
    "s=\"ab\"\n",
    "goal=\"ba\"\n",
    "print(ob1.rotateString(s, goal))\n"
   ]
  },
  {
   "cell_type": "code",
   "execution_count": null,
   "id": "0b42064f",
   "metadata": {},
   "outputs": [],
   "source": []
  }
 ],
 "metadata": {
  "kernelspec": {
   "display_name": "Python 3 (ipykernel)",
   "language": "python",
   "name": "python3"
  },
  "language_info": {
   "codemirror_mode": {
    "name": "ipython",
    "version": 3
   },
   "file_extension": ".py",
   "mimetype": "text/x-python",
   "name": "python",
   "nbconvert_exporter": "python",
   "pygments_lexer": "ipython3",
   "version": "3.10.9"
  }
 },
 "nbformat": 4,
 "nbformat_minor": 5
}
