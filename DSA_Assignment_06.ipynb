{
 "cells": [
  {
   "cell_type": "code",
   "execution_count": null,
   "id": "ee0673da",
   "metadata": {},
   "outputs": [],
   "source": [
    "1).A permutation perm of n + 1 integers of all the integers in the range [0, n] can be represented as a string s of length n where:\n",
    "\n",
    "- s[i] == 'I' if perm[i] < perm[i + 1], and\n",
    "- s[i] == 'D' if perm[i] > perm[i + 1].\n",
    "\n",
    "Given a string s, reconstruct the permutation perm and return it. If there are multiple valid permutations perm, return **any of them**.\n",
    "\n",
    "**Example 1:**\n",
    "\n",
    "**Input:** s = \"IDID\"\n",
    "\n",
    "**Output:**\n",
    "\n",
    "[0,4,1,3,2]"
   ]
  },
  {
   "cell_type": "code",
   "execution_count": null,
   "id": "a3a52daf",
   "metadata": {},
   "outputs": [],
   "source": [
    "class Solution:\n",
    "    def diStringMatch(self, S):\n",
    "        l, r, arr = 0, len(S), []\n",
    "        for s in S:\n",
    "            arr.append(l if s == \"I\" else r)\n",
    "            l, r = l + (s == \"I\"), r - (s == \"D\")\n",
    "        return arr + [l]"
   ]
  },
  {
   "cell_type": "code",
   "execution_count": null,
   "id": "489801a7",
   "metadata": {},
   "outputs": [],
   "source": [
    "2). You are given an m x n integer matrix matrix with the following two properties:\n",
    "     Each row is sorted in non-decreasing order.\n",
    "     The first integer of each row is greater than the last integer of the previous row.\n",
    "    Given an integer target, return true if target is in matrix or false otherwise.\n",
    "    You must write a solution in O(log(m * n)) time complexity.\n",
    "\n",
    "Example 1:\n",
    "            Input: matrix = [[1,3,5,7],[10,11,16,20],[23,30,34,60]], target = 3\n",
    "            Output: true"
   ]
  },
  {
   "cell_type": "code",
   "execution_count": null,
   "id": "349161c1",
   "metadata": {},
   "outputs": [],
   "source": [
    "Steps\n",
    "    -> col := column size of matrix - 1\n",
    "     -> for i in range 0 to row size of matrix, do\n",
    "     -> while matrix[i, col] > target and col >= 0, do\n",
    "     -> col := col - 1\n",
    "     -> if matrix[i, col] is same as target, then\n",
    "     -> return True\n",
    "     -> return Fals"
   ]
  },
  {
   "cell_type": "code",
   "execution_count": 4,
   "id": "0289e1d3",
   "metadata": {},
   "outputs": [
    {
     "name": "stdout",
     "output_type": "stream",
     "text": [
      "True\n"
     ]
    }
   ],
   "source": [
    "class Solution:\n",
    "   def solve(self, matrix, target):\n",
    "      col = len(matrix[0]) - 1\n",
    "      for i in range(len(matrix)):\n",
    "         while matrix[i][col] > target and col >= 0:\n",
    "            col = col - 1\n",
    "         if matrix[i][col] == target:\n",
    "            return True\n",
    "      return False\n",
    "ob = Solution()\n",
    "matrix = [[1,3,5,7],[10,11,16,20],[23,30,34,60]]\n",
    "target = 3\n",
    "print(ob.solve(matrix, target))\n"
   ]
  },
  {
   "cell_type": "code",
   "execution_count": null,
   "id": "200e9bf6",
   "metadata": {},
   "outputs": [],
   "source": [
    "3). Given an array of integers arr, return true if and only if it is a valid mountain array.\n",
    "     Recall that arr is a mountain array if and only if:\n",
    "        arr.length >= 3\n",
    "- There exists some i with 0 < i < arr.length - 1 such that:\n",
    "    - arr[0] < arr[1] < ... < arr[i - 1] < arr[i]\n",
    "    - arr[i] > arr[i + 1] > ... > arr[arr.length - 1]\n",
    "    \n",
    "ex=\n",
    "input arr[2,1]\n",
    "output = false"
   ]
  },
  {
   "cell_type": "code",
   "execution_count": null,
   "id": "43ddf1b6",
   "metadata": {},
   "outputs": [],
   "source": [
    "Approach: \n",
    "    This problem  solved by traversing the array in two parts. \n",
    "    -> First, traverse from start till the index where the current element becomes smaller than its immediate previous one.\n",
    "    -> Then from this index, traverse till the last index and check if the current element is strictly smaller than the previous one.\n",
    "    -> If both the conditions are true, return true.\n",
    "    -> Else at any point, the condition fails, return false."
   ]
  },
  {
   "cell_type": "code",
   "execution_count": 13,
   "id": "537a31b7",
   "metadata": {},
   "outputs": [
    {
     "name": "stdout",
     "output_type": "stream",
     "text": [
      "false\n"
     ]
    }
   ],
   "source": [
    "def isMountainArray(arr):\n",
    " \n",
    "    if (len(arr) < 3):\n",
    "        return False\n",
    "    flag = 0\n",
    "    i = 0\n",
    "    for i in range(1, len(arr)):\n",
    "        if (arr[i] <= arr[i - 1]):\n",
    "            break\n",
    " \n",
    "    if (i == len(arr) or i == 1):\n",
    "        return False\n",
    " \n",
    "    while i < len(arr):\n",
    "        if (arr[i] >= arr[i - 1]):\n",
    "            break\n",
    "        i += 1\n",
    "    return i == len(arr)\n",
    "\n",
    "if __name__ == \"__main__\":\n",
    " \n",
    "    arr = [2,1]\n",
    "    if (isMountainArray(arr)):\n",
    "        print(\"true\")\n",
    "    else:\n",
    "        print(\"false\")"
   ]
  },
  {
   "cell_type": "code",
   "execution_count": null,
   "id": "4f48ae77",
   "metadata": {},
   "outputs": [],
   "source": [
    "4).Given a binary array nums, return the maximum length of a contiguous subarray with an equal number of 0 and 1.\n",
    "\n",
    "Example 1:\n",
    "Input: nums = [0,1]\n",
    "Output: 2\n"
   ]
  },
  {
   "cell_type": "code",
   "execution_count": null,
   "id": "19cb9a34",
   "metadata": {},
   "outputs": [],
   "source": [
    "Algorithm : \n",
    "\n",
    "        -> Use a starting a pointer which signifies the starting point of the sub-array.\n",
    "        \n",
    "        -> Take a variable sum=0 which will take the cumulative sum of all the sub-array elements.\n",
    "        \n",
    "        -> Initialize it with value 1 if the value at starting point=1 else initialize it with -1.\n",
    "        \n",
    "        -> Then start an inner loop and start taking the cumulative sum of elements following the same logic.\n",
    "        \n",
    "        -> If the cumulative sum (value of sum)=0 it signifies that the sub-array has equal number of 0's and 1's.\n",
    "        \n",
    "        -> compare its size with the size of the largest sub-array if it is greater store the first index of such sub-array in a variable and update the value of size.\n",
    "        \n",
    "        -> Print the sub-array with the starting index and size "
   ]
  },
  {
   "cell_type": "code",
   "execution_count": 26,
   "id": "75b3357e",
   "metadata": {},
   "outputs": [
    {
     "data": {
      "text/plain": [
       "2"
      ]
     },
     "execution_count": 26,
     "metadata": {},
     "output_type": "execute_result"
    }
   ],
   "source": [
    "def findSubArray(arr, n):\n",
    "    sum = 0\n",
    "    maxsize = -1\n",
    "    for i in range(0, n-1):\n",
    "    \n",
    "        sum = -1 if(arr[i] == 0) else 1\n",
    "\n",
    "        for j in range(i + 1, n):\n",
    "        \n",
    "            sum = sum + (-1) if (arr[j] == 0) else sum + 1\n",
    "            if (sum == 0 and maxsize < j-i + 1):\n",
    "                \n",
    "                maxsize = j - i + 1\n",
    "                startindex = i\n",
    "\n",
    "    return maxsize\n",
    "arr = [ 0, 1]\n",
    "size = len(arr)\n",
    "findSubArray(arr, size)\n",
    " "
   ]
  },
  {
   "cell_type": "code",
   "execution_count": null,
   "id": "d5f74e00",
   "metadata": {},
   "outputs": [],
   "source": [
    "5). The product sum of two equal-length arrays a and b is equal to the sum of a[i] * b[i] for all 0 <= i < a.length (0-indexed).\n",
    "\n",
    "- For example, if a = [1,2,3,4] and b = [5,2,3,1], the product sum would be 1*5 + 2*2 + 3*3 + 4*1 = 22.\n",
    "\n",
    "Given two arrays nums1 and nums2 of length n, return the minimum product sum if you are allowed to rearrange the order \n",
    "of the elements in nums1.\n",
    "\n",
    "Example 1\n",
    "\n",
    "Input: nums1 = [5,3,4,2], nums2 = [4,2,2,5]\n",
    "\n",
    "Output: 40\n"
   ]
  },
  {
   "cell_type": "code",
   "execution_count": null,
   "id": "e732008d",
   "metadata": {},
   "outputs": [],
   "source": [
    "Algorithm\n",
    "\n",
    "    Sort both the arrays nums1 and nums2.\n",
    "    Traverse the array and for each element, multiply nums1[i] and nums2[n – i – 1] and add to the total."
   ]
  },
  {
   "cell_type": "code",
   "execution_count": 4,
   "id": "e1cb2ff3",
   "metadata": {},
   "outputs": [
    {
     "name": "stdout",
     "output_type": "stream",
     "text": [
      "40\n"
     ]
    }
   ],
   "source": [
    "def minValue(nums1, nums2, n):\n",
    "    nums1.sort()\n",
    "    nums2.sort()\n",
    " \n",
    "    result = 0\n",
    "    for i in range(n):\n",
    "        result += (nums1[i] * nums2[n - i - 1])\n",
    " \n",
    "    return result\n",
    " \n",
    "nums1 = [5,3,4,2]\n",
    "nums2 = [4,2,2,5]\n",
    "n = len(nums1)\n",
    "print (minValue(nums1, nums2, n))"
   ]
  },
  {
   "cell_type": "code",
   "execution_count": null,
   "id": "0d7cac56",
   "metadata": {},
   "outputs": [],
   "source": [
    "6). An integer array original is transformed into a doubled array changed by appending twice the value of \n",
    "    every element in original, and then randomly shuffling the resulting array.\n",
    "    Given an array changed, return original if changed is a doubled array. If changed is not a doubled array, return an\n",
    "    empty array. The elements in original may be returned in any order.\n",
    "Example 1:\n",
    "    Input: changed = [1,3,4,2,6,8]\n",
    "Output: [1,3,4]"
   ]
  },
  {
   "cell_type": "code",
   "execution_count": null,
   "id": "021fee95",
   "metadata": {},
   "outputs": [],
   "source": [
    "Approch:\n",
    "       * Sort the given array arr[] in ascending order\n",
    "\n",
    "       * Iterate through the array elements and store the numbers and their frequencies in a hashmap\n",
    "        \n",
    "        *Create a result list res[] to store the elements present in the original list\n",
    "        \n",
    "        * Add the first element in the result list and reduce the frequency of the element which has a double value of the \n",
    "        first element.\n",
    "            * Traverse the array and check for the frequency of every element in the map:\n",
    "            * If the frequency is greater than 0, then add the element in the result list and decrement the frequency.\n",
    "            \n",
    "    * Otherwise, skip the element and move ahead because it is a double value and not a part of the original array.\n",
    "    * After completing the above steps, print the elements in the list res[]."
   ]
  },
  {
   "cell_type": "code",
   "execution_count": 5,
   "id": "6c6b098c",
   "metadata": {},
   "outputs": [
    {
     "name": "stdout",
     "output_type": "stream",
     "text": [
      "1 3 4 "
     ]
    }
   ],
   "source": [
    "def findOriginal(arr):\n",
    "    numFreq = {}\n",
    "    for i in range(0, len(arr)):\n",
    "        if (arr[i] in numFreq):\n",
    "            numFreq[arr[i]] += 1\n",
    "        else:\n",
    "            numFreq[arr[i]] = 1\n",
    " \n",
    "    arr.sort()\n",
    " \n",
    "    res = []\n",
    " \n",
    "    for i in range(0, len(arr)):\n",
    "       \n",
    "        freq = numFreq[arr[i]]\n",
    "        if (freq > 0):\n",
    "           \n",
    "            res.append(arr[i])\n",
    " \n",
    "            numFreq[arr[i]] -= 1\n",
    " \n",
    "            twice = 2 * arr[i]\n",
    " \n",
    "            numFreq[twice] -= 1\n",
    " \n",
    "    return res\n",
    " \n",
    "arr = [1,3,4,2,6,8]\n",
    "res = findOriginal(arr)\n",
    " \n",
    "for i in range(0, len(res)):\n",
    "    print(res[i], end=\" \")\n",
    "    \n",
    "#Time Complexity: O(N*log N)\n",
    "#Space Complexity: O(N)\n",
    " "
   ]
  },
  {
   "cell_type": "code",
   "execution_count": null,
   "id": "21969b04",
   "metadata": {},
   "outputs": [],
   "source": [
    "7). Given a positive integer n, generate an n x n matrix filled with elements from 1 to n2 in spiral order.\n",
    "    \n",
    "    Example 1\n",
    "    Input: n = 3\n",
    "    Output: [[1,2,3],[8,9,4],[7,6,5]]"
   ]
  },
  {
   "cell_type": "code",
   "execution_count": 9,
   "id": "a2dd8198",
   "metadata": {},
   "outputs": [
    {
     "name": "stdout",
     "output_type": "stream",
     "text": [
      "Output : \n",
      "1 2 3 \n",
      "8 9 4 \n",
      "7 6 5 \n"
     ]
    }
   ],
   "source": [
    "def generate_spiral_matrix(n):\n",
    "    result_matrix = np.zeros((n,n), dtype=int)\n",
    "    rowStart = 0\n",
    "    rowEnd = n-1\n",
    "    colStart = 0\n",
    "    colEnd = n-1\n",
    "    num = 1\n",
    "    while (rowStart <= rowEnd and colStart <= colEnd):\n",
    "        for i in range(colStart, colEnd+1):\n",
    "            result_matrix[rowStart][i] = num\n",
    "            num += 1\n",
    "        rowStart += 1\n",
    "        for i in range(rowStart, rowEnd+1):\n",
    "            result_matrix[i][colEnd] = num\n",
    "            num += 1\n",
    "        colEnd -= 1\n",
    "        for i in range(colEnd, colStart-1, -1):\n",
    "            if (rowStart <= rowEnd):\n",
    "                result_matrix[rowEnd][i] = num\n",
    "                num += 1\n",
    "        rowEnd -= 1\n",
    "        for i in range(rowEnd, rowStart-1, -1):\n",
    "            if (colStart <= colEnd):\n",
    "                result_matrix[i][colStart] = num\n",
    "                num += 1\n",
    "        colStart += 1\n",
    "    return result_matrix\n",
    "\n",
    "n = 3\n",
    "result_matrix = generate_spiral_matrix(n)\n",
    "print(\"Output : \")\n",
    "for i in range(n):\n",
    "    for j in range(n):\n",
    "        print(result_matrix[i][j], end=' ')\n",
    "    print()\n"
   ]
  },
  {
   "cell_type": "code",
   "execution_count": null,
   "id": "5c7f404b",
   "metadata": {},
   "outputs": [],
   "source": []
  },
  {
   "cell_type": "code",
   "execution_count": null,
   "id": "45a3c9df",
   "metadata": {},
   "outputs": [],
   "source": []
  }
 ],
 "metadata": {
  "kernelspec": {
   "display_name": "Python 3 (ipykernel)",
   "language": "python",
   "name": "python3"
  },
  "language_info": {
   "codemirror_mode": {
    "name": "ipython",
    "version": 3
   },
   "file_extension": ".py",
   "mimetype": "text/x-python",
   "name": "python",
   "nbconvert_exporter": "python",
   "pygments_lexer": "ipython3",
   "version": "3.10.9"
  }
 },
 "nbformat": 4,
 "nbformat_minor": 5
}
