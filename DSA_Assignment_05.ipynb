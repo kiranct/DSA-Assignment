{
 "cells": [
  {
   "cell_type": "code",
   "execution_count": null,
   "id": "2013047e",
   "metadata": {},
   "outputs": [],
   "source": [
    "1). Convert 1D Array Into 2D Array You are given a 0-indexed 1-dimensional (1D) integer array original, and two integers,\n",
    "    m and n. You are tasked with creating a 2-dimensional (2D) array with m rows and n columns using  all  the elements \n",
    "    from original. The elements from indices 0 to n - 1 (inclusive) of original should form the first row of the constructed\n",
    "    2D array, the elements from indices n to 2 * n - 1 (inclusive) should form the second row of the constructed 2D array,\n",
    "    and so on. Return an m x n 2D array constructed according to the above procedure, or an empty 2D array if it is impossible.\n",
    "    Example 1:\n",
    "        input = original[1,2,3,4]m=2 n=2\n",
    "        output = [[1, 2], [3, 4]]"
   ]
  },
  {
   "cell_type": "code",
   "execution_count": 22,
   "id": "99a053d1",
   "metadata": {},
   "outputs": [
    {
     "data": {
      "text/plain": [
       "[[1, 2], [3, 4]]"
      ]
     },
     "execution_count": 22,
     "metadata": {},
     "output_type": "execute_result"
    }
   ],
   "source": [
    "def list_2d(list1,rows, columns):    \n",
    "        result=[]               \n",
    "        start = 0\n",
    "        end = columns\n",
    "        for i in range(rows): \n",
    "            result.append(list1[start:end])\n",
    "            start +=columns\n",
    "            end += columns\n",
    "        return result\n",
    "my_list = [1,2,3,4]\n",
    "list_2d(my_list,2,2,)"
   ]
  },
  {
   "cell_type": "code",
   "execution_count": null,
   "id": "1b6aab85",
   "metadata": {},
   "outputs": [],
   "source": [
    "2). Given an integer array nums of 2n integers, group these integers into n pairs (a1, b1), (a2, b2), ..., (an, bn) such \n",
    "that the sum of min(ai, bi) for all i is maximized. Return the maximized sum.\n",
    "Example 1:\n",
    "Input: nums = [1,4,3,2]\n",
    "Output: 4\n"
   ]
  },
  {
   "cell_type": "code",
   "execution_count": null,
   "id": "33f89fcf",
   "metadata": {},
   "outputs": [],
   "source": [
    "\"\"\"\n",
    "Algorithm\n",
    "\n",
    "Sort the list nums.\n",
    "\n",
    "Initialize the answer variable Sum as 0.\n",
    "\n",
    "Iterate over the list nums and add the elements at even indices to Sum.\n",
    "\n",
    "Return Sum.\n",
    "\"\"\""
   ]
  },
  {
   "cell_type": "code",
   "execution_count": null,
   "id": "536cf977",
   "metadata": {},
   "outputs": [],
   "source": [
    "class ArrayPartition1:\n",
    "    def arrayPairSum(self, nums: list[int]) -> int:\n",
    "        nums.sort()\n",
    "        sum = 0\n",
    "        for i in range(0, len(nums)-1, 2):\n",
    "            sum += min(nums[i], nums[i+1])\n",
    "        return sum\n",
    "#Time complexity: O(Nlog⁡N)\n",
    "#Space complexity: O(N)"
   ]
  },
  {
   "cell_type": "code",
   "execution_count": null,
   "id": "4e6312f0",
   "metadata": {},
   "outputs": [],
   "source": [
    "3). Given an integer array nums sorted in non-decreasing order, return an array of the squares of each number sorted in \n",
    "non-decreasing order.\n",
    "Example 1:\n",
    "Input: nums = [-4,-1,0,3,10]\n",
    "Output: [0,1,9,16,100]"
   ]
  },
  {
   "cell_type": "code",
   "execution_count": null,
   "id": "32935971",
   "metadata": {},
   "outputs": [],
   "source": [
    "\"\"\"\n",
    "Algorithm:\n",
    "\n",
    "Initialize left=0 and right=n-1\n",
    "\n",
    "if abs(left) >= abs(right) then store square(arr[left])\n",
    "\n",
    "at the end of result array and increment left pointer\n",
    "\n",
    "else store square(arr[right]) in the result array and decrement right pointer\n",
    "decrement index of result array\n",
    "\"\"\""
   ]
  },
  {
   "cell_type": "code",
   "execution_count": 27,
   "id": "356765ac",
   "metadata": {},
   "outputs": [
    {
     "name": "stdout",
     "output_type": "stream",
     "text": [
      "Before sort\n",
      "-4 -1 0 3 10 \n",
      "\n",
      "After sort\n",
      "0 1 9 16 100 "
     ]
    }
   ],
   "source": [
    "def sortSquare(arr, n):\n",
    "    for i in range(n):\n",
    "        arr[i]= arr[i] * arr[i]\n",
    "    arr.sort()\n",
    " \n",
    "\n",
    "arr = [-4,-1,0,3,10]\n",
    "n = len(arr)\n",
    " \n",
    "print(\"Before sort\")\n",
    "for i in range(n):\n",
    "    print(arr[i], end = \" \")\n",
    "\n",
    "print(\"\\n\")\n",
    " \n",
    "sortSquare(arr, n)\n",
    " \n",
    "print(\"After sort\")\n",
    "for i in range(n):\n",
    "    print(arr[i], end = \" \")\n",
    "    \n",
    "#Time complexity: O(n) \n",
    "#Space complexity: O(n)"
   ]
  },
  {
   "cell_type": "code",
   "execution_count": null,
   "id": "f8a196fe",
   "metadata": {},
   "outputs": [],
   "source": [
    "4). Given two 0-indexed integer arrays nums1 and nums2, return a list answer of size 2 where:\n",
    "    answer[0] is a list of all distinct integers in nums1 which are not present in nums2*.*\n",
    "    answer[1] is a list of all distinct integers in nums2 which are not present in nums1.\n",
    "    Note that the integers in the lists may be returned in any order.\n",
    "    Example 1:\n",
    "    Input: nums1 = [1,2,3], nums2 = [2,4,6]\n",
    "    Output: [[1,3],[4,6]]"
   ]
  },
  {
   "cell_type": "code",
   "execution_count": null,
   "id": "4a8ddef0",
   "metadata": {},
   "outputs": [],
   "source": [
    "\"\"\"\n",
    "1). Define method getElementsOnlyInFirstList, this method accepts two lists of integers and returns \n",
    "the elements that are present only in the first argument:\n",
    " loop over the first list and for every element, check the second list. If the element is found in the second list we break\n",
    " and mark a boolean variable existInNums2 as true.\n",
    " \n",
    "After checking all the elements in the second list, if the variable existInNums2 is false, only then we store the element\n",
    "in the list onlyInNums1.\n",
    "\n",
    "Return onlyInNums1.\n",
    "\n",
    "2). Call the method getElementsOnlyInFirstList once for the param (nums1, nums2) and then again for (nums2, nums1).\n",
    "\"\"\""
   ]
  },
  {
   "cell_type": "code",
   "execution_count": null,
   "id": "fb6a5ef0",
   "metadata": {},
   "outputs": [],
   "source": [
    "class Solution:\n",
    "    def findDifference(self, nums1: list[int], nums2: list[int]) -> list[list[int]]:\n",
    "        print [list(set(nums1).difference(nums2)), list(set(nums2).difference(nums1))]\n",
    "        \n",
    "#Time complexity= O(N∗M)\n",
    "#Space complexity= O(1)"
   ]
  },
  {
   "cell_type": "code",
   "execution_count": null,
   "id": "57d2348f",
   "metadata": {},
   "outputs": [],
   "source": [
    "5).Given two integer arrays arr1 and arr2, and the integer d, return the distance value between the two arrays.\n",
    "\n",
    "The distance value is defined as the number of elements arr1[i] such that there is not \n",
    "any element arr2[j] where |arr1[i]-arr2[j]| <= d.\n",
    "\n",
    "Example 1:\n",
    "\n",
    "Input: arr1 = [4,5,8], arr2 = [10,9,1,8], d = 2\n",
    "\n",
    "Output: 2"
   ]
  },
  {
   "cell_type": "code",
   "execution_count": null,
   "id": "f21497fb",
   "metadata": {},
   "outputs": [],
   "source": [
    "Optimized Approach\n",
    "\n",
    "#finding the two closest elements from the second array to the picked element of the first array.\n",
    "\n",
    "#To find these two closest elements, we sort the second array and use binary search.\n",
    "\n",
    "#Using binary search we find the element that is equal or greater than the picked element\n",
    "\n",
    "# The element that is just smaller than the current element is also used to evaluate the difference."
   ]
  },
  {
   "cell_type": "code",
   "execution_count": 30,
   "id": "0fdc2be7",
   "metadata": {},
   "outputs": [
    {
     "name": "stdout",
     "output_type": "stream",
     "text": [
      "2\n"
     ]
    }
   ],
   "source": [
    "import numpy as np\n",
    "\n",
    "def findTheDistanceValue(arr1, arr2, d):\n",
    "    arr2 = np.sort(arr2)\n",
    "    ans = 0\n",
    "    for i in range(len(arr1)):\n",
    "        it = np.searchsorted(arr2, arr1[i])\n",
    "        if it == len(arr2):\n",
    "            it -= 1\n",
    "        isIt = False\n",
    "        if it < len(arr2) and abs(arr2[it] - arr1[i]) <= d:\n",
    "            isIt = True\n",
    "        if it != 0 and abs(arr2[it-1] - arr1[i]) <= d:\n",
    "            isIt = True\n",
    "        if not isIt:\n",
    "            ans += 1\n",
    "    return ans\n",
    "\n",
    "arr1 = [4,5,8]\n",
    "arr2 = [10,9,1,8]\n",
    "d = 2\n",
    "print(findTheDistanceValue(arr1, arr2, d))\n",
    "\n",
    "# time complexity = O(max(M, N)logN\n",
    "# space complexity =O(N)"
   ]
  },
  {
   "cell_type": "code",
   "execution_count": null,
   "id": "8f3cc436",
   "metadata": {},
   "outputs": [],
   "source": [
    "6). Given an integer array nums of length n where all the integers of nums are in the range [1, n] and each integer appears once\n",
    "or twice, return an array of all the integers that appears twice\n",
    "You must write an algorithm that runs in O(n) time and uses only constant extra space.\n",
    "\n",
    "Example 1:\n",
    "Input:nums = [4,3,2,7,8,2,3,1]\n",
    "Output:\n",
    "\n",
    "[2,3]"
   ]
  },
  {
   "cell_type": "code",
   "execution_count": null,
   "id": "5edd1681",
   "metadata": {},
   "outputs": [],
   "source": [
    "Algorithm:\n",
    "    \n",
    "Traverse the array and increment each element  by 1. This is done to remove occurrence of 0 from the array.\n",
    "Later, while adding the duplicate elements in the result vector, we decrement elements by 1 to get actual value.\n",
    "\n",
    "Declare result vector.\n",
    "\n",
    "Declare a count variable to count the occurrence of (n-1)th element in the array. \n",
    "\n",
    "Run a for loop from 0 to n and in each iteration of the loop\n",
    "\n",
    "Check if obtained index value is equal to n, if so, increment the count variable and move to the next iteration, \n",
    "as we will calculate the occurrence of n separately.\n",
    "\n",
    "Get the value of element at calculated index in a variable and run the following else-if conditions:\n",
    "    \n",
    "    If this value is less than 0 (-ve), it means that element equal to its index has appeared twice, \n",
    "    thus push the value of index-1 in result vector.\n",
    "\n",
    "    if this value is greater than n, it means that element equal to the index value has already been pushed\n",
    "    to result vector and nothing needs to be done. \n",
    "    \n",
    "    If this value is between 0 and n, it means that the element equal to the index value has appeared for the first time\n",
    "    and thus make it negative.\n",
    "    \n",
    "After exiting from the for loop, if the value of count variable is more than 1, it means that the largest possible element\n",
    "(n) has duplicates in the array and thus, push (n-1) to result vector.\n",
    "\n",
    "Check if size of result vector is 0, if so, push -1 as there are no duplicates. Otherwise, sort the result vector\n",
    "\n",
    "Return the result vector"
   ]
  },
  {
   "cell_type": "code",
   "execution_count": 32,
   "id": "94ec5330",
   "metadata": {},
   "outputs": [
    {
     "name": "stdout",
     "output_type": "stream",
     "text": [
      "2\n",
      "3\n"
     ]
    }
   ],
   "source": [
    "def duplicates(arr, n):\n",
    "\n",
    "    for i in range(n):\n",
    "        arr[i] = arr[i] + 1\n",
    "          \n",
    "\n",
    "    res = []\n",
    "      \n",
    " \n",
    "    count = 0\n",
    "    for i in range(n):\n",
    "        \n",
    "        if(abs(arr[i]) > n):\n",
    "            index = abs(arr[i])//(n+1)\n",
    "        else:\n",
    "            index = abs(arr[i])\n",
    "              \n",
    "       \n",
    "        if(index == n):\n",
    "            count += 1\n",
    "            continue\n",
    "              \n",
    "    \n",
    "        val = arr[index]\n",
    "          \n",
    "       \n",
    "        if(val < 0):\n",
    "            res.append(index-1)\n",
    "            arr[index] = abs(arr[index]) * (n + 1)\n",
    "        elif(val>n):\n",
    "            continue\n",
    "        else:\n",
    "            arr[index] = -arr[index]\n",
    "              \n",
    "    \n",
    "    if(count > 1):\n",
    "        res.append(n - 1)\n",
    "    if(len(res) == 0):\n",
    "        res.append(-1)\n",
    "    else:\n",
    "        res.sort()\n",
    "    return res\n",
    "\n",
    "numRay = [ 0, 4, 3, 2, 7, 8, 2, 3, 1 ]\n",
    "n = len(numRay)\n",
    "ans = duplicates(numRay,n)\n",
    "for i in ans:\n",
    "    print(i)\n",
    "    \n",
    "#Time Complexity =O(n)\n",
    "#Space Complexity =O(1)"
   ]
  },
  {
   "cell_type": "code",
   "execution_count": null,
   "id": "76850f2e",
   "metadata": {},
   "outputs": [],
   "source": [
    "7). Suppose an array of length n sorted in ascending order is rotated between 1 and n times. For example, the array nums = [0,1,2,4,5,6,7] might become:\n",
    "\n",
    "[4,5,6,7,0,1,2] if it was rotated 4 times.\n",
    "[0,1,2,4,5,6,7] if it was rotated 7 times.\n",
    "Notice that rotating an array [a[0], a[1], a[2], ..., a[n-1]] 1 time results in the array [a[n-1], a[0], a[1], a[2], ..., a[n-2]].\n",
    "\n",
    "Given the sorted rotated array nums of unique elements, return the minimum element of this array.\n",
    "\n",
    "You must write an algorithm that runs in O(log n) time.\n",
    "\n",
    "Example 1:\n",
    "    Input:nums = [3,4,5,1,2]\n",
    "        Output:1"
   ]
  },
  {
   "cell_type": "code",
   "execution_count": null,
   "id": "893201fe",
   "metadata": {},
   "outputs": [],
   "source": [
    "Approch :- binary Search\n",
    "\n",
    "The minimum element is the only element whose previous is greater than it. If there is no previous element,\n",
    "then there is no rotation \n",
    "\n",
    "We check this condition for the middle element by comparing it with (mid-1)th and (mid+1)th elements.\n",
    "\n",
    "If the minimum element is not at the middle (neither mid nor mid + 1), then: \n",
    "    \n",
    "If the middle element is smaller than the last element, then the minimum element lies in the left half\n",
    "\n",
    "Else minimum element lies in the right half."
   ]
  },
  {
   "cell_type": "code",
   "execution_count": 38,
   "id": "2c1c81f1",
   "metadata": {},
   "outputs": [
    {
     "name": "stdout",
     "output_type": "stream",
     "text": [
      "The minimum element is 1\n"
     ]
    }
   ],
   "source": [
    "def findMin(arr, low, high):\n",
    "    if high < low:\n",
    "        return arr[0]\n",
    " \n",
    "    if high == low:\n",
    "        return arr[low]\n",
    " \n",
    "    mid = int((low + high)/2)\n",
    " \n",
    "    if mid < high and arr[mid+1] < arr[mid]:\n",
    "        return arr[mid+1]\n",
    " \n",
    "    if mid > low and arr[mid] < arr[mid - 1]:\n",
    "        return arr[mid]\n",
    " \n",
    "    \n",
    "    if arr[high] > arr[mid]:\n",
    "        return findMin(arr, low, mid-1)\n",
    "    return findMin(arr, mid+1, high)\n",
    " \n",
    "if __name__ == '__main__':\n",
    "    arr =  [3,4,5,1,2]\n",
    "    N = len(arr)\n",
    "    print(\"The minimum element is \" + \\\n",
    "          str(findMin(arr, 0, N-1)))\n",
    "    \n",
    "#Time Complexity: O(logN)\n",
    "#Space Complexity: O(1)"
   ]
  },
  {
   "cell_type": "code",
   "execution_count": null,
   "id": "3f912650",
   "metadata": {},
   "outputs": [],
   "source": [
    "8). An integer array original is transformed into a doubled array changed by appending twice the value of \n",
    "    every element in original, and then randomly shuffling the resulting array.\n",
    "    Given an array changed, return original if changed is a doubled array. If changed is not a doubled array, return an\n",
    "    empty array. The elements in original may be returned in any order.\n",
    "Example 1:\n",
    "    Input: changed = [1,3,4,2,6,8]\n",
    "Output: [1,3,4]"
   ]
  },
  {
   "cell_type": "code",
   "execution_count": null,
   "id": "22b3c900",
   "metadata": {},
   "outputs": [],
   "source": [
    "Approch:\n",
    "       * Sort the given array arr[] in ascending order\n",
    "\n",
    "       * Iterate through the array elements and store the numbers and their frequencies in a hashmap\n",
    "        \n",
    "        *Create a result list res[] to store the elements present in the original list\n",
    "        \n",
    "        * Add the first element in the result list and reduce the frequency of the element which has a double value of the \n",
    "        first element.\n",
    "            * Traverse the array and check for the frequency of every element in the map:\n",
    "            * If the frequency is greater than 0, then add the element in the result list and decrement the frequency.\n",
    "            \n",
    "    * Otherwise, skip the element and move ahead because it is a double value and not a part of the original array.\n",
    "    * After completing the above steps, print the elements in the list res[]."
   ]
  },
  {
   "cell_type": "code",
   "execution_count": 42,
   "id": "280b08a2",
   "metadata": {},
   "outputs": [
    {
     "name": "stdout",
     "output_type": "stream",
     "text": [
      "1 3 4 "
     ]
    }
   ],
   "source": [
    "def findOriginal(arr):\n",
    "    numFreq = {}\n",
    "    for i in range(0, len(arr)):\n",
    "        if (arr[i] in numFreq):\n",
    "            numFreq[arr[i]] += 1\n",
    "        else:\n",
    "            numFreq[arr[i]] = 1\n",
    " \n",
    "    arr.sort()\n",
    " \n",
    "    res = []\n",
    " \n",
    "    for i in range(0, len(arr)):\n",
    "       \n",
    "        freq = numFreq[arr[i]]\n",
    "        if (freq > 0):\n",
    "           \n",
    "            res.append(arr[i])\n",
    " \n",
    "            numFreq[arr[i]] -= 1\n",
    " \n",
    "            twice = 2 * arr[i]\n",
    " \n",
    "            numFreq[twice] -= 1\n",
    " \n",
    "    return res\n",
    " \n",
    "arr = [1,3,4,2,6,8]\n",
    "res = findOriginal(arr)\n",
    " \n",
    "for i in range(0, len(res)):\n",
    "    print(res[i], end=\" \")\n",
    "    \n",
    "#Time Complexity: O(N*log N)\n",
    "#Space Complexity: O(N)\n",
    " "
   ]
  },
  {
   "cell_type": "code",
   "execution_count": null,
   "id": "c1ca421f",
   "metadata": {},
   "outputs": [],
   "source": []
  }
 ],
 "metadata": {
  "kernelspec": {
   "display_name": "Python 3 (ipykernel)",
   "language": "python",
   "name": "python3"
  },
  "language_info": {
   "codemirror_mode": {
    "name": "ipython",
    "version": 3
   },
   "file_extension": ".py",
   "mimetype": "text/x-python",
   "name": "python",
   "nbconvert_exporter": "python",
   "pygments_lexer": "ipython3",
   "version": "3.10.9"
  }
 },
 "nbformat": 4,
 "nbformat_minor": 5
}
