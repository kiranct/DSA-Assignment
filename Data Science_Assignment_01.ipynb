{
 "cells": [
  {
   "cell_type": "code",
   "execution_count": 2,
   "id": "41b31592",
   "metadata": {},
   "outputs": [
    {
     "name": "stdout",
     "output_type": "stream",
     "text": [
      "The original string is : Welcome\n",
      "The reversed string is : emocleW\n"
     ]
    }
   ],
   "source": [
    "#1. Write a Python program to reverse a string without using any built-in string reversal functions.\n",
    "\n",
    "def reverse(s):\n",
    "    str = \"\"\n",
    "    for i in s:\n",
    "        str = i + str\n",
    "    return str\n",
    " \n",
    "s = \"Welcome\"\n",
    " \n",
    "print(\"The original string is : \", end=\"\")\n",
    "print(s)\n",
    " \n",
    "print(\"The reversed string is : \", end=\"\")\n",
    "print(reverse(s))\n"
   ]
  },
  {
   "cell_type": "code",
   "execution_count": 12,
   "id": "72ecd692",
   "metadata": {},
   "outputs": [
    {
     "name": "stdout",
     "output_type": "stream",
     "text": [
      "The given string is a palindrome\n",
      "\n",
      "The given string is not a palindrome\n"
     ]
    }
   ],
   "source": [
    "#2. Implement a function to check if a given string is a palindrome.\n",
    "\n",
    "def Palindrome(str):\n",
    "\n",
    "    for i in range(0, int(len(str)/2)):\n",
    "        if str[i] != str[len(str)-i-1]:\n",
    "            return False\n",
    "    return True\n",
    "\n",
    "s = \"malayalam\"\n",
    "ans = Palindrome(s)\n",
    " \n",
    "if (ans):\n",
    "    print(\"The given string is a palindrome\\n\")\n",
    "else:\n",
    "    print(\"The given string is not a palindrome\\n\")\n",
    "    \n",
    "s = \"Welcome\"\n",
    "ans = Palindrome(s)\n",
    " \n",
    "if (ans):\n",
    "    print(\"The given string is a palindrome\")\n",
    "else:\n",
    "    print(\"The given string is not a palindrome\")"
   ]
  },
  {
   "cell_type": "code",
   "execution_count": 15,
   "id": "e9fc1834",
   "metadata": {},
   "outputs": [
    {
     "name": "stdout",
     "output_type": "stream",
     "text": [
      "Largest element in the list is:  78\n"
     ]
    }
   ],
   "source": [
    "#3. Write a program to find the largest element in a given list.\n",
    "\n",
    "def FindLargest(i, element, list):\n",
    "\n",
    "    if i == len(list):\n",
    "        print(\"Largest element in the list is: \", element)\n",
    "        return\n",
    "    \n",
    "    if element < list[i]:\n",
    "        element = list[i]\n",
    "\n",
    "    FindLargest(i+1, element, list)\n",
    " \n",
    "    return\n",
    " \n",
    "\n",
    "list = [20, 15, 78, 9, 55, 4] \n",
    "FindLargest(0, list[0], list)"
   ]
  },
  {
   "cell_type": "code",
   "execution_count": 20,
   "id": "ebe796fa",
   "metadata": {},
   "outputs": [
    {
     "name": "stdout",
     "output_type": "stream",
     "text": [
      "8 has occurred 5 times\n"
     ]
    }
   ],
   "source": [
    "#4. Implement a function to count the occurrence of each element in a list.\n",
    "\n",
    "def countX(list, x):\n",
    "    count = 0\n",
    "    for ele in lst:\n",
    "        if (ele == x):\n",
    "            count = count + 1\n",
    "    return count\n",
    "\n",
    "list = [8, 6, 8, 10, 8, 20, 10, 8, 8]\n",
    "x = 8\n",
    "print('{} has occurred {} times'.format(x,countX(list, x)))"
   ]
  },
  {
   "cell_type": "code",
   "execution_count": 22,
   "id": "ba709aaf",
   "metadata": {},
   "outputs": [
    {
     "name": "stdout",
     "output_type": "stream",
     "text": [
      "45\n"
     ]
    }
   ],
   "source": [
    "#5.Write a Python program to find the second largest number in a list.\n",
    "\n",
    "list = [10, 20, 4, 45, 99]\n",
    "new_list = set(list)\n",
    "new_list.remove(max(new_list))\n",
    "print(max(new_list))"
   ]
  },
  {
   "cell_type": "code",
   "execution_count": 23,
   "id": "e157bddc",
   "metadata": {},
   "outputs": [
    {
     "name": "stdout",
     "output_type": "stream",
     "text": [
      "[2, 4, 10, 20, 5]\n"
     ]
    }
   ],
   "source": [
    "#6. Implement a function to remove duplicate elements from a list.\n",
    "\n",
    "def Remove(duplicate):\n",
    "    final_list = []\n",
    "    for num in duplicate:\n",
    "        if num not in final_list:\n",
    "            final_list.append(num)\n",
    "    return final_list\n",
    "\n",
    "duplicate = [2, 4, 10, 20, 5, 2, 20, 4]\n",
    "print(Remove(duplicate))"
   ]
  },
  {
   "cell_type": "code",
   "execution_count": 26,
   "id": "83bd72ed",
   "metadata": {},
   "outputs": [
    {
     "name": "stdout",
     "output_type": "stream",
     "text": [
      "Factorial of 6 is 720\n"
     ]
    }
   ],
   "source": [
    "#7. Write a program to calculate the factorial of a given number.\n",
    "\n",
    "def factorial(n):\n",
    "    return 1 if (n==1 or n==0) else n * factorial(n - 1)\n",
    "num = 6\n",
    "print(\"Factorial of\",num,\"is\",factorial(num))"
   ]
  },
  {
   "cell_type": "code",
   "execution_count": 34,
   "id": "9c560a10",
   "metadata": {},
   "outputs": [
    {
     "name": "stdout",
     "output_type": "stream",
     "text": [
      "10 is not a prime number\n"
     ]
    }
   ],
   "source": [
    "#8. Implement a function to check if a given number is prime.\n",
    "\n",
    "num = 10\n",
    "if num > 1:\n",
    "    for i in range(2, int(num/2)+1):\n",
    "        if (num % i) == 0:\n",
    "            print(num, \"is not a prime number\")\n",
    "            break\n",
    "    else:\n",
    "        print(num, \"is a prime number\")\n",
    "else:\n",
    "    print(num, \"is not a prime number\")"
   ]
  },
  {
   "cell_type": "code",
   "execution_count": 40,
   "id": "602c3f8c",
   "metadata": {},
   "outputs": [
    {
     "name": "stdout",
     "output_type": "stream",
     "text": [
      "[1, 3, 4, 2]\n",
      "[1, 2, 3, 4]\n"
     ]
    }
   ],
   "source": [
    "#9. Write a Python program to sort a list of integers in ascending order.\n",
    "\n",
    "numbers = [1, 3, 4, 2]\n",
    "print(numbers)\n",
    "numbers.sort() \n",
    "print(numbers)           "
   ]
  },
  {
   "cell_type": "code",
   "execution_count": 42,
   "id": "882e8275",
   "metadata": {},
   "outputs": [
    {
     "name": "stdout",
     "output_type": "stream",
     "text": [
      "Sum of all elements in given list:  24\n"
     ]
    }
   ],
   "source": [
    "#10. Implement a function to find the sum of all numbers in a list.\n",
    "\n",
    "total = 0\n",
    "list = [1, 5, 7, 8, 3]\n",
    "\n",
    "for ele in range(0, len(list)):\n",
    "    total = total + list[ele]\n",
    "print(\"Sum of all elements in given list: \", total)"
   ]
  },
  {
   "cell_type": "code",
   "execution_count": 1,
   "id": "10b0818e",
   "metadata": {},
   "outputs": [
    {
     "name": "stdout",
     "output_type": "stream",
     "text": [
      "{5}\n",
      "No common elements\n"
     ]
    }
   ],
   "source": [
    "#11.Write a program to find the common elements between two lists.\n",
    "\n",
    "\n",
    "def common_member(a, b):\n",
    "    a_set = set(a)\n",
    "    b_set = set(b)\n",
    " \n",
    "    if (a_set & b_set):\n",
    "        print(a_set & b_set)\n",
    "    else:\n",
    "        print(\"No common elements\")\n",
    "          \n",
    "  \n",
    "a = [1, 2, 3, 4, 5]\n",
    "b = [5, 6, 7, 8, 9]\n",
    "common_member(a, b)\n",
    "  \n",
    "a = [1, 2, 3, 4, 5]\n",
    "b = [6, 7, 8, 9]\n",
    "common_member(a, b)"
   ]
  },
  {
   "cell_type": "code",
   "execution_count": 2,
   "id": "a44515e7",
   "metadata": {},
   "outputs": [
    {
     "name": "stdout",
     "output_type": "stream",
     "text": [
      "The strings aren't anagrams.\n"
     ]
    }
   ],
   "source": [
    "#12.Implement a function to check if a given string is an anagram of another string.\n",
    "def check(s1, s2):\n",
    "     \n",
    "  \n",
    "    if(sorted(s1)== sorted(s2)):\n",
    "        print(\"The strings are anagrams.\")\n",
    "    else:\n",
    "        print(\"The strings aren't anagrams.\")        \n",
    "         \n",
    "\n",
    "s1 =\"red\"\n",
    "s2 =\"black\"\n",
    "check(s1, s2)"
   ]
  },
  {
   "cell_type": "code",
   "execution_count": 3,
   "id": "cf80a069",
   "metadata": {},
   "outputs": [
    {
     "name": "stdout",
     "output_type": "stream",
     "text": [
      "ABC\n",
      "ACB\n",
      "BAC\n",
      "BCA\n",
      "CBA\n",
      "CAB\n"
     ]
    }
   ],
   "source": [
    "#13. Write a Python program to generate all permutations of a given string.\n",
    "\n",
    "def toString(List):\n",
    "    return ''.join(List)\n",
    " \n",
    "\n",
    "def permute(a, l, r):\n",
    "    if l == r:\n",
    "        print (toString(a))\n",
    "    else:\n",
    "        for i in range(l, r + 1):\n",
    "            a[l], a[i] = a[i], a[l]\n",
    "            permute(a, l + 1, r)\n",
    " \n",
    "            a[l], a[i] = a[i], a[l]\n",
    "    \n",
    "string = \"ABC\"\n",
    "n = len(string)\n",
    "a = list(string)\n",
    "permute(a, 0, n-1)"
   ]
  },
  {
   "cell_type": "code",
   "execution_count": 7,
   "id": "29c34124",
   "metadata": {},
   "outputs": [
    {
     "name": "stdout",
     "output_type": "stream",
     "text": [
      "0 1 1 2 3 5 8 13 "
     ]
    }
   ],
   "source": [
    "#14. Implement a function to calculate the Fibonacci sequence up to a given number of terms.\n",
    "\n",
    "n = 8\n",
    "num1 = 0\n",
    "num2 = 1\n",
    "next_number = 0\n",
    "count = 1\n",
    "  \n",
    "while(count <= n):\n",
    "    print(next_number, end=\" \")\n",
    "    count += 1\n",
    "    num1 = num2\n",
    "    num2 = next_number\n",
    "    next_number = num1 + num2\n",
    "    t_number = num1 + num2"
   ]
  },
  {
   "cell_type": "code",
   "execution_count": 8,
   "id": "ece68922",
   "metadata": {},
   "outputs": [
    {
     "name": "stdout",
     "output_type": "stream",
     "text": [
      "The given list : [4, 5, 8, 9, 10, 17]\n",
      "Median of list is : 8.5\n"
     ]
    }
   ],
   "source": [
    "#15.Write a program to find the median of a list of numbers.\n",
    "\n",
    "\n",
    "list = [4, 5, 8, 9, 10, 17]\n",
    " \n",
    "print(\"The given list : \" + str(list))\n",
    " \n",
    "list.sort()\n",
    "mid = len(list) // 2\n",
    "res = (list[mid] + list[~mid]) / 2\n",
    " \n",
    "print(\"Median of list is : \" + str(res))"
   ]
  },
  {
   "cell_type": "code",
   "execution_count": 9,
   "id": "31370e6d",
   "metadata": {},
   "outputs": [
    {
     "name": "stdout",
     "output_type": "stream",
     "text": [
      "Given list : [10, 8, 4, 3, 1]\n",
      "Yes, List is reverse sorted.\n"
     ]
    }
   ],
   "source": [
    "#16. Implement a function to check if a given list is sorted in non-decreasing order.\n",
    "\n",
    "list = [10, 8, 4, 3, 1]\n",
    "print (\"Given list : \" + str(list))\n",
    "flag = 0\n",
    "i = 1\n",
    "while i < len(list):\n",
    "    if(list[i] > list[i - 1]):\n",
    "        flag = 1\n",
    "    i += 1\n",
    "     \n",
    "if (not flag) :\n",
    "    print (\"Yes, List is reverse sorted.\")\n",
    "else :\n",
    "    print (\"No, List is not reverse sorted.\")\n"
   ]
  },
  {
   "cell_type": "code",
   "execution_count": 10,
   "id": "e9928aab",
   "metadata": {},
   "outputs": [
    {
     "name": "stdout",
     "output_type": "stream",
     "text": [
      "[9, 11, 26, 28]\n"
     ]
    }
   ],
   "source": [
    "#17.Write a Python program to find the intersection of two lists.\n",
    "\n",
    "def intersection(lst1, lst2):\n",
    "    lst3 = [value for value in lst1 if value in lst2]\n",
    "    return lst3\n",
    " \n",
    "\n",
    "lst1 = [4, 9, 1, 17, 11, 26, 28, 54, 69]\n",
    "lst2 = [9, 9, 74, 21, 45, 11, 63, 28, 26]\n",
    "print(intersection(lst1, lst2))"
   ]
  },
  {
   "cell_type": "code",
   "execution_count": 11,
   "id": "15b0b343",
   "metadata": {},
   "outputs": [
    {
     "name": "stdout",
     "output_type": "stream",
     "text": [
      "6 -2 -3 1 5 "
     ]
    }
   ],
   "source": [
    "#18. Implement a function to find the maximum subarray sum in a given list.\n",
    "\n",
    "def SubarrayWithMaxSum(nums):\n",
    "         \n",
    "    currMax = nums[0]\n",
    "    globalMax = nums[0]\n",
    "   \n",
    "    for i in range(1, len(nums)):\n",
    "         \n",
    "        currMax = max(nums[i],\n",
    "                      nums[i] + currMax)\n",
    "        \n",
    "        if (currMax > globalMax):\n",
    "            globalMax = currMax\n",
    "            endIndex = i\n",
    "     \n",
    "    startIndex = endIndex\n",
    "    \n",
    "    while (startIndex >= 0):\n",
    "        globalMax -= nums[startIndex]\n",
    " \n",
    "        if (globalMax == 0):\n",
    "            break\n",
    "         \n",
    "        startIndex -= 1   \n",
    " \n",
    "    for i in range(startIndex, endIndex + 1):\n",
    "        print(nums[i], end = \" \")\n",
    "        \n",
    "arr = [ -2, -5, 6, -2, -3, 1, 5, -6 ] \n",
    "\n",
    "SubarrayWithMaxSum(arr)\n",
    " "
   ]
  },
  {
   "cell_type": "code",
   "execution_count": 13,
   "id": "b5e79e32",
   "metadata": {},
   "outputs": [
    {
     "name": "stdout",
     "output_type": "stream",
     "text": [
      "Lrnng Pythn \n"
     ]
    }
   ],
   "source": [
    "#19.Write a program to remove all vowels from a given string.\n",
    "\n",
    "\n",
    "\n",
    "def rem_vowel(string):\n",
    "    vowels = ['a','e','i','o','u']\n",
    "    result = [letter for letter in string if letter.lower() not in vowels]\n",
    "    result = ''.join(result)\n",
    "    print(result)\n",
    "\n",
    "string = \"Learning Python \"\n",
    "rem_vowel(string)"
   ]
  },
  {
   "cell_type": "code",
   "execution_count": 14,
   "id": "1e1793bf",
   "metadata": {},
   "outputs": [
    {
     "name": "stdout",
     "output_type": "stream",
     "text": [
      "code practice to assignment solving\n"
     ]
    }
   ],
   "source": [
    "#20.Implement a function to reverse the order of words in a given sentence.\"\n",
    "\n",
    "string = \"solving assignment to practice code\"\n",
    "\n",
    "s = string.split()[::-1]\n",
    "l = []\n",
    "for i in s:\n",
    "    \n",
    "    l.append(i)\n",
    "\n",
    "print(\" \".join(l))"
   ]
  },
  {
   "cell_type": "code",
   "execution_count": 7,
   "id": "0d8dbb52",
   "metadata": {},
   "outputs": [
    {
     "name": "stdout",
     "output_type": "stream",
     "text": [
      "The strings are anagrams.\n",
      "\n",
      "The strings aren't anagrams.\n"
     ]
    }
   ],
   "source": [
    "#21. Write a Python program to check if two strings are anagrams of each other.\n",
    "\n",
    "def check(s1, s2):\n",
    "\n",
    "    if(sorted(s1)== sorted(s2)):\n",
    "        print(\"The strings are anagrams.\")\n",
    "    else:\n",
    "        print(\"The strings aren't anagrams.\")        \n",
    "        \n",
    "s1 =\"listen\"\n",
    "s2 =\"silent\"\n",
    "check(s1, s2)\n",
    "print(\"\")\n",
    "s1 =\"welcome\"\n",
    "s2 =\"silent\"\n",
    "check(s1, s2)"
   ]
  },
  {
   "cell_type": "code",
   "execution_count": 9,
   "id": "4758671c",
   "metadata": {},
   "outputs": [
    {
     "name": "stdout",
     "output_type": "stream",
     "text": [
      "First non-repeating character is b\n"
     ]
    }
   ],
   "source": [
    "#22. Implement a function to find the first non-repeating character in a string.\n",
    "\n",
    "string = \"aabcddeeffg\"\n",
    "index = -1\n",
    "fnc = \"\"\n",
    " \n",
    "if len(string) == 0 :\n",
    "  print(\"EMTPY STRING\");\n",
    " \n",
    "for i in string:\n",
    "    if string.count(i) == 1:\n",
    "        fnc += i\n",
    "        break\n",
    "    else:\n",
    "        index += 1\n",
    "if index == len(string)-1 :\n",
    "    print(\"All characters are repeating \")\n",
    "else:\n",
    "    print(\"First non-repeating character is\", fnc)"
   ]
  },
  {
   "cell_type": "code",
   "execution_count": 21,
   "id": "3432dcae",
   "metadata": {},
   "outputs": [
    {
     "name": "stdout",
     "output_type": "stream",
     "text": [
      "2 3 5 5 "
     ]
    }
   ],
   "source": [
    "#23. Write a program to find the prime factors of a given number.\n",
    "\n",
    "\n",
    "def primeFactors(n):\n",
    "\n",
    "    while n % 2 == 0:\n",
    "        print (2,end=\" \")\n",
    "        n = n / 2\n",
    "\n",
    "    for i in range(3,int(math.sqrt(n))+1,2):\n",
    "\n",
    "        while n % i== 0:\n",
    "            print (i,end=\" \")\n",
    "            n = n / i\n",
    "\n",
    "    if n > 2:\n",
    "        print (n)\n",
    "\n",
    "n = 150\n",
    "primeFactors(n)\n",
    " "
   ]
  },
  {
   "cell_type": "code",
   "execution_count": 38,
   "id": "0413847f",
   "metadata": {},
   "outputs": [
    {
     "name": "stdout",
     "output_type": "stream",
     "text": [
      "'No' Given number 31 is not a power of two\n",
      "\n",
      "'Yes' Given number 64 is power of two\n"
     ]
    }
   ],
   "source": [
    "#24. Implement a function to check if a given number is a power of two.\n",
    "\n",
    "def isPowerOfTwo(n):\n",
    "    if (n == 0):\n",
    "        return False\n",
    "    while (n != 1):\n",
    "        if (n % 2 != 0):\n",
    "            return False\n",
    "        n = n // 2\n",
    " \n",
    "    return True\n",
    " \n",
    "\n",
    "if __name__ == \"__main__\":\n",
    "    \n",
    "    num=31\n",
    " \n",
    "    if(isPowerOfTwo(num)):\n",
    "        print(\"'Yes' Given number\", num, \"is power of two\\n\" )\n",
    "    else:\n",
    "        print(\"'No' Given number\", num, \"is not a power of two\\n\")\n",
    "    num=64\n",
    "    if(isPowerOfTwo(num)):\n",
    "        print(\"'Yes' Given number\", num ,\"is power of two\" )\n",
    "    else:\n",
    "        print(\"'No' Given number\", num, \"is not a power of two\")"
   ]
  },
  {
   "cell_type": "code",
   "execution_count": 40,
   "id": "69097ab0",
   "metadata": {},
   "outputs": [
    {
     "name": "stdout",
     "output_type": "stream",
     "text": [
      " Merged Linked List is : \n",
      "2 3 5 10 15 20 40 "
     ]
    }
   ],
   "source": [
    "#25. Write a Python program to merge two sorted lists into a single sorted list.\n",
    "\n",
    "class Node:\n",
    "    def __init__(self, key):\n",
    "        self.key = key\n",
    "        self.next = None\n",
    "\n",
    "def newNode(key):\n",
    "    return Node(key)\n",
    "\n",
    "a = Node(5)\n",
    "a.next = Node(10)\n",
    "a.next.next = Node(15)\n",
    "a.next.next.next = Node(40)\n",
    " \n",
    "b = Node(2)\n",
    "b.next = Node(3)\n",
    "b.next.next = Node(20)\n",
    " \n",
    "v = []\n",
    "while(a is not None):\n",
    "    v.append(a.key)\n",
    "    a = a.next\n",
    "\n",
    "while(b is not None):\n",
    "    v.append(b.key)\n",
    "    b = b.next\n",
    "    \n",
    "v.sort()\n",
    "result = Node(-1)\n",
    "temp = result\n",
    "for i in range(len(v)):\n",
    "    result.next = Node(v[i])\n",
    "    result = result.next\n",
    "    \n",
    "temp = temp.next\n",
    "print(\" Merged Linked List is : \")\n",
    "while(temp is not None):\n",
    "    print(temp.key, end=\" \")\n",
    "    temp = temp.next"
   ]
  },
  {
   "cell_type": "code",
   "execution_count": 46,
   "id": "4a2a2f7f",
   "metadata": {},
   "outputs": [
    {
     "name": "stdout",
     "output_type": "stream",
     "text": [
      "Mode: 2\n"
     ]
    }
   ],
   "source": [
    "#26. Implement a function to find the mode of a list of numbers\n",
    "\n",
    "class Node:\n",
    "    def __init__(self, value):\n",
    "        self.data = value\n",
    "        self.next = None\n",
    "  \n",
    "  \n",
    "def findMode(head):\n",
    "    freq = {}\n",
    "    max_freq = 0\n",
    "    curr = head\n",
    "\n",
    "    while curr != None:\n",
    "        freq[curr.data] = freq.get(curr.data, 0) + 1\n",
    "        max_freq = max(max_freq, freq[curr.data])\n",
    "        curr = curr.next\n",
    "\n",
    "    curr = head\n",
    "    mode = 0\n",
    "    while curr != None:\n",
    "        if freq[curr.data] == max_freq:\n",
    "            mode = curr.data\n",
    "            break\n",
    "        curr = curr.next\n",
    "      \n",
    "    return mode\n",
    "  \n",
    "  \n",
    "if __name__ == \"__main__\":\n",
    "    head = Node(1)\n",
    "    head.next = Node(2)\n",
    "    head.next.next = Node(3)\n",
    "    head.next.next.next = Node(2)\n",
    "    head.next.next.next.next = Node(4)\n",
    "    head.next.next.next.next.next = Node(3)\n",
    "      \n",
    "    mode = findMode(head)\n",
    "    print(f\"Mode: {mode}\") "
   ]
  },
  {
   "cell_type": "code",
   "execution_count": 52,
   "id": "00e6f133",
   "metadata": {},
   "outputs": [
    {
     "name": "stdout",
     "output_type": "stream",
     "text": [
      "The gcd of 60 and 48 is : 12\n"
     ]
    }
   ],
   "source": [
    "#27. Write a program to find the greatest common divisor (GCD) of two numbers.\n",
    "\n",
    "def Find_gcd(a, b):\n",
    "    if(b == 0):\n",
    "        return a\n",
    "    else:\n",
    "        return gcd(b, a % b) \n",
    "a = 60\n",
    "b = 48 \n",
    "print(f\"The gcd of {a} and {b} is : \", end=\"\")\n",
    "print(gcd(a, b))"
   ]
  },
  {
   "cell_type": "code",
   "execution_count": 56,
   "id": "a85bf035",
   "metadata": {},
   "outputs": [
    {
     "name": "stdout",
     "output_type": "stream",
     "text": [
      "4\n",
      "3\n"
     ]
    }
   ],
   "source": [
    "#28. Implement a function to calculate the square root of a given number\n",
    "\n",
    "def Cal_Sqrt(x):\n",
    "\n",
    "    if (x == 0 or x == 1):\n",
    "        return x\n",
    "\n",
    "    start = 1\n",
    "    end = x//2\n",
    "    while (start <= end):\n",
    "        mid = (start + end) // 2\n",
    "\n",
    "        if (mid*mid == x):\n",
    "            return mid\n",
    "\n",
    "        if (mid * mid < x):\n",
    "            start = mid + 1\n",
    "            ans = mid\n",
    " \n",
    "        else:\n",
    "\n",
    "            end = mid-1\n",
    " \n",
    "    return ans\n",
    "\n",
    "x = 16\n",
    "print(Cal_Sqrt(x))\n",
    "\n",
    "x = 9\n",
    "print(Cal_Sqrt(x))"
   ]
  },
  {
   "cell_type": "code",
   "execution_count": 62,
   "id": "44f77470",
   "metadata": {},
   "outputs": [
    {
     "name": "stdout",
     "output_type": "stream",
     "text": [
      "Sentence is palindrome.\n"
     ]
    }
   ],
   "source": [
    "#29. Write a Python program to check if a given string is a valid palindrome ignoring non-alphanumeric characters.\n",
    "\n",
    "def sentencePalindrome(s):\n",
    "    l, h = 0, len(s) - 1\n",
    "    s = s.lower()\n",
    "\n",
    "    while (l <= h):\n",
    "\n",
    "        if (not(s[l] >= 'a' and s[l] <= 'z')):\n",
    "            l += 1\n",
    "\n",
    "        elif (not(s[h] >= 'a' and s[h] <= 'z')):\n",
    "            h -= 1\n",
    "\n",
    "        elif (s[l] == s[h]):\n",
    "            l += 1\n",
    "            h -= 1\n",
    "\n",
    "        else:\n",
    "            return False\n",
    "\n",
    "    return True\n",
    "\n",
    "s = \"Too hot to hoot\"\n",
    "if (sentencePalindrome(s)):\n",
    "    print (\"Sentence is palindrome.\")\n",
    "else:\n",
    "    print (\"Sentence is not palindrome.\")"
   ]
  },
  {
   "cell_type": "code",
   "execution_count": 15,
   "id": "d68ea613",
   "metadata": {},
   "outputs": [
    {
     "name": "stdout",
     "output_type": "stream",
     "text": [
      "1\n"
     ]
    }
   ],
   "source": [
    "#30. Implement a function to find the minimum element in a rotated sorted list.\n",
    "\n",
    "def findMin(arr, N):     \n",
    "    min_ele = arr[0];\n",
    "\n",
    "    for i in range(N) :\n",
    "        if arr[i] < min_ele :\n",
    "            min_ele = arr[i]\n",
    " \n",
    "    return min_ele;\n",
    "\n",
    "arr = [5, 6, 1, 2, 3, 4]\n",
    "N = len(arr)\n",
    " \n",
    "print(findMin(arr,N))"
   ]
  },
  {
   "cell_type": "code",
   "execution_count": 16,
   "id": "9b75cfef",
   "metadata": {},
   "outputs": [
    {
     "name": "stdout",
     "output_type": "stream",
     "text": [
      "The original list is : [1, 2, 3, 4, 5]\n",
      "Odd digit sum : 9\n",
      "Even digit sum : 6\n"
     ]
    }
   ],
   "source": [
    "#31.Write a program to find the sum of all even numbers in a list.\n",
    "\n",
    "test_list = [1, 2, 3, 4, 5]\n",
    " \n",
    "print(\"The original list is : \" + str(test_list)) \n",
    "odd_sum = 0\n",
    "even_sum = 0\n",
    " \n",
    "for sub in test_list:\n",
    "    for ele in str(sub):\n",
    "         \n",
    "        \n",
    "        if int(ele) % 2 == 0:\n",
    "            even_sum += int(ele)\n",
    "        else:\n",
    "            odd_sum += int(ele)\n",
    "            \n",
    "print(\"Odd digit sum : \" + str(odd_sum))\n",
    "print(\"Even digit sum : \" + str(even_sum))"
   ]
  },
  {
   "cell_type": "code",
   "execution_count": 17,
   "id": "3804bc14",
   "metadata": {},
   "outputs": [
    {
     "name": "stdout",
     "output_type": "stream",
     "text": [
      "25\n"
     ]
    }
   ],
   "source": [
    "#32.Implement a function to calculate the power of a number using recursion.\n",
    "\n",
    "def power(N, P):     \n",
    "    if P == 0:\n",
    "        return 1\n",
    " \n",
    "    \n",
    "    return (N*power(N, P-1))\n",
    " \n",
    "\n",
    "if __name__ == '__main__':\n",
    "    N = 5\n",
    "    P = 2\n",
    " \n",
    "    print(power(N, P))"
   ]
  },
  {
   "cell_type": "code",
   "execution_count": 21,
   "id": "502411d9",
   "metadata": {},
   "outputs": [
    {
     "name": "stdout",
     "output_type": "stream",
     "text": [
      "Original List:  [1, 2, 4, 2, 1, 4, 5]\n",
      "List after removing duplicate elements:  [1, 2, 4, 5]\n"
     ]
    }
   ],
   "source": [
    "#33.Write a Python program to remove duplicates from a list while preserving the order.\n",
    "\n",
    "l = [1, 2, 4, 2, 1, 4, 5]\n",
    "print(\"Original List: \", l)\n",
    "res = [*set(l)]\n",
    "print(\"List after removing duplicate elements: \", res)"
   ]
  },
  {
   "cell_type": "code",
   "execution_count": 23,
   "id": "a73361af",
   "metadata": {},
   "outputs": [
    {
     "name": "stdout",
     "output_type": "stream",
     "text": [
      "The longest Common Prefix is : good\n"
     ]
    }
   ],
   "source": [
    "#34.Implement a function to find the longest common prefix among a list of strings.\n",
    "\n",
    "def longestCommonPrefix( a):\n",
    "     \n",
    "    size = len(a)\n",
    " \n",
    "\n",
    "    if (size == 0):\n",
    "        return \"\"\n",
    " \n",
    "    if (size == 1):\n",
    "        return a[0]\n",
    " \n",
    "    \n",
    "    a.sort()\n",
    "     \n",
    "   \n",
    "    end = min(len(a[0]), len(a[size - 1]))\n",
    " \n",
    "  \n",
    "    i = 0\n",
    "    while (i < end and\n",
    "           a[0][i] == a[size - 1][i]):\n",
    "        i += 1\n",
    " \n",
    "    pre = a[0][0: i]\n",
    "    return pre\n",
    " \n",
    "\n",
    "if __name__ == \"__main__\":\n",
    " \n",
    "    input = [\"goodisgood\", \"goods\",\"good\", \"goodisbetter\"]\n",
    "    print(\"The longest Common Prefix is :\" ,longestCommonPrefix(input))"
   ]
  },
  {
   "cell_type": "code",
   "execution_count": 24,
   "id": "1ec8b8c4",
   "metadata": {},
   "outputs": [
    {
     "name": "stdout",
     "output_type": "stream",
     "text": [
      "No\n"
     ]
    }
   ],
   "source": [
    "#35.Write a program to check if a given number is a perfect square.\n",
    "\n",
    "import math\n",
    " \n",
    "def isPerfectSquare(x):\n",
    " \n",
    "    #if x >= 0,\n",
    "    if(x >= 0):\n",
    "        sr = int(math.sqrt(x))\n",
    "        return ((sr*sr) == x)\n",
    "    return false\n",
    " \n",
    " \n",
    " \n",
    "x = 231\n",
    "if (isPerfectSquare(x)):\n",
    "    print(\"Yes\")\n",
    "else:\n",
    "    print(\"No\")\n",
    " \n"
   ]
  },
  {
   "cell_type": "code",
   "execution_count": 25,
   "id": "cead0b0c",
   "metadata": {},
   "outputs": [
    {
     "name": "stdout",
     "output_type": "stream",
     "text": [
      "6\n",
      "24\n"
     ]
    }
   ],
   "source": [
    "#36.Implement a function to calculate the product of all elements in a list.\n",
    "\n",
    "def multiplyList(myList):\n",
    "    result = 1\n",
    "    for x in myList:\n",
    "        result = result * x\n",
    "    return result\n",
    " \n",
    "list1 = [1, 2, 3]\n",
    "list2 = [3, 2, 4]\n",
    "print(multiplyList(list1))\n",
    "print(multiplyList(list2))"
   ]
  },
  {
   "cell_type": "code",
   "execution_count": 26,
   "id": "d1b356a5",
   "metadata": {},
   "outputs": [
    {
     "name": "stdout",
     "output_type": "stream",
     "text": [
      "code practice to assignment solving\n"
     ]
    }
   ],
   "source": [
    "#37.Write a Python program to reverse the order of words in a sentence while preserving the word order.\n",
    "\n",
    "string = \"solving assignment to practice code\"\n",
    "\n",
    "s = string.split()[::-1]\n",
    "l = []\n",
    "for i in s:\n",
    "    \n",
    "    l.append(i)\n",
    "\n",
    "print(\" \".join(l))"
   ]
  },
  {
   "cell_type": "code",
   "execution_count": 27,
   "id": "a2e4215d",
   "metadata": {},
   "outputs": [
    {
     "name": "stdout",
     "output_type": "stream",
     "text": [
      "4\n"
     ]
    }
   ],
   "source": [
    "#38.Implement a function to find the missing number in a given list of consecutive numbers.\n",
    "\n",
    "\n",
    "def findMissing(arr, N):\n",
    "   \n",
    "    \n",
    "    temp = [0] * (N+1)\n",
    " \n",
    "    for i in range(0, N):\n",
    "        temp[arr[i] - 1] = 1\n",
    " \n",
    "    for i in range(0, N+1):\n",
    "        if(temp[i] == 0):\n",
    "            ans = i + 1\n",
    " \n",
    "    print(ans)\n",
    "    \n",
    "if __name__ == '__main__':\n",
    "    arr = [1, 2, 3, 5]\n",
    "    N = len(arr)\n",
    " \n",
    "    \n",
    "    findMissing(arr, N)"
   ]
  },
  {
   "cell_type": "code",
   "execution_count": 20,
   "id": "55576117",
   "metadata": {},
   "outputs": [
    {
     "name": "stdout",
     "output_type": "stream",
     "text": [
      "15\n"
     ]
    }
   ],
   "source": [
    "#39. Write a program to find the sum of digits of a given number.\n",
    "def getSum(n):\n",
    "    \n",
    "    sum = 0\n",
    "    for digit in str(n): \n",
    "        sum += int(digit)      \n",
    "    return sum\n",
    "   \n",
    "n = 12345\n",
    "print(getSum(n))"
   ]
  },
  {
   "cell_type": "code",
   "execution_count": 19,
   "id": "8ed67a1f",
   "metadata": {},
   "outputs": [
    {
     "name": "stdout",
     "output_type": "stream",
     "text": [
      "Yes\n"
     ]
    }
   ],
   "source": [
    "#40.Implement a function to check if a given string is a valid palindrome considering case sensitivity\n",
    "\n",
    "def isPalindrome(s):\n",
    "    return s == s[::-1]\n",
    " \n",
    "s = \"malayalam\"\n",
    "ans = isPalindrome(s)\n",
    " \n",
    "if ans:\n",
    "    print(\"Yes\")\n",
    "else:\n",
    "    print(\"No\")"
   ]
  },
  {
   "cell_type": "code",
   "execution_count": 68,
   "id": "d340311c",
   "metadata": {},
   "outputs": [
    {
     "name": "stdout",
     "output_type": "stream",
     "text": [
      "3\n",
      "4\n"
     ]
    }
   ],
   "source": [
    "#41. Write a Python program to find the smallest missing positive integer in a list.\n",
    "\n",
    "\n",
    "def solution(A): \n",
    " \n",
    "    m = max(A)  \n",
    "    if m < 1:\n",
    "\n",
    "        return 1\n",
    "    if len(A) == 1:\n",
    "\n",
    "        return 2 if A[0] == 1 else 1\n",
    "    l = [0] * m\n",
    "    for i in range(len(A)):\n",
    "        if A[i] > 0:\n",
    "            if l[A[i] - 1] != 1:\n",
    "\n",
    "                l[A[i] - 1] = 1\n",
    "    for i in range(len(l)):\n",
    "\n",
    "        if l[i] == 0:\n",
    "            return i + 1\n",
    "\n",
    "    return i + 2\n",
    " \n",
    "\n",
    "if __name__ == '__main__':\n",
    "    arr = [0, 1, 2, -1, -2]\n",
    "    print(solution(arr))\n",
    "    arr = [10,25,2,3,1]\n",
    "    print(solution(arr))"
   ]
  },
  {
   "cell_type": "code",
   "execution_count": 33,
   "id": "c3b7d98f",
   "metadata": {},
   "outputs": [
    {
     "name": "stdout",
     "output_type": "stream",
     "text": [
      "orpro\n"
     ]
    }
   ],
   "source": [
    "#42. Implement a function to find the longest palindrome substring in a given string.\n",
    "\n",
    "def longestPalin(s):\n",
    "    count = -1\n",
    "    ans = \"\"\n",
    "    n = len(s)\n",
    "    dp = [[False] * n for _ in range(n)]\n",
    "    for g in range(n):\n",
    "        for i in range(n - g):\n",
    "            j = i + g\n",
    "            if g == 0:\n",
    "                dp[i][j] = True\n",
    "            elif g == 1:\n",
    "                if s[i] == s[j]:\n",
    "                    dp[i][j] = True\n",
    "                else:\n",
    "                    dp[i][j] = False\n",
    "            else:\n",
    "                if s[i] == s[j] and dp[i + 1][j - 1] == True:\n",
    "                    dp[i][j] = True\n",
    "                else:\n",
    "                    dp[i][j] = False\n",
    "            if dp[i][j] == True and count < len(s[i:j + 1]):\n",
    "                ans = s[i:j + 1]\n",
    "                count = len(ans)\n",
    "    return ans\n",
    "\n",
    "str = \"forproblemsloving\"\n",
    "print(longestPalin(str))\n"
   ]
  },
  {
   "cell_type": "code",
   "execution_count": 35,
   "id": "b1707a7b",
   "metadata": {},
   "outputs": [
    {
     "name": "stdout",
     "output_type": "stream",
     "text": [
      "10 has occurred 2 times\n"
     ]
    }
   ],
   "source": [
    "#43. Write a program to find the number of occurrences of a given element in a list.\n",
    "\n",
    "def countX(lst, x):\n",
    "    count = 0\n",
    "    for ele in lst:\n",
    "        if (ele == x):\n",
    "            count = count + 1\n",
    "    return count\n",
    "\n",
    "lst = [8, 6, 8, 10, 8, 20, 10, 8, 8]\n",
    "x = 10\n",
    "print('{} has occurred {} times'.format(x,countX(lst, x)))"
   ]
  },
  {
   "cell_type": "code",
   "execution_count": 42,
   "id": "15eab165",
   "metadata": {},
   "outputs": [
    {
     "name": "stdout",
     "output_type": "stream",
     "text": [
      "6 is a Perfect Number\n"
     ]
    }
   ],
   "source": [
    "#44. Implement a function to check if a given number is a perfect number.\n",
    "\n",
    "num = 6\n",
    "sum = 0\n",
    "\n",
    "for i in range(1, num):\n",
    "    if num % i == 0:\n",
    "        sum += i\n",
    "\n",
    "if sum == num:\n",
    "    print(num, \"is a Perfect Number\")\n",
    "else:\n",
    "    print(num, \"is not a Perfect Number\")\n"
   ]
  },
  {
   "cell_type": "code",
   "execution_count": 66,
   "id": "95379cd2",
   "metadata": {},
   "outputs": [
    {
     "name": "stdout",
     "output_type": "stream",
     "text": [
      "bacd\n"
     ]
    }
   ],
   "source": [
    "#45. Write a Python program to remove all duplicates from a string.\n",
    "\n",
    "from collections import OrderedDict\n",
    "def solve(s):\n",
    "   d = OrderedDict()\n",
    "   for c in s:\n",
    "      if c not in d:\n",
    "         d[c] = 0\n",
    "      d[c] += 1\n",
    "\n",
    "   return ''.join(d.keys())\n",
    "\n",
    "s = \"bbabcaaccdbaabababc\"\n",
    "print(solve(s))"
   ]
  },
  {
   "cell_type": "code",
   "execution_count": 71,
   "id": "00cec12e",
   "metadata": {},
   "outputs": [
    {
     "name": "stdout",
     "output_type": "stream",
     "text": [
      "3\n"
     ]
    }
   ],
   "source": [
    "#46. Implement a function to find the first missing positive\n",
    "\n",
    "def solution(A): \n",
    " \n",
    "    m = max(A)  \n",
    "    if m < 1:\n",
    "\n",
    "        return 1\n",
    "    if len(A) == 1:\n",
    "\n",
    "        return 2 if A[0] == 1 else 1\n",
    "    l = [0] * m\n",
    "    for i in range(len(A)):\n",
    "        if A[i] > 0:\n",
    "            if l[A[i] - 1] != 1:\n",
    "\n",
    "                l[A[i] - 1] = 1\n",
    "    for i in range(len(l)):\n",
    "\n",
    "        if l[i] == 0:\n",
    "            return i + 1\n",
    "\n",
    "    return i + 2\n",
    " \n",
    "\n",
    "if __name__ == '__main__':\n",
    "    arr = [1,2,4,5,7,8]\n",
    "    print(solution(arr))\n"
   ]
  },
  {
   "cell_type": "code",
   "execution_count": null,
   "id": "6d17c20a",
   "metadata": {},
   "outputs": [],
   "source": []
  }
 ],
 "metadata": {
  "kernelspec": {
   "display_name": "Python 3 (ipykernel)",
   "language": "python",
   "name": "python3"
  },
  "language_info": {
   "codemirror_mode": {
    "name": "ipython",
    "version": 3
   },
   "file_extension": ".py",
   "mimetype": "text/x-python",
   "name": "python",
   "nbconvert_exporter": "python",
   "pygments_lexer": "ipython3",
   "version": "3.10.9"
  }
 },
 "nbformat": 4,
 "nbformat_minor": 5
}
