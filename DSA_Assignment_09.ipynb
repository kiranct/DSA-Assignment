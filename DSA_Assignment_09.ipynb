{
 "cells": [
  {
   "cell_type": "raw",
   "id": "ce1d1c97",
   "metadata": {},
   "source": [
    "1).Given an integer `n`, return `true` if it is a power of two. Otherwise, return `false`.\n",
    "    An integer `n` is a power of two, if there exists an integer `x` such that `n == 2x`.\n",
    "\n",
    "Example 1:\n",
    "            Input: n = 1 \n",
    "                Output: true\n",
    "Example 2:\n",
    "            Input: n = 16 \n",
    "                Output: true\n",
    "Example 3:\n",
    "            Input: n = 3 \n",
    "                Output: false\n"
   ]
  },
  {
   "cell_type": "code",
   "execution_count": 9,
   "id": "52cfe08a",
   "metadata": {},
   "outputs": [
    {
     "name": "stdout",
     "output_type": "stream",
     "text": [
      "True\n",
      "True\n",
      "False\n"
     ]
    }
   ],
   "source": [
    "def powerof2(n):\n",
    "    if n == 1:\n",
    "        return True\n",
    " \n",
    "    elif n % 2 != 0 or n == 0:\n",
    "        return False\n",
    "    \n",
    "    return powerof2(n/2)\n",
    " \n",
    "if __name__ == \"__main__\":\n",
    " \n",
    "    print(powerof2(1))\n",
    "    print(powerof2(16)) \n",
    "    print(powerof2(3))  "
   ]
  },
  {
   "cell_type": "raw",
   "id": "38f2e541",
   "metadata": {},
   "source": [
    "2). Given a number n, find the sum of the first natural numbers.\n",
    "\n",
    "Example 1:\n",
    "        Input: n = 3 \n",
    "                Output: 6\n",
    "Example 2:\n",
    "        Input  : 5 \n",
    "                Output : 15"
   ]
  },
  {
   "cell_type": "code",
   "execution_count": 12,
   "id": "865cc54b",
   "metadata": {},
   "outputs": [
    {
     "name": "stdout",
     "output_type": "stream",
     "text": [
      "n:  3\n",
      "Sum of first  3  natural numbers:  6\n",
      "n:  15\n",
      "Sum of first  15  natural numbers:  120\n"
     ]
    }
   ],
   "source": [
    "def findSum(n):\n",
    "    if n<=1:\n",
    "        return n\n",
    "    else:\n",
    "        return n + findSum(n-1)\n",
    "\n",
    "n = 3\n",
    "print(\"n: \", n)\n",
    "print(\"Sum of first \", n, \" natural numbers: \", findSum(n))\n",
    "\n",
    "n = 15\n",
    "print(\"n: \", n)\n",
    "print(\"Sum of first \", n, \" natural numbers: \", findSum(n))\n",
    "\n"
   ]
  },
  {
   "cell_type": "raw",
   "id": "880231fd",
   "metadata": {},
   "source": [
    "3).Given a positive integer, N. Find the factorial of N. \n",
    "\n",
    "Example 1:\n",
    "        Input: N = 5 \n",
    "                Output: 120\n",
    "Example 2:\n",
    "        Input: N = 4\n",
    "                Output: 24"
   ]
  },
  {
   "cell_type": "code",
   "execution_count": 22,
   "id": "5d022374",
   "metadata": {},
   "outputs": [
    {
     "name": "stdout",
     "output_type": "stream",
     "text": [
      "N :  5\n",
      "Factorial :  120\n",
      "N :  4\n",
      "Factorial :  24\n"
     ]
    }
   ],
   "source": [
    "def factorial(n):\n",
    "    if (n==1 or n==0):  \n",
    "        return 1\n",
    "    else:\n",
    "         \n",
    "        return (n * factorial(n - 1))\n",
    "num = 5;\n",
    "print(\"N : \",num)\n",
    "print(\"Factorial : \",factorial(num))\n",
    "num = 4;\n",
    "print(\"N : \",num)\n",
    "print(\"Factorial : \",factorial(num))"
   ]
  },
  {
   "cell_type": "raw",
   "id": "8d7306a8",
   "metadata": {},
   "source": [
    "# 4). Given a number N and a power P, the task is to find the exponent of this number raised to the given power, i.e. N^P.\n",
    "\n",
    "Example 1 :\n",
    "    Input: N = 5, P = 2\n",
    "                    Output: 25\n",
    "Example 2 :\n",
    "    Input: N = 2, P = 5\n",
    "                    Output: 32"
   ]
  },
  {
   "cell_type": "code",
   "execution_count": 17,
   "id": "1beb9c4c",
   "metadata": {},
   "outputs": [
    {
     "name": "stdout",
     "output_type": "stream",
     "text": [
      "25\n",
      " \n",
      "32\n"
     ]
    }
   ],
   "source": [
    "def power(N, P):\n",
    "    if P == 0:\n",
    "        return 1\n",
    "    return (N*power(N, P-1))\n",
    " \n",
    "if __name__ == '__main__':\n",
    "    N = 5\n",
    "    P = 2\n",
    "    print(power(N, P))\n",
    "    print(\" \")\n",
    "    N = 2\n",
    "    P = 5\n",
    "    print(power(N, P))"
   ]
  },
  {
   "cell_type": "raw",
   "id": "e181d8c2",
   "metadata": {},
   "source": [
    "5).Given first term (a), common difference (d) and a integer N of the Arithmetic Progression series, the task is to find Nth term of the series.\n",
    "\n",
    "Example 1:\n",
    "        Input : a = 2 d = 1 N = 5\n",
    "        Output : 6\n",
    "        The 5th term of the series is : 6\n",
    "Example 2:\n",
    "        Input : a = 5 d = 2 N = 10\n",
    "        Output : 23\n",
    "        The 10th term of the series is : 23"
   ]
  },
  {
   "cell_type": "code",
   "execution_count": 25,
   "id": "a0007187",
   "metadata": {},
   "outputs": [
    {
     "name": "stdout",
     "output_type": "stream",
     "text": [
      "The  5 th term of the series is :  6\n",
      "The  10 th term of the series is :  23\n"
     ]
    }
   ],
   "source": [
    "def Nth_of_AP(A, D, N) :\n",
    "    return (A + (N - 1) * D)\n",
    "      \n",
    "A = 2  \n",
    "D = 1  \n",
    "N = 5\n",
    "print( \"The \", N ,\"th term of the series is : \",\n",
    "       Nth_of_AP(A, D, N))\n",
    "\n",
    "A = 5  \n",
    "D = 2  \n",
    "N = 10\n",
    "print( \"The \", N ,\"th term of the series is : \",\n",
    "       Nth_of_AP(A, D, N))"
   ]
  },
  {
   "cell_type": "raw",
   "id": "f3913895",
   "metadata": {},
   "source": [
    "7).Given a string S, the task is to write a program to print all permutations of a given string.\n",
    "\n",
    "Example 1:\n",
    "    Input: S = “ABC”\n",
    "Output:\n",
    "        “ABC”, “ACB”, “BAC”, “BCA”, “CBA”, “CAB”\n",
    "Example 2:\n",
    "    Input: S = “XY”\n",
    "    Output\n",
    "            “XY”, “YX”"
   ]
  },
  {
   "cell_type": "code",
   "execution_count": 2,
   "id": "e398ee57",
   "metadata": {},
   "outputs": [
    {
     "name": "stdout",
     "output_type": "stream",
     "text": [
      "ABC\n",
      "ACB\n",
      "BAC\n",
      "BCA\n",
      "CBA\n",
      "CAB\n",
      "None\n",
      "XY\n",
      "YX\n",
      "None\n"
     ]
    }
   ],
   "source": [
    "def get_permutation(string, i=0):\n",
    "\n",
    "    if i == len(string):   \t \n",
    "        print(\"\".join(string))\n",
    "\n",
    "    for j in range(i, len(string)):\n",
    "\n",
    "        words = [c for c in string]\n",
    "   \n",
    "        words[i], words[j] = words[j], words[i]\n",
    "   \n",
    "        get_permutation(words, i + 1 )\n",
    "\n",
    "print(get_permutation('ABC'))\n",
    "print(get_permutation('XY'))"
   ]
  },
  {
   "cell_type": "raw",
   "id": "c68f6bb7",
   "metadata": {},
   "source": [
    "8).Given an array, find a product of all array elements.\n",
    "\n",
    "Example 1:\n",
    "        Input  : arr[] = {1, 2, 3, 4, 5}\n",
    "        Output : 120\n",
    "Example 2:\n",
    "Input  : arr[] = {1, 6, 3}\n",
    "Output : 18"
   ]
  },
  {
   "cell_type": "code",
   "execution_count": 40,
   "id": "f9bbc12e",
   "metadata": {},
   "outputs": [
    {
     "name": "stdout",
     "output_type": "stream",
     "text": [
      "EX 1 Array :\n",
      "1 2 3 4 5 \n",
      "Output =  120\n",
      "  \n",
      "EX 2 Array :\n",
      "1 6 3 \n",
      "Output =  18\n"
     ]
    }
   ],
   "source": [
    "def findProduct(arr, n):\n",
    "    if n == 0:\n",
    "        return(arr[n])\n",
    "    else:\n",
    "        return (arr[n] * findProduct(arr, n - 1))\n",
    "\n",
    "def printListElements(arr, size):\n",
    "    for i in range(size):\n",
    "        print(arr[i], end=\" \")\n",
    "    print()\n",
    "\n",
    "arr = [1, 2, 3, 4, 5]\n",
    "print(\"EX 1 Array :\")\n",
    "printListElements(arr, size)\n",
    "print(\"Output = \" ,findProduct(arr, size-1))\n",
    "print(\"  \")\n",
    "arr = [1, 6,3]\n",
    "size = len(arr)\n",
    "print(\"EX 2 Array :\")\n",
    "printListElements(arr, size)\n",
    "print(\"Output = \" ,findProduct(arr, size-1))\n",
    "\n"
   ]
  },
  {
   "cell_type": "code",
   "execution_count": null,
   "id": "f4459c8e",
   "metadata": {},
   "outputs": [],
   "source": []
  },
  {
   "cell_type": "code",
   "execution_count": null,
   "id": "4c309ea9",
   "metadata": {},
   "outputs": [],
   "source": []
  }
 ],
 "metadata": {
  "kernelspec": {
   "display_name": "Python 3 (ipykernel)",
   "language": "python",
   "name": "python3"
  },
  "language_info": {
   "codemirror_mode": {
    "name": "ipython",
    "version": 3
   },
   "file_extension": ".py",
   "mimetype": "text/x-python",
   "name": "python",
   "nbconvert_exporter": "python",
   "pygments_lexer": "ipython3",
   "version": "3.10.9"
  }
 },
 "nbformat": 4,
 "nbformat_minor": 5
}
