{
 "cells": [
  {
   "cell_type": "code",
   "execution_count": null,
   "id": "0ea319d1",
   "metadata": {},
   "outputs": [],
   "source": [
    "1).Merge Intervals\n",
    "    Given an array of `intervals` where `intervals[i] = [starti, endi]`, merge all overlapping intervals, and return an array \n",
    "    of the non-overlapping intervals that cover all the intervals in the input.\n",
    "Example 1:\n",
    "        Input: intervals = [[1,3],[2,6],[8,10],[15,18]]\n",
    "        Output: [[1,6],[8,10],[15,18]]\n",
    "Example 2:\n",
    "        Input: intervals = [[1,4],[4,5]]\n",
    "        Output: [[1,5]]"
   ]
  },
  {
   "cell_type": "code",
   "execution_count": 10,
   "id": "bb1223bc",
   "metadata": {},
   "outputs": [
    {
     "name": "stdout",
     "output_type": "stream",
     "text": [
      "The Merged Intervals are : [1, 6] [8, 10] [15, 18]  \n",
      " \n",
      "The Merged Intervals are : [1, 5] "
     ]
    }
   ],
   "source": [
    "def mergeIntervals(arr):\n",
    "\n",
    "    arr.sort(key=lambda x: x[0])\n",
    "\n",
    "    index = 0\n",
    "\n",
    "    for i in range(1, len(arr)):\n",
    "\n",
    "        if (arr[index][1] >= arr[i][0]):\n",
    "            arr[index][1] = max(arr[index][1], arr[i][1])\n",
    "        else:\n",
    "            index = index + 1\n",
    "            arr[index] = arr[i]\n",
    " \n",
    "    print(\"The Merged Intervals are :\", end=\" \")\n",
    "    for i in range(index+1):\n",
    "        print(arr[i], end=\" \")\n",
    "\n",
    "arr = [[1,3],[2,6],[8,10],[15,18]]\n",
    "mergeIntervals(arr)\n",
    "print( \" \")\n",
    "print(\" \")\n",
    "arr = [[1,4],[4,5]]\n",
    "mergeIntervals(arr)"
   ]
  },
  {
   "cell_type": "code",
   "execution_count": null,
   "id": "175d404f",
   "metadata": {},
   "outputs": [],
   "source": [
    "2).Sort Colors\n",
    "    Given an array `nums` with `n` objects colored red, white, or blue, sort them [in-place](https://en.wikipedia.org/wiki/\n",
    "    In-place_algorithm) so that objects of the same color are adjacent, with the colors in the order red, white, and blue.\n",
    "    We will use the integers `0`, `1`, and `2` to represent the color red, white, and blue, respectively.\n",
    "    You must solve this problem without using the library's sort function.\n",
    "\n",
    "Example 1:\n",
    "        Input: nums = [2,0,2,1,1,0]\n",
    "        Output: [0,0,1,1,2,2]\n",
    "Example 2: \n",
    "        Input: nums = [2,0,1]\n",
    "        Output: [0,1,2]"
   ]
  },
  {
   "cell_type": "code",
   "execution_count": 16,
   "id": "2d4dca53",
   "metadata": {},
   "outputs": [
    {
     "name": "stdout",
     "output_type": "stream",
     "text": [
      "0 0 1 1 2 2  \n",
      "0 1 2 "
     ]
    }
   ],
   "source": [
    "def sort(a, arr_size):\n",
    "    lo = 0\n",
    "    hi = arr_size - 1\n",
    "    mid = 0\n",
    "\n",
    "    while mid <= hi:\n",
    "\n",
    "        if a[mid] == 0:\n",
    "            a[lo], a[mid] = a[mid], a[lo]\n",
    "            lo = lo + 1\n",
    "            mid = mid + 1\n",
    "            \n",
    "        elif a[mid] == 1:\n",
    "            mid = mid + 1\n",
    "\n",
    "        else:\n",
    "            a[mid], a[hi] = a[hi], a[mid]\n",
    "            hi = hi - 1\n",
    "    return a\n",
    "  \n",
    "def printArray(a):\n",
    "    for k in a:\n",
    "        print(k, end=' ')\n",
    "\n",
    "arr = [2,0,2,1,1,0]\n",
    "arr_size = len(arr)\n",
    "arr = sort(arr, arr_size)\n",
    "printArray(arr)\n",
    "print(\" \")\n",
    "arr = [2,0,1]\n",
    "arr_size = len(arr)\n",
    "arr = sort(arr, arr_size)\n",
    "printArray(arr)"
   ]
  },
  {
   "cell_type": "code",
   "execution_count": null,
   "id": "3391c35e",
   "metadata": {},
   "outputs": [],
   "source": [
    "3).First Bad Version Solution\n",
    "    You are a product manager and currently leading a team to develop a new product. Unfortunately, the latest version of your \n",
    "    product fails the quality check. Since each version is developed based on the previous version, all the versions after a \n",
    "    bad version are also bad.\n",
    "    Suppose you have `n` versions `[1, 2, ..., n]` and you want to find out the first bad one, which causes all the following \n",
    "    ones to be bad.\n",
    "    You are given an API `bool isBadVersion(version)` which returns whether `version` is bad. Implement a function to find the\n",
    "    first bad version. You should minimize the number of calls to the API.\n",
    "Example 1:\n",
    "        Input: n = 5, bad = 4\n",
    "        Output: 4\n",
    "Example 2:           \n",
    "        Input: n = 1, bad = 1\n",
    "        Output: 1\n",
    "\n",
    "\n"
   ]
  },
  {
   "cell_type": "code",
   "execution_count": 35,
   "id": "784de0ef",
   "metadata": {},
   "outputs": [
    {
     "name": "stdout",
     "output_type": "stream",
     "text": [
      "4\n",
      " \n",
      "1\n"
     ]
    }
   ],
   "source": [
    "first_bad=0\n",
    "def Badversion(ver):\n",
    "    if ver >= first_bad:\n",
    "        return True\n",
    "    return False\n",
    "class Version:\n",
    "    def firstbadversion(self,n):\n",
    "        if n < 2:\n",
    "            return n\n",
    "        start = 1\n",
    "        end = n\n",
    "        while(start <= end):\n",
    "            mid =(start + end)//2\n",
    "            if Badversion(mid) and not Badversion(mid-1):\n",
    "                return mid\n",
    "            elif Badversion(mid-1):\n",
    "                end = mid-1\n",
    "            else:\n",
    "                start =mid+1\n",
    "ob=Version()\n",
    "first_bad = 4\n",
    "op = ob.firstbadversion(5)\n",
    "print(op)\n",
    "print(\" \")\n",
    "first_bad = 1\n",
    "op = ob.firstbadversion(1)\n",
    "print(op)"
   ]
  },
  {
   "cell_type": "code",
   "execution_count": null,
   "id": "aa2e8fbe",
   "metadata": {},
   "outputs": [],
   "source": [
    "4). Maximum Gap\n",
    "    Given an integer array `nums`, return the maximum difference between two successive elements in its sorted form. If the \n",
    "    array contains less than two elements, return `0`.\n",
    "    You must write an algorithm that runs in linear time and uses linear extra space.\n",
    "Example 1:\n",
    "        Input: nums = [3,6,9,1]\n",
    "        Output: 3\n",
    "        Explanation: The sorted form of the array is [1,3,6,9], either (3,6) or (6,9) has the maximum difference 3.\n",
    "Example 2:\n",
    "        Input: nums = [10]\n",
    "        Output: 0\n",
    "        Explanation: The array contains less than 2 elements, therefore return 0.\n"
   ]
  },
  {
   "cell_type": "code",
   "execution_count": 5,
   "id": "0ea80ec9",
   "metadata": {},
   "outputs": [
    {
     "name": "stdout",
     "output_type": "stream",
     "text": [
      "3\n",
      " \n",
      "0\n"
     ]
    }
   ],
   "source": [
    "class Solution:\n",
    "    def maximumGap(self, nums: list[int]) -> int:\n",
    "        n = len(nums)\n",
    "        if n < 2:\n",
    "            return 0\n",
    "        mini = min(nums)\n",
    "        maxi = max(nums)\n",
    "        gap = (maxi - mini) // (n - 1)\n",
    "        if gap == 0:\n",
    "            gap += 1\n",
    "        length = (maxi - mini) // gap + 1\n",
    "        tmax = [0] * length\n",
    "        tmin = [0] * length\n",
    "        for i in range(n):\n",
    "            index = (nums[i] - mini) // gap\n",
    "            if nums[i] > tmax[index]:\n",
    "                tmax[index] = nums[i]\n",
    "            if tmin[index] == 0 or nums[i] < tmin[index]:\n",
    "                tmin[index] = nums[i]\n",
    "        myMax = 0\n",
    "        for i in range(length):\n",
    "            if myMax < tmin[i] - mini:\n",
    "                myMax = tmin[i] - mini\n",
    "            if tmax[i] != 0:\n",
    "                mini = tmax[i]\n",
    "        return myMax\n",
    "\n",
    "arr = [3,6,9,1]\n",
    "ans = Solution().maximumGap(arr)\n",
    "print(ans)\n",
    "print(\" \")\n",
    "arr = [10]\n",
    "ans = Solution().maximumGap(arr)\n",
    "print(ans)\n"
   ]
  },
  {
   "cell_type": "code",
   "execution_count": null,
   "id": "6d07373b",
   "metadata": {},
   "outputs": [],
   "source": [
    "5).Contains Duplicate\n",
    "    Given an integer array `nums`, return `true` if any value appears at least twice in the array, and return `false` if every \n",
    "    element is distinct.\n",
    "Example 1:\n",
    "        Input: nums = [1,2,3,1]\n",
    "        Output: true\n",
    "Example 2:\n",
    "    Input: nums = [1,2,3,4]\n",
    "    Output: false\n",
    "\n",
    "Example 3:\n",
    "    Input: nums = [1,1,1,3,3,4,3,2,4,2]\n",
    "    Output: true\n",
    "\n"
   ]
  },
  {
   "cell_type": "code",
   "execution_count": 49,
   "id": "c73719bd",
   "metadata": {},
   "outputs": [
    {
     "name": "stdout",
     "output_type": "stream",
     "text": [
      "True\n",
      " \n",
      "False\n",
      " \n",
      "True\n"
     ]
    }
   ],
   "source": [
    "class Solution:  \n",
    "    def solution(self, list1):  \n",
    "        list1.sort()  \n",
    "        for i in range(1, len(list1)):  \n",
    "            for j in range(0, i):  \n",
    "                if list1[i] == list1[i-1]:  \n",
    "                    return True  \n",
    "            return False  \n",
    "obj = Solution()                 \n",
    "list1 = [1, 2, 3, 1]  \n",
    "print(obj.solution(list1)) \n",
    "print(\" \")\n",
    "list1 = [1, 2, 3, 4]  \n",
    "print(obj.solution(list1)) \n",
    "print(\" \")\n",
    "list1 = [1,1,1,3,3,4,3,2,4,2]  \n",
    "print(obj.solution(list1)) "
   ]
  },
  {
   "cell_type": "code",
   "execution_count": null,
   "id": "79609073",
   "metadata": {},
   "outputs": [],
   "source": [
    "6).Minimum Number of Arrows to Burst Balloons\n",
    "    There are some spherical balloons taped onto a flat wall that represents the XY-plane. The balloons are represented as a \n",
    "    2D integer array `points` where `points[i] = [xstart, xend]` denotes a balloon whose horizontal diameter stretches between\n",
    "    `xstart` and `xend`. You do not know the exact y-coordinates of the balloons.\n",
    "    Arrows can be shot up directly vertically (in the positive y-direction) from different points along the x-axis.\n",
    "    A balloon with `xstart` and `xend` is burst by an arrow shot at `x` if `xstart <= x <= xend`. There is no limit to the\n",
    "    number of arrows that can be shot. A shot arrow keeps traveling up infinitely, bursting any balloons in its path.\n",
    "    Given the array `points`, return the minimum number of arrows that must be shot to burst all balloons.\n",
    "Example 1:\n",
    "        Input: points = [[10,16],[2,8],[1,6],[7,12]]\n",
    "        Output: 2\n",
    "Example 2:\n",
    "        Input: points = [[1,2],[3,4],[5,6],[7,8]]\n",
    "        Output: 4"
   ]
  },
  {
   "cell_type": "code",
   "execution_count": 51,
   "id": "79694fde",
   "metadata": {},
   "outputs": [
    {
     "name": "stdout",
     "output_type": "stream",
     "text": [
      "2\n",
      " \n",
      "4\n"
     ]
    }
   ],
   "source": [
    "def minArrows(points):\n",
    "    points = sorted(points,  key = lambda x:x[1])\n",
    "\n",
    "    end = points[0][1];\n",
    "\n",
    "    arrow = 1;\n",
    "\n",
    "    for i in range (1, len(points)) :\n",
    "\n",
    "        if (points[i][0] <= end) :\n",
    "            continue;\n",
    "\n",
    "        else :\n",
    "\n",
    "            end = points[i][1]       \n",
    "            arrow = arrow + 1\n",
    "\n",
    "    return arrow;\n",
    "\n",
    "points = [[10, 16 ], [ 2, 8 ], [1, 6 ], [ 7, 12 ]]\n",
    "print(minArrows(points))\n",
    "print(\" \")\n",
    "points = [[1,2],[3,4],[5,6],[7,8]]\n",
    "print(minArrows(points))"
   ]
  },
  {
   "cell_type": "code",
   "execution_count": null,
   "id": "51e740bc",
   "metadata": {},
   "outputs": [],
   "source": [
    "7).Longest Increasing Subsequence\n",
    "    Given an integer array `nums`, return the length of the longest strictly increasing subsequence.\n",
    "\n",
    "Example 1:\n",
    "        Input: nums = [10,9,2,5,3,7,101,18]\n",
    "        Output: 4\n",
    "        Explanation: The longest increasing subsequence is [2,3,7,101], therefore the length is 4.\n",
    "Example 2:\n",
    "        Input: nums = [0,1,0,3,2,3]\n",
    "        Output: 4\n",
    "Example 3:\n",
    "        Input: nums = [7,7,7,7,7,7,7]\n",
    "        Output: 1\n",
    "\n",
    "\n"
   ]
  },
  {
   "cell_type": "code",
   "execution_count": 10,
   "id": "3f2487bc",
   "metadata": {},
   "outputs": [
    {
     "name": "stdout",
     "output_type": "stream",
     "text": [
      "Length of LIS is 4\n",
      " \n",
      "Length of LIS is 4\n",
      " \n",
      "Length of LIS is 1\n"
     ]
    }
   ],
   "source": [
    "def lengthOfLIS(nums):\n",
    "    n = len(nums)\n",
    "    ans = []\n",
    "    ans.append(nums[0])\n",
    "    for i in range(1, n):\n",
    "        if nums[i] > ans[-1]:\n",
    "            ans.append(nums[i])\n",
    "        else:\n",
    "            low = bisect_left(ans, nums[i])\n",
    "            ans[low] = nums[i]\n",
    "    return len(ans)\n",
    "\n",
    "nums = [10,9,2,5,3,7,101,18]\n",
    "print(\"Length of LIS is\", lengthOfLIS(nums))\n",
    "print(\" \")\n",
    "nums = [0,1,0,3,2,3]\n",
    "print(\"Length of LIS is\", lengthOfLIS(nums))\n",
    "print(\" \")\n",
    "nums = [7,7,7,7,7,7,7]\n",
    "print(\"Length of LIS is\", lengthOfLIS(nums))\n",
    "\n"
   ]
  },
  {
   "cell_type": "code",
   "execution_count": null,
   "id": "fe88d54a",
   "metadata": {},
   "outputs": [],
   "source": [
    "8).132 Pattern\n",
    "    Given an array of n integers nums, a 132 pattern is a subsequence of three integers nums[i], nums[j] and nums[k] such that\n",
    "    i < j < k and nums[i] < nums[k] < nums[j].\n",
    "    Return true if there is a 132 pattern in nums, otherwise, return false.\n",
    "\n",
    "Example 1:\n",
    "        Input: nums = [1,2,3,4]\n",
    "        Output: false\n",
    "        Explanation: There is no 132 pattern in the sequence.\n",
    "Example 2:\n",
    "        Input: nums = [3,1,4,2]\n",
    "        Output: true\n",
    "        Explanation: There is a 132 pattern in the sequence: [1, 4, 2].\n",
    "Example 3:\n",
    "        Input: nums = [-1,3,2,0]\n",
    "        Output: true\n",
    "        Explanation: There are three 132 patterns in the sequence: [-1, 3, 2], [-1, 3, 0] and [-1, 2, 0].\n",
    "\n"
   ]
  },
  {
   "cell_type": "code",
   "execution_count": 21,
   "id": "8dddc51a",
   "metadata": {},
   "outputs": [
    {
     "name": "stdout",
     "output_type": "stream",
     "text": [
      "False\n",
      " \n",
      "True\n"
     ]
    }
   ],
   "source": [
    "def recreationalSpot(arr: List[int], n: int) -> bool:\n",
    "    small = []\n",
    "    min1 = arr[0]\n",
    "    for i in range(n):\n",
    "        if min1 >= arr[i]:\n",
    "            min1 = arr[i]\n",
    "            small.append(-1)\n",
    "        else:\n",
    "            small.append(min1)\n",
    "    s = []\n",
    "    for i in range(n - 1, 0, -1):\n",
    "        while s and s[-1] <= small[i]:\n",
    "            s.pop()\n",
    "        if s and small[i] != -1 and s[-1] < arr[i]:\n",
    "            return True\n",
    "        s.append(arr[i])\n",
    "    return False\n",
    "\n",
    "arr = [1,2,3,4]\n",
    "N = len(arr)\n",
    "if recreationalSpot(arr, N):\n",
    "    print(\"True\")\n",
    "else:\n",
    "    print(\"False\")\n",
    "print(\" \")\n",
    "arr = [3,1,4,2]\n",
    "if recreationalSpot(arr, N):\n",
    "    print(\"True\")\n",
    "else:\n",
    "    print(\"False\")\n"
   ]
  },
  {
   "cell_type": "code",
   "execution_count": null,
   "id": "ecbf4d11",
   "metadata": {},
   "outputs": [],
   "source": []
  }
 ],
 "metadata": {
  "kernelspec": {
   "display_name": "Python 3 (ipykernel)",
   "language": "python",
   "name": "python3"
  },
  "language_info": {
   "codemirror_mode": {
    "name": "ipython",
    "version": 3
   },
   "file_extension": ".py",
   "mimetype": "text/x-python",
   "name": "python",
   "nbconvert_exporter": "python",
   "pygments_lexer": "ipython3",
   "version": "3.10.9"
  }
 },
 "nbformat": 4,
 "nbformat_minor": 5
}
